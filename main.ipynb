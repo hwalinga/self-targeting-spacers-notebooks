{
 "cells": [
  {
   "cell_type": "markdown",
   "metadata": {},
   "source": [
    "## Important sections\n",
    "If you want a subset of a data (for example a certain species) change the code [here](#Query-specific-information)\n",
    "\n",
    "**NB.** To run the whole notebook at once: Click on the >> symbol above in the application ribbon."
   ]
  },
  {
   "cell_type": "markdown",
   "metadata": {},
   "source": [
    "# Change the folder where all the data on your computer is, here:\n",
    "For this notebook you need the following files, they need to be in that directory:\n",
    " * `gene.matched.tsv.smallarraycheck.csv` (Unpatched) OR `hits.tsv.header.cvs` (Patched; this is the default based on has_header == True)\n",
    " * `genome.types.csv`\n",
    " * `all_spacers.fna`\n",
    " * `spacers.info.csv`\n",
    " * `genome_meta.csv`\n",
    " \n",
    "For the Plot_on_genome notebook you additional need \n",
    " * `phages.coords.csv`\n",
    " * `contig_metadata_patric_genomes.csv`"
   ]
  },
  {
   "cell_type": "code",
   "execution_count": 1,
   "metadata": {},
   "outputs": [],
   "source": [
    "# This is where you set the directory with all the data. \n",
    "data_folder = '/home/hielke/bep/res/'"
   ]
  },
  {
   "cell_type": "markdown",
   "metadata": {},
   "source": [
    "# SETUP: GLOBALS AND GENERAL UTILS\n",
    "Here globally used imports are made and certain usefull variables and functions for plotting initialized."
   ]
  },
  {
   "cell_type": "code",
   "execution_count": 2,
   "metadata": {},
   "outputs": [],
   "source": [
    "import pandas as pd\n",
    "from matplotlib import pyplot as plt\n",
    "import matplotlib as mpl\n",
    "import seaborn as sns\n",
    "import numpy as np\n",
    "from scipy import stats\n",
    "import statsmodels as sm\n",
    "# %matplotlib inline\n",
    "pd.options.display.max_columns = None\n",
    "def increase_figsize(N, plt=plt):\n",
    "    params = plt.gcf() if type(plt) is type(pd) else plt\n",
    "    axes = params.get_axes()\n",
    "    plSize = params.get_size_inches()\n",
    "    params.set_size_inches((plSize[0]*N, plSize[1]*N))\n",
    "def increase_size_by(N, fontsize, plt=plt):\n",
    "    params = plt.gcf() if type(plt) is type(pd) else plt\n",
    "    axes = params.get_axes()\n",
    "    plSize = params.get_size_inches()\n",
    "    params.set_size_inches((plSize[0]*N, plSize[1]*N))\n",
    "    for ax in axes:\n",
    "        for item in ([ax.title, ax.xaxis.label, ax.yaxis.label] +\n",
    "                ax.get_xticklabels() + ax.get_yticklabels()):\n",
    "            item.set_fontsize(fontsize)\n",
    "            \n",
    "# Setting some default params. \n",
    "cbf = ['#377eb8', '#ff7f00', '#4daf4a',\n",
    "        '#f781bf', '#a65628', '#984ea3',\n",
    "        '#999999', '#e41a1c', '#dede00']\n",
    "cbf_map = mpl.colors.ListedColormap(cbf)\n",
    "rc = {'axes.facecolor': 'white', 'axes.edgecolor': '.15', 'axes.axisbelow': True, 'figure.facecolor': 'white',\n",
    "      'axes.labelcolor': '.15',  'text.color': '.25',\n",
    "      'patch.force_edgecolor': True, 'patch.edgecolor': 'w',\n",
    "      'xtick.bottom': True, 'ytick.left': True, 'xtick.color': '.15', 'ytick.color': '.15',\n",
    "      'grid.linestyle': '-', 'axes.grid': False, 'grid.color': '.8', \n",
    "      'font.size': 30, \n",
    "      'xtick.labelsize': 15, 'ytick.labelsize': 15, \n",
    "      'axes.titlesize': 22,\n",
    "      'axes.labelsize': 15,\n",
    "      'legend.fontsize': 18, 'legend.title_fontsize': 30,\n",
    "      }\n",
    "sns.set(rc=rc)\n",
    "sns.set_palette(cbf)\n",
    "pd.set_option('display.max_rows', 500)\n",
    "pd.set_option('display.max_columns', 500)"
   ]
  },
  {
   "cell_type": "markdown",
   "metadata": {},
   "source": [
    "Show all lines at once. "
   ]
  },
  {
   "cell_type": "code",
   "execution_count": 3,
   "metadata": {},
   "outputs": [
    {
     "data": {
      "application/javascript": [
       "IPython.OutputArea.prototype._should_scroll = function(lines) {\n",
       "    return false;\n",
       "}\n"
      ],
      "text/plain": [
       "<IPython.core.display.Javascript object>"
      ]
     },
     "metadata": {},
     "output_type": "display_data"
    }
   ],
   "source": [
    "%%javascript\n",
    "IPython.OutputArea.prototype._should_scroll = function(lines) {\n",
    "    return false;\n",
    "}"
   ]
  },
  {
   "cell_type": "code",
   "execution_count": 4,
   "metadata": {},
   "outputs": [
    {
     "data": {
      "text/html": [
       "<style>\n",
       "    table {\n",
       "        display: inline-block\n",
       "    }\n",
       "</style>\n"
      ],
      "text/plain": [
       "<IPython.core.display.HTML object>"
      ]
     },
     "metadata": {},
     "output_type": "display_data"
    }
   ],
   "source": [
    "%%html\n",
    "<style>\n",
    "    table {\n",
    "        display: inline-block\n",
    "    }\n",
    "</style>"
   ]
  },
  {
   "cell_type": "markdown",
   "metadata": {},
   "source": [
    "Initialize functions and variables for saving figures."
   ]
  },
  {
   "cell_type": "code",
   "execution_count": 5,
   "metadata": {},
   "outputs": [],
   "source": [
    "# this can be added with the preprocessing file 'patches/remove_double_genomes.py' or 'patches/summary'\n",
    "# already done for existing data.\n",
    "has_header = True\n",
    "\n",
    "# Variables that are used for the location and names for the saved figure.\n",
    "first_order = 'A'\n",
    "second_order = 0\n",
    "title_mod = \"\"\n",
    "fig_folder = '/home/hielke/bep/figs/FOR_PUB3/'\n",
    "\n",
    "save = False  # Change to True if you want save your figures.\n",
    "\n",
    "def save_fig(ax=None, save=save, plt=plt, title=None, format='png'):\n",
    "    if not save: \n",
    "        return \n",
    "    \n",
    "    if not ax: \n",
    "        ax = plt.gca()\n",
    "        \n",
    "    title = title or (g.fig._suptitle._text \n",
    "                      if type(ax) is sns.axisgrid.FacetGrid \n",
    "                      else ax.get_title())\n",
    "    \n",
    "    global second_order\n",
    "    second_order += 1\n",
    "    \n",
    "    dest = fig_folder + first_order + str(second_order) + \"___\" \\\n",
    "        + title.replace(\" \", \"_\") + \".\" + format\n",
    "    plt.savefig(dest, format=format, bbox_inches='tight')\n",
    "    print(\"figure saved in \" + dest)"
   ]
  },
  {
   "cell_type": "markdown",
   "metadata": {},
   "source": [
    "Initialize usefull pandas functions and others"
   ]
  },
  {
   "cell_type": "code",
   "execution_count": 6,
   "metadata": {},
   "outputs": [],
   "source": [
    "def percentage(x): \n",
    "    return x / x.sum()\n",
    "\n",
    "from pandas.core.base import PandasObject\n",
    "\n",
    "PandasObject.set_columns = lambda df, values: df.T.set_index(values).T\n",
    "\n",
    "import re\n",
    "def megasplit(pattern, string):\n",
    "    \"\"\"Split with zero length regex\n",
    "    https://stackoverflow.com/questions/29988595/python-regex-splitting-on-pattern-match-that-is-an-empty-string\n",
    "    \"\"\"\n",
    "    splits = list((m.start(), m.end()) for m in re.finditer(pattern, string))\n",
    "    starts = [0] + [i[1] for i in splits]\n",
    "    ends = [i[0] for i in splits] + [len(string)]\n",
    "    return [string[start:end] for start, end in zip(starts, ends)]"
   ]
  },
  {
   "cell_type": "markdown",
   "metadata": {},
   "source": [
    "# READ IN DATA\n",
    "Data from files is read in the following cells.\n",
    "\n",
    "`df` is the main frame with the most information.\n",
    "\n",
    "`df` can be made from the default file, or the pathced file, made with `patches/summary` script."
   ]
  },
  {
   "cell_type": "code",
   "execution_count": 7,
   "metadata": {},
   "outputs": [
    {
     "data": {
      "text/html": [
       "<div>\n",
       "<style scoped>\n",
       "    .dataframe tbody tr th:only-of-type {\n",
       "        vertical-align: middle;\n",
       "    }\n",
       "\n",
       "    .dataframe tbody tr th {\n",
       "        vertical-align: top;\n",
       "    }\n",
       "\n",
       "    .dataframe thead th {\n",
       "        text-align: right;\n",
       "    }\n",
       "</style>\n",
       "<table border=\"1\" class=\"dataframe\">\n",
       "  <thead>\n",
       "    <tr style=\"text-align: right;\">\n",
       "      <th></th>\n",
       "      <th>contig_hit</th>\n",
       "      <th>c_1</th>\n",
       "      <th>c_2</th>\n",
       "      <th>spacer_id</th>\n",
       "      <th>hit_ident</th>\n",
       "      <th>spacer_size</th>\n",
       "      <th>contig_size</th>\n",
       "      <th>array_id</th>\n",
       "      <th>array_size</th>\n",
       "      <th>array_confid</th>\n",
       "      <th>repeat_size</th>\n",
       "      <th>array_type</th>\n",
       "      <th>genome_type</th>\n",
       "      <th>PAM_confid</th>\n",
       "      <th>poss_PAM</th>\n",
       "      <th>PAM_side</th>\n",
       "      <th>phage_class</th>\n",
       "      <th>with_phage</th>\n",
       "      <th>gene_hit</th>\n",
       "      <th>gene_id</th>\n",
       "      <th>gene_class</th>\n",
       "      <th>spacer_pos</th>\n",
       "      <th>rel_spacer_pos</th>\n",
       "      <th>name_spacer_pos</th>\n",
       "    </tr>\n",
       "    <tr>\n",
       "      <th>genome_id</th>\n",
       "      <th></th>\n",
       "      <th></th>\n",
       "      <th></th>\n",
       "      <th></th>\n",
       "      <th></th>\n",
       "      <th></th>\n",
       "      <th></th>\n",
       "      <th></th>\n",
       "      <th></th>\n",
       "      <th></th>\n",
       "      <th></th>\n",
       "      <th></th>\n",
       "      <th></th>\n",
       "      <th></th>\n",
       "      <th></th>\n",
       "      <th></th>\n",
       "      <th></th>\n",
       "      <th></th>\n",
       "      <th></th>\n",
       "      <th></th>\n",
       "      <th></th>\n",
       "      <th></th>\n",
       "      <th></th>\n",
       "      <th></th>\n",
       "    </tr>\n",
       "  </thead>\n",
       "  <tbody>\n",
       "    <tr>\n",
       "      <th>100053.4</th>\n",
       "      <td>JQGS01000037</td>\n",
       "      <td>11782</td>\n",
       "      <td>11751</td>\n",
       "      <td>JQGS01000065_1_1</td>\n",
       "      <td>100.00</td>\n",
       "      <td>32</td>\n",
       "      <td>53765</td>\n",
       "      <td>JQGS01000065_1</td>\n",
       "      <td>12</td>\n",
       "      <td>6.21</td>\n",
       "      <td>29</td>\n",
       "      <td>CAS-TypeIE</td>\n",
       "      <td>CAS-TypeIE</td>\n",
       "      <td>3</td>\n",
       "      <td>CTTGCTAAAG</td>\n",
       "      <td>3</td>\n",
       "      <td>2</td>\n",
       "      <td>2</td>\n",
       "      <td>RNA+</td>\n",
       "      <td>JQGS01000037_19</td>\n",
       "      <td>UNKNOWN</td>\n",
       "      <td>1</td>\n",
       "      <td>0.000000</td>\n",
       "      <td>leader</td>\n",
       "    </tr>\n",
       "    <tr>\n",
       "      <th>100053.4</th>\n",
       "      <td>JQGS01000037</td>\n",
       "      <td>13121</td>\n",
       "      <td>13089</td>\n",
       "      <td>JQGS01000134_1_4</td>\n",
       "      <td>100.00</td>\n",
       "      <td>33</td>\n",
       "      <td>53765</td>\n",
       "      <td>JQGS01000134_1</td>\n",
       "      <td>5</td>\n",
       "      <td>3.02</td>\n",
       "      <td>28</td>\n",
       "      <td>NA</td>\n",
       "      <td>CAS-TypeIE</td>\n",
       "      <td>2</td>\n",
       "      <td>AGGAACTCAT</td>\n",
       "      <td>3</td>\n",
       "      <td>2</td>\n",
       "      <td>2</td>\n",
       "      <td>RNA+</td>\n",
       "      <td>JQGS01000037_20</td>\n",
       "      <td>UNKNOWN</td>\n",
       "      <td>4</td>\n",
       "      <td>0.750000</td>\n",
       "      <td>middle</td>\n",
       "    </tr>\n",
       "    <tr>\n",
       "      <th>100053.4</th>\n",
       "      <td>JQGS01000037</td>\n",
       "      <td>1789</td>\n",
       "      <td>1757</td>\n",
       "      <td>JQGS01000065_1_2</td>\n",
       "      <td>100.00</td>\n",
       "      <td>33</td>\n",
       "      <td>53765</td>\n",
       "      <td>JQGS01000065_1</td>\n",
       "      <td>12</td>\n",
       "      <td>6.21</td>\n",
       "      <td>29</td>\n",
       "      <td>CAS-TypeIE</td>\n",
       "      <td>CAS-TypeIE</td>\n",
       "      <td>3</td>\n",
       "      <td>CTTGAATCCG</td>\n",
       "      <td>3</td>\n",
       "      <td>2</td>\n",
       "      <td>2</td>\n",
       "      <td>INTERGENIC</td>\n",
       "      <td>NULL</td>\n",
       "      <td>NULL</td>\n",
       "      <td>2</td>\n",
       "      <td>0.090909</td>\n",
       "      <td>middle</td>\n",
       "    </tr>\n",
       "    <tr>\n",
       "      <th>100053.4</th>\n",
       "      <td>JQGS01000037</td>\n",
       "      <td>22144</td>\n",
       "      <td>22112</td>\n",
       "      <td>JQGS01000134_1_5</td>\n",
       "      <td>96.97</td>\n",
       "      <td>33</td>\n",
       "      <td>53765</td>\n",
       "      <td>JQGS01000134_1</td>\n",
       "      <td>5</td>\n",
       "      <td>3.02</td>\n",
       "      <td>28</td>\n",
       "      <td>NA</td>\n",
       "      <td>CAS-TypeIE</td>\n",
       "      <td>0</td>\n",
       "      <td>ATTTCGAGGT</td>\n",
       "      <td>3</td>\n",
       "      <td>2</td>\n",
       "      <td>2</td>\n",
       "      <td>RNA-</td>\n",
       "      <td>JQGS01000037_36</td>\n",
       "      <td>UNCLASSIFIED</td>\n",
       "      <td>5</td>\n",
       "      <td>1.000000</td>\n",
       "      <td>tail</td>\n",
       "    </tr>\n",
       "    <tr>\n",
       "      <th>100053.4</th>\n",
       "      <td>JQGS01000037</td>\n",
       "      <td>24519</td>\n",
       "      <td>24550</td>\n",
       "      <td>JQGS01000065_1_12</td>\n",
       "      <td>100.00</td>\n",
       "      <td>32</td>\n",
       "      <td>53765</td>\n",
       "      <td>JQGS01000065_1</td>\n",
       "      <td>12</td>\n",
       "      <td>6.21</td>\n",
       "      <td>29</td>\n",
       "      <td>CAS-TypeIE</td>\n",
       "      <td>CAS-TypeIE</td>\n",
       "      <td>3</td>\n",
       "      <td>CTTCGAATTC</td>\n",
       "      <td>3</td>\n",
       "      <td>2</td>\n",
       "      <td>2</td>\n",
       "      <td>RNA+</td>\n",
       "      <td>JQGS01000037_38</td>\n",
       "      <td>UNCLASSIFIED</td>\n",
       "      <td>12</td>\n",
       "      <td>1.000000</td>\n",
       "      <td>tail</td>\n",
       "    </tr>\n",
       "  </tbody>\n",
       "</table>\n",
       "</div>"
      ],
      "text/plain": [
       "             contig_hit    c_1    c_2          spacer_id  hit_ident  \\\n",
       "genome_id                                                             \n",
       "100053.4   JQGS01000037  11782  11751   JQGS01000065_1_1     100.00   \n",
       "100053.4   JQGS01000037  13121  13089   JQGS01000134_1_4     100.00   \n",
       "100053.4   JQGS01000037   1789   1757   JQGS01000065_1_2     100.00   \n",
       "100053.4   JQGS01000037  22144  22112   JQGS01000134_1_5      96.97   \n",
       "100053.4   JQGS01000037  24519  24550  JQGS01000065_1_12     100.00   \n",
       "\n",
       "           spacer_size  contig_size        array_id  array_size  array_confid  \\\n",
       "genome_id                                                                       \n",
       "100053.4            32        53765  JQGS01000065_1          12          6.21   \n",
       "100053.4            33        53765  JQGS01000134_1           5          3.02   \n",
       "100053.4            33        53765  JQGS01000065_1          12          6.21   \n",
       "100053.4            33        53765  JQGS01000134_1           5          3.02   \n",
       "100053.4            32        53765  JQGS01000065_1          12          6.21   \n",
       "\n",
       "           repeat_size  array_type genome_type  PAM_confid    poss_PAM  \\\n",
       "genome_id                                                                \n",
       "100053.4            29  CAS-TypeIE  CAS-TypeIE           3  CTTGCTAAAG   \n",
       "100053.4            28          NA  CAS-TypeIE           2  AGGAACTCAT   \n",
       "100053.4            29  CAS-TypeIE  CAS-TypeIE           3  CTTGAATCCG   \n",
       "100053.4            28          NA  CAS-TypeIE           0  ATTTCGAGGT   \n",
       "100053.4            29  CAS-TypeIE  CAS-TypeIE           3  CTTCGAATTC   \n",
       "\n",
       "          PAM_side phage_class  with_phage    gene_hit          gene_id  \\\n",
       "genome_id                                                                 \n",
       "100053.4         3           2           2        RNA+  JQGS01000037_19   \n",
       "100053.4         3           2           2        RNA+  JQGS01000037_20   \n",
       "100053.4         3           2           2  INTERGENIC             NULL   \n",
       "100053.4         3           2           2        RNA-  JQGS01000037_36   \n",
       "100053.4         3           2           2        RNA+  JQGS01000037_38   \n",
       "\n",
       "             gene_class  spacer_pos  rel_spacer_pos name_spacer_pos  \n",
       "genome_id                                                            \n",
       "100053.4        UNKNOWN           1        0.000000          leader  \n",
       "100053.4        UNKNOWN           4        0.750000          middle  \n",
       "100053.4           NULL           2        0.090909          middle  \n",
       "100053.4   UNCLASSIFIED           5        1.000000            tail  \n",
       "100053.4   UNCLASSIFIED          12        1.000000            tail  "
      ]
     },
     "execution_count": 7,
     "metadata": {},
     "output_type": "execute_result"
    }
   ],
   "source": [
    "if has_header:\n",
    "    df = pd.read_csv(data_folder + 'hits.tsv.header.csv', sep='\\t', \n",
    "                    index_col=False, keep_default_na=False, \n",
    "                     dtype={'genome_id': str, 'spacer_pos': int, 'spacer_size': int}\n",
    "                    ).set_index('genome_id')\n",
    "else:\n",
    "    df = pd.read_csv(data_folder + 'gene.matched.tsv.smallarraycheck.csv', sep='\\t', \n",
    "                 names=['genome_key', 'genome_id', 'contig_hit', 'c_1', 'c_2', 'spacer_id', 'hit_ident', 'spacer_size', \n",
    "                        'contig_size', '3_prime', '5_prime', 'array_id', 'array_size', 'array_confid', 'repeat_size', 'array_type', 'genome_type',\n",
    "                        'PAM_confid', 'poss_PAM', 'PAM_side', 'phage_class', 'with_phage',  'gene_hit', 'gene_id', 'gene_class'],\n",
    "                index_col=False, keep_default_na=False, \n",
    "                     dtype={'genome_id': str}).set_index('genome_id')\n",
    "df.drop(['3_prime', '5_prime', 'genome_key',], axis=1, inplace=True)\n",
    "df.head()"
   ]
  },
  {
   "cell_type": "markdown",
   "metadata": {},
   "source": [
    "Reading in all sequence data."
   ]
  },
  {
   "cell_type": "code",
   "execution_count": 8,
   "metadata": {},
   "outputs": [
    {
     "data": {
      "text/html": [
       "<div>\n",
       "<style scoped>\n",
       "    .dataframe tbody tr th:only-of-type {\n",
       "        vertical-align: middle;\n",
       "    }\n",
       "\n",
       "    .dataframe tbody tr th {\n",
       "        vertical-align: top;\n",
       "    }\n",
       "\n",
       "    .dataframe thead th {\n",
       "        text-align: right;\n",
       "    }\n",
       "</style>\n",
       "<table border=\"1\" class=\"dataframe\">\n",
       "  <thead>\n",
       "    <tr style=\"text-align: right;\">\n",
       "      <th></th>\n",
       "      <th>spacer_id</th>\n",
       "      <th>seq</th>\n",
       "    </tr>\n",
       "  </thead>\n",
       "  <tbody>\n",
       "    <tr>\n",
       "      <th>0</th>\n",
       "      <td>JQGS01000134_1_2</td>\n",
       "      <td>TGTCATAGATTCGGACAAAACAATTGCTTTTAC</td>\n",
       "    </tr>\n",
       "    <tr>\n",
       "      <th>1</th>\n",
       "      <td>JQGS01000134_1_3</td>\n",
       "      <td>GAATTCACCGGAGGGCCTGACGAAGATTCACAA</td>\n",
       "    </tr>\n",
       "    <tr>\n",
       "      <th>2</th>\n",
       "      <td>JQGS01000134_1_4</td>\n",
       "      <td>GTATTTTTCAATGATTATCTTTATGGATTCAGG</td>\n",
       "    </tr>\n",
       "    <tr>\n",
       "      <th>3</th>\n",
       "      <td>JQGS01000134_1_5</td>\n",
       "      <td>GGCGGATATAATTTGAAGATGAGTAACATTGAA</td>\n",
       "    </tr>\n",
       "    <tr>\n",
       "      <th>4</th>\n",
       "      <td>JQGS01000065_1_1</td>\n",
       "      <td>GATCATTTCTTTATTCTCTGCGAGGAGCATAT</td>\n",
       "    </tr>\n",
       "  </tbody>\n",
       "</table>\n",
       "</div>"
      ],
      "text/plain": [
       "          spacer_id                                seq\n",
       "0  JQGS01000134_1_2  TGTCATAGATTCGGACAAAACAATTGCTTTTAC\n",
       "1  JQGS01000134_1_3  GAATTCACCGGAGGGCCTGACGAAGATTCACAA\n",
       "2  JQGS01000134_1_4  GTATTTTTCAATGATTATCTTTATGGATTCAGG\n",
       "3  JQGS01000134_1_5  GGCGGATATAATTTGAAGATGAGTAACATTGAA\n",
       "4  JQGS01000065_1_1   GATCATTTCTTTATTCTCTGCGAGGAGCATAT"
      ]
     },
     "execution_count": 8,
     "metadata": {},
     "output_type": "execute_result"
    }
   ],
   "source": [
    "def seq_iter(filehandle):\n",
    "    for seq_id in filehandle:\n",
    "        yield seq_id.strip()[1:], next(filehandle).strip()\n",
    "spacers = seq_iter(open(data_folder + 'all_spacers.fna'))\n",
    "all_seq = pd.DataFrame(spacers, \n",
    "                     columns=['spacer_id', 'seq'])\n",
    "all_seq.head()"
   ]
  },
  {
   "cell_type": "markdown",
   "metadata": {},
   "source": [
    "Information about each genome crispr type."
   ]
  },
  {
   "cell_type": "code",
   "execution_count": 9,
   "metadata": {},
   "outputs": [
    {
     "data": {
      "text/html": [
       "<div>\n",
       "<style scoped>\n",
       "    .dataframe tbody tr th:only-of-type {\n",
       "        vertical-align: middle;\n",
       "    }\n",
       "\n",
       "    .dataframe tbody tr th {\n",
       "        vertical-align: top;\n",
       "    }\n",
       "\n",
       "    .dataframe thead th {\n",
       "        text-align: right;\n",
       "    }\n",
       "</style>\n",
       "<table border=\"1\" class=\"dataframe\">\n",
       "  <thead>\n",
       "    <tr style=\"text-align: right;\">\n",
       "      <th></th>\n",
       "      <th>type</th>\n",
       "      <th>class</th>\n",
       "      <th>num_genes</th>\n",
       "    </tr>\n",
       "    <tr>\n",
       "      <th>genome_id</th>\n",
       "      <th></th>\n",
       "      <th></th>\n",
       "      <th></th>\n",
       "    </tr>\n",
       "  </thead>\n",
       "  <tbody>\n",
       "    <tr>\n",
       "      <th>100053.4</th>\n",
       "      <td>CAS-TypeIE</td>\n",
       "      <td>AdditionalAccompaniedSingleUnknown</td>\n",
       "      <td>11</td>\n",
       "    </tr>\n",
       "    <tr>\n",
       "      <th>100053.5</th>\n",
       "      <td>CAS-TypeIE</td>\n",
       "      <td>SingleUnknownExtra</td>\n",
       "      <td>8</td>\n",
       "    </tr>\n",
       "    <tr>\n",
       "      <th>100053.6</th>\n",
       "      <td>CAS-TypeIE</td>\n",
       "      <td>SingleUnknownExtra</td>\n",
       "      <td>8</td>\n",
       "    </tr>\n",
       "    <tr>\n",
       "      <th>100053.7</th>\n",
       "      <td>CAS-TypeIE</td>\n",
       "      <td>SingleUnknownExtra</td>\n",
       "      <td>8</td>\n",
       "    </tr>\n",
       "    <tr>\n",
       "      <th>100053.8</th>\n",
       "      <td>CAS-TypeIE</td>\n",
       "      <td>AccompaniedSingleUnknown</td>\n",
       "      <td>8</td>\n",
       "    </tr>\n",
       "  </tbody>\n",
       "</table>\n",
       "</div>"
      ],
      "text/plain": [
       "                 type                               class  num_genes\n",
       "genome_id                                                           \n",
       "100053.4   CAS-TypeIE  AdditionalAccompaniedSingleUnknown         11\n",
       "100053.5   CAS-TypeIE                  SingleUnknownExtra          8\n",
       "100053.6   CAS-TypeIE                  SingleUnknownExtra          8\n",
       "100053.7   CAS-TypeIE                  SingleUnknownExtra          8\n",
       "100053.8   CAS-TypeIE            AccompaniedSingleUnknown          8"
      ]
     },
     "execution_count": 9,
     "metadata": {},
     "output_type": "execute_result"
    }
   ],
   "source": [
    "df_genome_class = pd.read_csv(data_folder + 'genome.types.csv', sep='\\t', \n",
    "                              names=['genome_id', 'type', 'class', 'num_genes'], \n",
    "                              dtype={'genome_id': str, 'num_genes': int}).set_index('genome_id')\n",
    "df_genome_class.head()"
   ]
  },
  {
   "cell_type": "markdown",
   "metadata": {},
   "source": [
    "Information about the crispr arrays."
   ]
  },
  {
   "cell_type": "code",
   "execution_count": 10,
   "metadata": {},
   "outputs": [
    {
     "data": {
      "text/html": [
       "<div>\n",
       "<style scoped>\n",
       "    .dataframe tbody tr th:only-of-type {\n",
       "        vertical-align: middle;\n",
       "    }\n",
       "\n",
       "    .dataframe tbody tr th {\n",
       "        vertical-align: top;\n",
       "    }\n",
       "\n",
       "    .dataframe thead th {\n",
       "        text-align: right;\n",
       "    }\n",
       "</style>\n",
       "<table border=\"1\" class=\"dataframe\">\n",
       "  <thead>\n",
       "    <tr style=\"text-align: right;\">\n",
       "      <th></th>\n",
       "      <th>contig</th>\n",
       "      <th>array_id</th>\n",
       "      <th>start</th>\n",
       "      <th>end</th>\n",
       "      <th>ori</th>\n",
       "      <th>size</th>\n",
       "      <th>type</th>\n",
       "      <th>conf</th>\n",
       "      <th>repeat</th>\n",
       "    </tr>\n",
       "    <tr>\n",
       "      <th>genome_id</th>\n",
       "      <th></th>\n",
       "      <th></th>\n",
       "      <th></th>\n",
       "      <th></th>\n",
       "      <th></th>\n",
       "      <th></th>\n",
       "      <th></th>\n",
       "      <th></th>\n",
       "      <th></th>\n",
       "    </tr>\n",
       "  </thead>\n",
       "  <tbody>\n",
       "    <tr>\n",
       "      <th>1324264.3</th>\n",
       "      <td>JLXT01000011</td>\n",
       "      <td>JLXT01000011_1</td>\n",
       "      <td>0</td>\n",
       "      <td>684</td>\n",
       "      <td>Reverse</td>\n",
       "      <td>9</td>\n",
       "      <td>NA</td>\n",
       "      <td>3.18</td>\n",
       "      <td>GTCGTCAGACCCAAAACCCCGAGAGGGGACGGAAAC</td>\n",
       "    </tr>\n",
       "    <tr>\n",
       "      <th>1324264.3</th>\n",
       "      <td>JLXT01000009</td>\n",
       "      <td>JLXT01000009_1</td>\n",
       "      <td>947496</td>\n",
       "      <td>948851</td>\n",
       "      <td>Reverse</td>\n",
       "      <td>18</td>\n",
       "      <td>NA</td>\n",
       "      <td>3.24</td>\n",
       "      <td>GTCGTCAGACCCAAAACCCCGAGAGGGGACGGAAAC</td>\n",
       "    </tr>\n",
       "    <tr>\n",
       "      <th>1324264.3</th>\n",
       "      <td>JLXT01000010</td>\n",
       "      <td>JLXT01000010_1</td>\n",
       "      <td>56</td>\n",
       "      <td>1186</td>\n",
       "      <td>Reverse</td>\n",
       "      <td>15</td>\n",
       "      <td>NA</td>\n",
       "      <td>3.20</td>\n",
       "      <td>GTCGTCAGACCCAAAACCCCGAGAGGGGACGGAAAC</td>\n",
       "    </tr>\n",
       "    <tr>\n",
       "      <th>1603886.3</th>\n",
       "      <td>BDIS01000038</td>\n",
       "      <td>BDIS01000038_1</td>\n",
       "      <td>5412</td>\n",
       "      <td>6343</td>\n",
       "      <td>Forward</td>\n",
       "      <td>14</td>\n",
       "      <td>NA</td>\n",
       "      <td>3.24</td>\n",
       "      <td>CAAGCTTATCAAGAAGGGTGAATGCTAATTCCCAGC</td>\n",
       "    </tr>\n",
       "    <tr>\n",
       "      <th>1633637.3</th>\n",
       "      <td>CZVQ01000157</td>\n",
       "      <td>CZVQ01000157_1</td>\n",
       "      <td>2</td>\n",
       "      <td>778</td>\n",
       "      <td>Forward</td>\n",
       "      <td>9</td>\n",
       "      <td>NA</td>\n",
       "      <td>3.26</td>\n",
       "      <td>GTGAGCATCGAACCAGTGTGGAATTTAAAC</td>\n",
       "    </tr>\n",
       "  </tbody>\n",
       "</table>\n",
       "</div>"
      ],
      "text/plain": [
       "                 contig        array_id   start     end      ori  size type  \\\n",
       "genome_id                                                                     \n",
       "1324264.3  JLXT01000011  JLXT01000011_1       0     684  Reverse     9   NA   \n",
       "1324264.3  JLXT01000009  JLXT01000009_1  947496  948851  Reverse    18   NA   \n",
       "1324264.3  JLXT01000010  JLXT01000010_1      56    1186  Reverse    15   NA   \n",
       "1603886.3  BDIS01000038  BDIS01000038_1    5412    6343  Forward    14   NA   \n",
       "1633637.3  CZVQ01000157  CZVQ01000157_1       2     778  Forward     9   NA   \n",
       "\n",
       "           conf                                repeat  \n",
       "genome_id                                              \n",
       "1324264.3  3.18  GTCGTCAGACCCAAAACCCCGAGAGGGGACGGAAAC  \n",
       "1324264.3  3.24  GTCGTCAGACCCAAAACCCCGAGAGGGGACGGAAAC  \n",
       "1324264.3  3.20  GTCGTCAGACCCAAAACCCCGAGAGGGGACGGAAAC  \n",
       "1603886.3  3.24  CAAGCTTATCAAGAAGGGTGAATGCTAATTCCCAGC  \n",
       "1633637.3  3.26        GTGAGCATCGAACCAGTGTGGAATTTAAAC  "
      ]
     },
     "execution_count": 10,
     "metadata": {},
     "output_type": "execute_result"
    }
   ],
   "source": [
    "df_crispr = pd.read_csv(data_folder + 'spacers.info.csv', sep='\\t', \n",
    "                        names=['genome_id', 'contig', 'array_id', 'start', 'end', 'ori', 'size', 'type', 'conf', 'repeat',],\n",
    "                        dtype={'genome_id': str}, keep_default_na=False).set_index('genome_id')\n",
    "df_crispr.head()"
   ]
  },
  {
   "cell_type": "markdown",
   "metadata": {},
   "source": [
    "Meta information about each genome (ammount of contigs / total lenght / species name)"
   ]
  },
  {
   "cell_type": "code",
   "execution_count": 11,
   "metadata": {},
   "outputs": [
    {
     "data": {
      "text/html": [
       "<div>\n",
       "<style scoped>\n",
       "    .dataframe tbody tr th:only-of-type {\n",
       "        vertical-align: middle;\n",
       "    }\n",
       "\n",
       "    .dataframe tbody tr th {\n",
       "        vertical-align: top;\n",
       "    }\n",
       "\n",
       "    .dataframe thead th {\n",
       "        text-align: right;\n",
       "    }\n",
       "</style>\n",
       "<table border=\"1\" class=\"dataframe\">\n",
       "  <thead>\n",
       "    <tr style=\"text-align: right;\">\n",
       "      <th></th>\n",
       "      <th>contigs</th>\n",
       "      <th>size</th>\n",
       "      <th>name</th>\n",
       "    </tr>\n",
       "    <tr>\n",
       "      <th>genome_id</th>\n",
       "      <th></th>\n",
       "      <th></th>\n",
       "      <th></th>\n",
       "    </tr>\n",
       "  </thead>\n",
       "  <tbody>\n",
       "    <tr>\n",
       "      <th>100053.4</th>\n",
       "      <td>341</td>\n",
       "      <td>4040397</td>\n",
       "      <td>Leptospira alexanderi strain 56650</td>\n",
       "    </tr>\n",
       "    <tr>\n",
       "      <th>100053.5</th>\n",
       "      <td>335</td>\n",
       "      <td>4044353</td>\n",
       "      <td>Leptospira alexanderi strain 56643</td>\n",
       "    </tr>\n",
       "    <tr>\n",
       "      <th>100053.6</th>\n",
       "      <td>368</td>\n",
       "      <td>4062692</td>\n",
       "      <td>Leptospira alexanderi strain 56640</td>\n",
       "    </tr>\n",
       "    <tr>\n",
       "      <th>100053.7</th>\n",
       "      <td>337</td>\n",
       "      <td>4067564</td>\n",
       "      <td>Leptospira alexanderi strain 56159</td>\n",
       "    </tr>\n",
       "    <tr>\n",
       "      <th>100053.8</th>\n",
       "      <td>238</td>\n",
       "      <td>4060960</td>\n",
       "      <td>Leptospira alexanderi strain 56659</td>\n",
       "    </tr>\n",
       "  </tbody>\n",
       "</table>\n",
       "</div>"
      ],
      "text/plain": [
       "           contigs     size                                name\n",
       "genome_id                                                      \n",
       "100053.4       341  4040397  Leptospira alexanderi strain 56650\n",
       "100053.5       335  4044353  Leptospira alexanderi strain 56643\n",
       "100053.6       368  4062692  Leptospira alexanderi strain 56640\n",
       "100053.7       337  4067564  Leptospira alexanderi strain 56159\n",
       "100053.8       238  4060960  Leptospira alexanderi strain 56659"
      ]
     },
     "execution_count": 11,
     "metadata": {},
     "output_type": "execute_result"
    }
   ],
   "source": [
    "df_meta = pd.read_csv(data_folder + \"genome_meta.csv\", sep='\\t', \n",
    "                     names=['genome_id', 'contigs', 'size', 'name'], \n",
    "                     dtype={'genome_id': str}).set_index('genome_id')\n",
    "df_meta.head()"
   ]
  },
  {
   "cell_type": "code",
   "execution_count": 12,
   "metadata": {},
   "outputs": [
    {
     "data": {
      "text/html": [
       "<div>\n",
       "<style scoped>\n",
       "    .dataframe tbody tr th:only-of-type {\n",
       "        vertical-align: middle;\n",
       "    }\n",
       "\n",
       "    .dataframe tbody tr th {\n",
       "        vertical-align: top;\n",
       "    }\n",
       "\n",
       "    .dataframe thead th {\n",
       "        text-align: right;\n",
       "    }\n",
       "</style>\n",
       "<table border=\"1\" class=\"dataframe\">\n",
       "  <thead>\n",
       "    <tr style=\"text-align: right;\">\n",
       "      <th></th>\n",
       "      <th>qseqid</th>\n",
       "      <th>sseqid</th>\n",
       "      <th>pident</th>\n",
       "      <th>length</th>\n",
       "      <th>mismatch</th>\n",
       "      <th>gapopen</th>\n",
       "      <th>qstart</th>\n",
       "      <th>qend</th>\n",
       "      <th>sstart</th>\n",
       "      <th>send</th>\n",
       "      <th>evalue</th>\n",
       "      <th>bitscore</th>\n",
       "      <th>qlen</th>\n",
       "      <th>slen</th>\n",
       "    </tr>\n",
       "    <tr>\n",
       "      <th>genome_id</th>\n",
       "      <th></th>\n",
       "      <th></th>\n",
       "      <th></th>\n",
       "      <th></th>\n",
       "      <th></th>\n",
       "      <th></th>\n",
       "      <th></th>\n",
       "      <th></th>\n",
       "      <th></th>\n",
       "      <th></th>\n",
       "      <th></th>\n",
       "      <th></th>\n",
       "      <th></th>\n",
       "      <th></th>\n",
       "    </tr>\n",
       "  </thead>\n",
       "  <tbody>\n",
       "    <tr>\n",
       "      <th>1030009.3</th>\n",
       "      <td>CP002816</td>\n",
       "      <td>WP_003722518.1</td>\n",
       "      <td>80.54</td>\n",
       "      <td>149</td>\n",
       "      <td>29</td>\n",
       "      <td>0</td>\n",
       "      <td>1265014</td>\n",
       "      <td>1264568</td>\n",
       "      <td>1</td>\n",
       "      <td>149</td>\n",
       "      <td>7.000000e-72</td>\n",
       "      <td>239.0</td>\n",
       "      <td>2976163</td>\n",
       "      <td>149</td>\n",
       "    </tr>\n",
       "    <tr>\n",
       "      <th>1030009.3</th>\n",
       "      <td>CP002816</td>\n",
       "      <td>WP_014930691.1</td>\n",
       "      <td>91.20</td>\n",
       "      <td>125</td>\n",
       "      <td>11</td>\n",
       "      <td>0</td>\n",
       "      <td>1265778</td>\n",
       "      <td>1265404</td>\n",
       "      <td>1</td>\n",
       "      <td>125</td>\n",
       "      <td>2.000000e-52</td>\n",
       "      <td>182.0</td>\n",
       "      <td>2976163</td>\n",
       "      <td>125</td>\n",
       "    </tr>\n",
       "    <tr>\n",
       "      <th>1030009.3</th>\n",
       "      <td>CP002816</td>\n",
       "      <td>WP_003723290.1</td>\n",
       "      <td>81.61</td>\n",
       "      <td>87</td>\n",
       "      <td>16</td>\n",
       "      <td>0</td>\n",
       "      <td>108715</td>\n",
       "      <td>108455</td>\n",
       "      <td>1</td>\n",
       "      <td>87</td>\n",
       "      <td>1.000000e-39</td>\n",
       "      <td>144.0</td>\n",
       "      <td>2976163</td>\n",
       "      <td>87</td>\n",
       "    </tr>\n",
       "    <tr>\n",
       "      <th>1069608.3</th>\n",
       "      <td>ALXM01000006</td>\n",
       "      <td>WP_042743678.1</td>\n",
       "      <td>91.15</td>\n",
       "      <td>113</td>\n",
       "      <td>10</td>\n",
       "      <td>0</td>\n",
       "      <td>50041</td>\n",
       "      <td>50379</td>\n",
       "      <td>1</td>\n",
       "      <td>113</td>\n",
       "      <td>2.000000e-66</td>\n",
       "      <td>219.0</td>\n",
       "      <td>117940</td>\n",
       "      <td>123</td>\n",
       "    </tr>\n",
       "    <tr>\n",
       "      <th>1069608.3</th>\n",
       "      <td>ALXM01000006</td>\n",
       "      <td>WP_042743676.1</td>\n",
       "      <td>92.86</td>\n",
       "      <td>112</td>\n",
       "      <td>8</td>\n",
       "      <td>0</td>\n",
       "      <td>49657</td>\n",
       "      <td>49992</td>\n",
       "      <td>5</td>\n",
       "      <td>116</td>\n",
       "      <td>6.000000e-64</td>\n",
       "      <td>211.0</td>\n",
       "      <td>117940</td>\n",
       "      <td>116</td>\n",
       "    </tr>\n",
       "  </tbody>\n",
       "</table>\n",
       "</div>"
      ],
      "text/plain": [
       "                 qseqid          sseqid  pident  length  mismatch  gapopen  \\\n",
       "genome_id                                                                    \n",
       "1030009.3      CP002816  WP_003722518.1   80.54     149        29        0   \n",
       "1030009.3      CP002816  WP_014930691.1   91.20     125        11        0   \n",
       "1030009.3      CP002816  WP_003723290.1   81.61      87        16        0   \n",
       "1069608.3  ALXM01000006  WP_042743678.1   91.15     113        10        0   \n",
       "1069608.3  ALXM01000006  WP_042743676.1   92.86     112         8        0   \n",
       "\n",
       "            qstart     qend  sstart  send        evalue  bitscore     qlen  \\\n",
       "genome_id                                                                    \n",
       "1030009.3  1265014  1264568       1   149  7.000000e-72     239.0  2976163   \n",
       "1030009.3  1265778  1265404       1   125  2.000000e-52     182.0  2976163   \n",
       "1030009.3   108715   108455       1    87  1.000000e-39     144.0  2976163   \n",
       "1069608.3    50041    50379       1   113  2.000000e-66     219.0   117940   \n",
       "1069608.3    49657    49992       5   116  6.000000e-64     211.0   117940   \n",
       "\n",
       "           slen  \n",
       "genome_id        \n",
       "1030009.3   149  \n",
       "1030009.3   125  \n",
       "1030009.3    87  \n",
       "1069608.3   123  \n",
       "1069608.3   116  "
      ]
     },
     "execution_count": 12,
     "metadata": {},
     "output_type": "execute_result"
    }
   ],
   "source": [
    "df_acr_aca = pd.read_csv(data_folder + \"acr+aca.hits\", sep='\\t',\n",
    "                    names=['genome_id', 'qseqid', 'sseqid', 'pident', 'length', 'mismatch', 'gapopen', \n",
    "                           'qstart', 'qend', 'sstart', 'send', 'evalue', 'bitscore', 'qlen', 'slen'],\n",
    "                     dtype={'genome_id': str}).set_index('genome_id')\n",
    "df_acr_aca.head()"
   ]
  },
  {
   "cell_type": "markdown",
   "metadata": {},
   "source": [
    "## Anti CRISPR analysis"
   ]
  },
  {
   "cell_type": "code",
   "execution_count": 13,
   "metadata": {},
   "outputs": [],
   "source": [
    "acr = {l.strip() for l in open(data_folder + 'acr_ids')}\n",
    "aca = {l.strip() for l in open(data_folder + 'aca_ids')}"
   ]
  },
  {
   "cell_type": "markdown",
   "metadata": {},
   "source": [
    "Remove all hits that are just associated (aca) and not actual anti-crispr"
   ]
  },
  {
   "cell_type": "code",
   "execution_count": 14,
   "metadata": {},
   "outputs": [],
   "source": [
    "df_acr = df_acr_aca.query('sseqid in @acr')"
   ]
  },
  {
   "cell_type": "code",
   "execution_count": 15,
   "metadata": {},
   "outputs": [],
   "source": [
    "df_acr = df_acr.groupby(by='genome_id').first()"
   ]
  },
  {
   "cell_type": "code",
   "execution_count": 16,
   "metadata": {},
   "outputs": [
    {
     "data": {
      "text/plain": [
       "Index(['1030009.3', '1069608.3', '1069617.3', '1081927.4', '1118159.3',\n",
       "       '1145157.3', '1163395.3', '1163395.4', '1163396.3', '1168061.3',\n",
       "       ...\n",
       "       '798130.4', '857124.3', '857127.3', '857574.3', '857579.3', '857581.3',\n",
       "       '860228.4', '862513.3', '882096.3', '883096.3'],\n",
       "      dtype='object', name='genome_id', length=1572)"
      ]
     },
     "execution_count": 16,
     "metadata": {},
     "output_type": "execute_result"
    }
   ],
   "source": [
    "df_acr.index"
   ]
  },
  {
   "cell_type": "markdown",
   "metadata": {},
   "source": [
    "# PATCHES AND ENHANCEMENTS\n",
    "Patches for data clean up and enhancements of the data.\n",
    "\n",
    "Other patches that have been applied can be found in the patches folder. (The summary contains all (and more) in one file.) To apply just `bash ../patches/summary` in the data folder."
   ]
  },
  {
   "cell_type": "code",
   "execution_count": 17,
   "metadata": {},
   "outputs": [],
   "source": [
    "# Merge main data frame with spacer sequences.\n",
    "df = df.reset_index().merge(all_seq, how='left', on='spacer_id', validate='m:1').set_index('genome_id')"
   ]
  },
  {
   "cell_type": "markdown",
   "metadata": {},
   "source": [
    "### Remove uninteresting duplicates"
   ]
  },
  {
   "cell_type": "code",
   "execution_count": 18,
   "metadata": {},
   "outputs": [],
   "source": [
    "# Duplicates resulting from duplicates contigs (same spacer_id with same coords on different contig.)\n",
    "# This will also remove duplicates genomes\n",
    "df = df.reset_index().groupby(['spacer_id', 'c_1', 'c_2']).first().reset_index().set_index('genome_id')\n",
    "# Remove double arrays (same seq, same hit, same array location)\n",
    "df = df.reset_index().groupby(['seq', 'c_1', 'c_2', 'contig_hit', 'spacer_pos']).first().reset_index().set_index('genome_id')"
   ]
  },
  {
   "cell_type": "code",
   "execution_count": 19,
   "metadata": {},
   "outputs": [],
   "source": [
    "total_genomes = 110334\n",
    "no_type = total_genomes - len(df_genome_class)  # There is also NOCAS in all_genome_types which is basically the same.\n",
    "no_cas_no_selfhits = total_genomes - len(set(df.index)) - no_type  # Because of the above, this number is not correct."
   ]
  },
  {
   "cell_type": "markdown",
   "metadata": {},
   "source": [
    "### Specify some additional information"
   ]
  },
  {
   "cell_type": "code",
   "execution_count": 20,
   "metadata": {},
   "outputs": [],
   "source": [
    "df['array_ori'] = df['rel_spacer_pos'].apply(lambda x: {0: 'head', 1: 'tail'}.get(x) or 'mid')\n",
    "df = df.join(df_meta, )\n",
    "del df_meta"
   ]
  },
  {
   "cell_type": "markdown",
   "metadata": {},
   "source": [
    "### Remove CRISPR flanking STSs\n",
    "Remove a STS when it is flanked by the STS it originates from. This can happen when the repeat of this spacer is so degenerated that CRISPRDetect does not recognize it anymore. Removal happens for all spacers in the vicinity of the array if the distance distance is lower than 50. This will be done by patches outside notebook now. (To remove for all arrays.)"
   ]
  },
  {
   "cell_type": "code",
   "execution_count": 21,
   "metadata": {},
   "outputs": [],
   "source": [
    "# df = df.join(\n",
    "#     df_crispr.drop_duplicates().rename({'type': 'array_repeat_type'}, axis=1).reset_index(drop=True).set_index('array_id'), \n",
    "#     on='array_id', rsuffix='_crispr').pipe(\n",
    "#     lambda df:\n",
    "#     df\n",
    "#     [\n",
    "#     (\n",
    "#         (np.maximum(np.maximum(df['start'], df['end']), np.maximum(df['c_1'], df['c_2']))) -\n",
    "#         (np.minimum(np.minimum(df['start'], df['end']), np.minimum(df['c_1'], df['c_2'])))\n",
    "#     )\n",
    "#     - (np.abs(df['start'] - df['end']) + np.abs(df['c_1'] - df['c_2']))\n",
    "#     > 50\n",
    "#     ]\n",
    "# )\n"
   ]
  },
  {
   "cell_type": "markdown",
   "metadata": {},
   "source": [
    "# Top level plotting (Of STS in groups \"No CAS genes\", \"Incomplete\", \"Mixed CRISPR System\", \"Complete CRISPR System\")\n",
    "Plots that make use of grouping of genomes in the large (top level) distinctions."
   ]
  },
  {
   "cell_type": "code",
   "execution_count": 22,
   "metadata": {},
   "outputs": [],
   "source": [
    "# Naming used for the groupings.\n",
    "\n",
    "NOCAS = \"No CAS genes\"\n",
    "Mixed = \"Mixed CRISPR System\"\n",
    "Complete = \"Complete CRISPR System\"\n",
    "Incomplete = \"Incomplete CRISPR System\"\n",
    "other = 'Cas-TypeVC | CAS-TypeVIB2'  # 'other'  # Those that exist in all, but not anymore in the selfhit group.\n",
    "# 'CAS-TypeVC': 1, 'CAS-TypeVIB2': 2"
   ]
  },
  {
   "cell_type": "markdown",
   "metadata": {},
   "source": [
    "#### First we make a `new_type_group`"
   ]
  },
  {
   "cell_type": "code",
   "execution_count": 23,
   "metadata": {},
   "outputs": [],
   "source": [
    "def new_type_group(row):\n",
    "#     print(row)\n",
    "    if row['num_genes'] == 0:\n",
    "        return NOCAS\n",
    "    if \"Unclassified\" in row['class']:\n",
    "        return Incomplete\n",
    "    if \"MultipleConfirmed\" in row['class']:\n",
    "        # Confirmed Mixed: The CRISPR array associated confirms that the type is a mixed type.\n",
    "        return Mixed  \n",
    "    if \"/\" in row['type'] or row['type'] == \"CAS\": \n",
    "        return Mixed\n",
    "    return row['type']\n",
    "#     if \"Confirmed\" in row['class']:\n",
    "#         return \"Confirmed \" + row['type']\n",
    "#     if \"Accompanied\" in row['class']:\n",
    "#         return \"Accompanied \" + row['type']\n",
    "    \n",
    "df_genome_class['new_type_group'] = df_genome_class.apply(new_type_group, axis=1)"
   ]
  },
  {
   "cell_type": "code",
   "execution_count": 24,
   "metadata": {},
   "outputs": [
    {
     "data": {
      "text/html": [
       "<div>\n",
       "<style scoped>\n",
       "    .dataframe tbody tr th:only-of-type {\n",
       "        vertical-align: middle;\n",
       "    }\n",
       "\n",
       "    .dataframe tbody tr th {\n",
       "        vertical-align: top;\n",
       "    }\n",
       "\n",
       "    .dataframe thead th {\n",
       "        text-align: right;\n",
       "    }\n",
       "</style>\n",
       "<table border=\"1\" class=\"dataframe\">\n",
       "  <thead>\n",
       "    <tr style=\"text-align: right;\">\n",
       "      <th></th>\n",
       "      <th>new_type_group</th>\n",
       "    </tr>\n",
       "    <tr>\n",
       "      <th>genome_id</th>\n",
       "      <th></th>\n",
       "    </tr>\n",
       "  </thead>\n",
       "  <tbody>\n",
       "    <tr>\n",
       "      <th>100053.4</th>\n",
       "      <td>CAS-TypeIE</td>\n",
       "    </tr>\n",
       "    <tr>\n",
       "      <th>100053.5</th>\n",
       "      <td>CAS-TypeIE</td>\n",
       "    </tr>\n",
       "    <tr>\n",
       "      <th>100053.6</th>\n",
       "      <td>CAS-TypeIE</td>\n",
       "    </tr>\n",
       "    <tr>\n",
       "      <th>100053.7</th>\n",
       "      <td>CAS-TypeIE</td>\n",
       "    </tr>\n",
       "    <tr>\n",
       "      <th>100053.8</th>\n",
       "      <td>CAS-TypeIE</td>\n",
       "    </tr>\n",
       "  </tbody>\n",
       "</table>\n",
       "</div>"
      ],
      "text/plain": [
       "          new_type_group\n",
       "genome_id               \n",
       "100053.4      CAS-TypeIE\n",
       "100053.5      CAS-TypeIE\n",
       "100053.6      CAS-TypeIE\n",
       "100053.7      CAS-TypeIE\n",
       "100053.8      CAS-TypeIE"
      ]
     },
     "execution_count": 24,
     "metadata": {},
     "output_type": "execute_result"
    }
   ],
   "source": [
    "df = df.join(df_genome_class)\n",
    "df_genome_class[['new_type_group']].head()"
   ]
  },
  {
   "cell_type": "markdown",
   "metadata": {},
   "source": [
    "## Renaming"
   ]
  },
  {
   "cell_type": "code",
   "execution_count": 25,
   "metadata": {},
   "outputs": [],
   "source": [
    "df['genome_type'].where(df['genome_type'] != 'NOCAS', other=NOCAS, inplace=True)"
   ]
  },
  {
   "cell_type": "markdown",
   "metadata": {},
   "source": [
    "#### Here the top level is actually set"
   ]
  },
  {
   "cell_type": "code",
   "execution_count": 26,
   "metadata": {},
   "outputs": [],
   "source": [
    "assert 'Mixed' in Mixed, \\\n",
    "        \"Mixed is one group, there is no distinction between the multiple mixed possibilities in there anymore.\"\n",
    "df['top_level_group'] = df['new_type_group'].apply(lambda x: Mixed if 'Mixed' in x else \n",
    "                                                  {k: k for k in [NOCAS, Incomplete]}.get(x) or Complete)"
   ]
  },
  {
   "cell_type": "markdown",
   "metadata": {},
   "source": [
    "## Query specific information\n",
    "Here you can specify a subset of the data you want to view. Test on of the examples to comment it out. (Specify the cut-off identity in the next cell.)  \n",
    "\n",
    "**NB.** You have to be carefull interpreting the results you get with this. Not all plots will automatically adjust themself with new data and can look odd with it. The scale can be off, or the plot doesn't work out very well far small amount of data, or data that is diversified. Also, some plots just don't make any sense anymore, since they compare all genomes with each other. Also the category 'other', which is now 'CAS-TypeVC | CAS-TypeVIB2' will change. "
   ]
  },
  {
   "cell_type": "markdown",
   "metadata": {},
   "source": [
    "Substring search (name is the species name).  \n",
    "**NB.** Watch out with capitals,  \n",
    "it is better to query with `[Tt]uberculosis` so that both Tuberculosis and tuberculosis is captured. (If the `[Tt]` look odd to you, look up regular expressions.)"
   ]
  },
  {
   "cell_type": "code",
   "execution_count": 27,
   "metadata": {},
   "outputs": [],
   "source": [
    "# df = df[df['name'].str.contains('tuberculosis')]"
   ]
  },
  {
   "cell_type": "markdown",
   "metadata": {},
   "source": [
    "Type search (use regex to make the distinction, substring won't distinct TypeI and TypeII)  \n",
    "The `new_type_group` excludes all mixed types, otherwise use `type`  \n",
    "If the latter is chosen be aware that all plots,  \n",
    "make use of the custom grouping based on the `new_type_group` instaed,   \n",
    "so decide if you want to change that as well  "
   ]
  },
  {
   "cell_type": "code",
   "execution_count": 28,
   "metadata": {},
   "outputs": [],
   "source": [
    "# df = df[df['new_type_group'].str.contains('TypeI[^I]')]"
   ]
  },
  {
   "cell_type": "markdown",
   "metadata": {},
   "source": [
    "PAM: The pam group 3 indicates that both the array repeat family as the crispr cas locus corresponds with the PAM. Also see [here](#PAM-analysis)"
   ]
  },
  {
   "cell_type": "code",
   "execution_count": 29,
   "metadata": {},
   "outputs": [],
   "source": [
    "# df = df[df['PAM_confid'] == 3]"
   ]
  },
  {
   "cell_type": "code",
   "execution_count": 30,
   "metadata": {},
   "outputs": [],
   "source": [
    "# df = df[df['spacer_pos'] <= 10]"
   ]
  },
  {
   "cell_type": "code",
   "execution_count": 31,
   "metadata": {},
   "outputs": [],
   "source": [
    "# df = df[df['new_type_group'].str.contains('TypeIC')]"
   ]
  },
  {
   "cell_type": "markdown",
   "metadata": {},
   "source": [
    "### Split in certain groups"
   ]
  },
  {
   "cell_type": "code",
   "execution_count": 32,
   "metadata": {},
   "outputs": [],
   "source": [
    "# Identity with hit cut-off\n",
    "# Group with unique spacer hits\n",
    "\n",
    "# df : df with hit cut-off \n",
    "# df_all : all rows (so larger than the default 75 %)\n",
    "# df_uni : Unique spacers for a genome (with the hit cut-off)\n",
    "# df_uni_all : All unique spacers\n",
    "\n",
    "# This is the hit cuff-off, change to include more or less STSs in the `df` data frame.\n",
    "perc_ident = 90\n",
    "\n",
    "df_uni = (\n",
    "    df.reset_index()\n",
    "    .groupby(['genome_id', 'seq']).first().reset_index()\n",
    "    .set_index('genome_id')\n",
    ")\n",
    "df_all = df\n",
    "df_uni_all = df_uni\n",
    "\n",
    "df = df.query('hit_ident > @perc_ident')\n",
    "df_uni = df_uni.query('hit_ident > @perc_ident')\n",
    "perc_ident = '100%' if perc_ident == 100 else '>%d%%' % perc_ident"
   ]
  },
  {
   "cell_type": "code",
   "execution_count": 33,
   "metadata": {},
   "outputs": [
    {
     "name": "stdout",
     "output_type": "stream",
     "text": [
      "174052\n"
     ]
    },
    {
     "data": {
      "text/plain": [
       "21538"
      ]
     },
     "execution_count": 33,
     "metadata": {},
     "output_type": "execute_result"
    }
   ],
   "source": [
    "assert len(df_all) != 0, \"The applied selection did not pass any STSs.\"\n",
    "print(len(df_all))\n",
    "len(df_all.index.unique())"
   ]
  },
  {
   "cell_type": "markdown",
   "metadata": {},
   "source": [
    "# MAKE CRISPR GROUPING"
   ]
  },
  {
   "cell_type": "markdown",
   "metadata": {},
   "source": [
    "## DEFAULT GROUPING\n",
    "Every type is kept as it was originally described by the classifier."
   ]
  },
  {
   "cell_type": "code",
   "execution_count": 34,
   "metadata": {},
   "outputs": [],
   "source": [
    "df_single_type = df[~df['genome_type'].str.contains('/')]"
   ]
  },
  {
   "cell_type": "code",
   "execution_count": 35,
   "metadata": {},
   "outputs": [],
   "source": [
    "def sort_groups(group_type):\n",
    "    if group_type.startswith(\"Mixed\"):\n",
    "        return \"U\"\n",
    "    if group_type == other:\n",
    "        return 'MZ'\n",
    "    if not group_type.startswith(\"CAS\"):\n",
    "        return \"Z\" + group_type\n",
    "    return \"-\".join(megasplit(r'(?<=V|I)(?!V|I)', group_type))"
   ]
  },
  {
   "cell_type": "code",
   "execution_count": 36,
   "metadata": {},
   "outputs": [],
   "source": [
    "df_genome = df.groupby(df.index).first()\n",
    "df_genome['selfhit_count'] = df.groupby(df.index)['contig_hit'].agg('count')\n",
    "df_genome_type_count = df_genome['genome_type'].value_counts()\n",
    "all_genome_type_count = df_genome_class['type'].value_counts()\n",
    "all_genome_type_count = all_genome_type_count[df_genome_type_count.index]\n",
    "all_genome_type_count[NOCAS] = no_type\n",
    "all_genome_type_count[other] = total_genomes - sum(all_genome_type_count)\n",
    "df_genome_type_count[other] = 0\n",
    "df_genome_type_count = df_genome_type_count.reindex(index = sorted(df_genome_type_count.index))\n",
    "all_genome_type_count = all_genome_type_count.reindex(index = sorted(all_genome_type_count.index))"
   ]
  },
  {
   "cell_type": "markdown",
   "metadata": {},
   "source": [
    "## CUSTOM GROUPING\n",
    "For this the `new_type_group` is used. This is the type without any split types. They are just \"Mixed\", allthough a distinction within the \"Mixed\" can be made, this is rather arbitrary, and therefore the custom grouping uses the simple case in which a mixed groups is *just* a mixed group."
   ]
  },
  {
   "cell_type": "code",
   "execution_count": 37,
   "metadata": {},
   "outputs": [
    {
     "name": "stdout",
     "output_type": "stream",
     "text": [
      "CAS-TypeIE                  15342\n",
      "CAS-TypeIIIA                10035\n",
      "Incomplete CRISPR System     5627\n",
      "CAS-TypeIF                   3390\n",
      "No CAS genes                 3035\n",
      "CAS-TypeIIC                  2983\n",
      "CAS-TypeIIA                  2844\n",
      "Mixed CRISPR System          2716\n",
      "CAS-TypeIC                   2384\n",
      "CAS-TypeIB                   2341\n",
      "CAS-TypeIU                    262\n",
      "CAS-TypeIIIB                  250\n",
      "CAS-TypeIIB                   205\n",
      "CAS-TypeIV                    189\n",
      "CAS-TypeIIID                  155\n",
      "CAS-TypeIA                    135\n",
      "CAS-TypeID                    107\n",
      "CAS-TypeVA                     71\n",
      "CAS-TypeVIA                    53\n",
      "CAS-TypeVIB1                   34\n",
      "CAS-TypeVB                     15\n",
      "CAS-TypeIIIC                   12\n",
      "CAS-TypeVIB2                    2\n",
      "CAS-TypeVC                      1\n",
      "Name: new_type_group, dtype: int64\n"
     ]
    }
   ],
   "source": [
    "alltypes_renamed_count = df_genome_class['new_type_group'].value_counts()\n",
    "dftyped_renamed = df.groupby(by='genome_id').first()\n",
    "dftyped_renamed['selfhit_count'] = df.groupby(by='genome_id')['contig_hit'].agg('count')\n",
    "dftyped_renamed_count = dftyped_renamed['new_type_group'].value_counts()\n",
    "print(alltypes_renamed_count)\n",
    "alltypes_renamed_count[NOCAS] += no_type\n",
    "\n",
    "# Setting other\n",
    "# *can* include: {'CAS-TypeVC': 1, 'CAS-TypeVIB2': 2} (depending on cut-off value (currently 90 %))\n",
    "# Other is all genomes types that occur in all, but not in the group of genomes with at least one STS.\n",
    "\n",
    "alltypes_renamed_count_no_other = alltypes_renamed_count\n",
    "alltypes_renamed_count = alltypes_renamed_count[dftyped_renamed_count.index]\n",
    "alltypes_renamed_count[other] = total_genomes - sum(alltypes_renamed_count)\n",
    "\n",
    "dftyped_renamed_count[other] = 0\n",
    "dftyped_renamed_count = dftyped_renamed_count.reindex(index=sorted(dftyped_renamed_count.index, key=sort_groups))\n",
    "alltypes_renamed_count = alltypes_renamed_count.reindex(index=sorted(alltypes_renamed_count.index, key=sort_groups))"
   ]
  },
  {
   "cell_type": "markdown",
   "metadata": {},
   "source": [
    "Insert zeros in certain places so that some graphs are more readable."
   ]
  },
  {
   "cell_type": "code",
   "execution_count": 38,
   "metadata": {},
   "outputs": [],
   "source": [
    "def insert_rows(df, idx, df_insert=None):\n",
    "    if not df_insert: \n",
    "        df_insert = [0] * len(idx)\n",
    "    df_insert = [pd.Series({\"\": i}) for i in df_insert]\n",
    "    res = df.iloc[:idx[0], ]\n",
    "    for i in range(len(idx) - 1):\n",
    "        res = res.append(df_insert[i]).append(df.iloc[idx[i]:idx[i+1], ])\n",
    "    res = res.append(df_insert[-1]).append(df.iloc[idx[-1]:, ])\n",
    "    return res\n",
    "\n",
    "# splits = [7, 10, 14, 15, 18, 21]\n",
    "splits = [7, 10, 14, 15, 17, 19, \n",
    "#           22,\n",
    "         ]\n",
    "dftyped_renamed_count = insert_rows(dftyped_renamed_count, splits)\n",
    "alltypes_renamed_count = insert_rows(alltypes_renamed_count, splits)"
   ]
  },
  {
   "cell_type": "markdown",
   "metadata": {},
   "source": [
    "## Anti CRISPR analysis"
   ]
  },
  {
   "cell_type": "code",
   "execution_count": 39,
   "metadata": {},
   "outputs": [],
   "source": [
    "acr = {l.strip() for l in open(data_folder + 'acr_ids')}\n",
    "aca = {l.strip() for l in open(data_folder + 'aca_ids')}"
   ]
  },
  {
   "cell_type": "markdown",
   "metadata": {},
   "source": [
    "Remove all hits that are just associated (aca) and not actual anti-crispr"
   ]
  },
  {
   "cell_type": "code",
   "execution_count": 40,
   "metadata": {},
   "outputs": [],
   "source": [
    "df_acr = df_acr_aca.query('sseqid in @acr')"
   ]
  },
  {
   "cell_type": "code",
   "execution_count": 41,
   "metadata": {},
   "outputs": [],
   "source": [
    "df_acr = df_acr.groupby(by='genome_id').first()"
   ]
  },
  {
   "cell_type": "code",
   "execution_count": 42,
   "metadata": {},
   "outputs": [
    {
     "data": {
      "text/plain": [
       "Index(['1030009.3', '1069608.3', '1069617.3', '1081927.4', '1118159.3',\n",
       "       '1145157.3', '1163395.3', '1163395.4', '1163396.3', '1168061.3',\n",
       "       ...\n",
       "       '798130.4', '857124.3', '857127.3', '857574.3', '857579.3', '857581.3',\n",
       "       '860228.4', '862513.3', '882096.3', '883096.3'],\n",
       "      dtype='object', name='genome_id', length=1572)"
      ]
     },
     "execution_count": 42,
     "metadata": {},
     "output_type": "execute_result"
    }
   ],
   "source": [
    "df_acr.index"
   ]
  },
  {
   "cell_type": "code",
   "execution_count": 43,
   "metadata": {},
   "outputs": [
    {
     "data": {
      "text/plain": [
       "new_type_group\n",
       "CAS-TypeIA                    0\n",
       "CAS-TypeIB                   83\n",
       "CAS-TypeIC                    6\n",
       "CAS-TypeID                    0\n",
       "CAS-TypeIE                  106\n",
       "CAS-TypeIF                  366\n",
       "CAS-TypeIIA                 153\n",
       "CAS-TypeIIB                   0\n",
       "CAS-TypeIIC                   7\n",
       "CAS-TypeIIIA                  0\n",
       "CAS-TypeIIIB                  0\n",
       "CAS-TypeIIIC                  0\n",
       "CAS-TypeIIID                  0\n",
       "CAS-TypeIU                    0\n",
       "CAS-TypeIV                    4\n",
       "CAS-TypeVA                    3\n",
       "CAS-TypeVB                    0\n",
       "CAS-TypeVIA                   2\n",
       "CAS-TypeVIB1                  0\n",
       "Incomplete CRISPR System      4\n",
       "Mixed CRISPR System          25\n",
       "No CAS genes                160\n",
       "dtype: int64"
      ]
     },
     "execution_count": 43,
     "metadata": {},
     "output_type": "execute_result"
    }
   ],
   "source": [
    "acr_sts = df.groupby(by='genome_id').first() \\\n",
    "    .groupby(by='new_type_group') \\\n",
    "    .apply(lambda l: len(l.index & df_acr.index))\n",
    "acr_sts"
   ]
  },
  {
   "cell_type": "code",
   "execution_count": 44,
   "metadata": {},
   "outputs": [
    {
     "data": {
      "text/plain": [
       "new_type_group\n",
       "CAS-TypeIA                    0\n",
       "CAS-TypeIB                  100\n",
       "CAS-TypeIC                   14\n",
       "CAS-TypeID                    0\n",
       "CAS-TypeIE                  116\n",
       "CAS-TypeIF                  394\n",
       "CAS-TypeIIA                 175\n",
       "CAS-TypeIIB                   0\n",
       "CAS-TypeIIC                   9\n",
       "CAS-TypeIIIA                  1\n",
       "CAS-TypeIIIB                  0\n",
       "CAS-TypeIIIC                  0\n",
       "CAS-TypeIIID                  0\n",
       "CAS-TypeIU                    0\n",
       "CAS-TypeIV                   26\n",
       "CAS-TypeVA                    4\n",
       "CAS-TypeVB                    0\n",
       "CAS-TypeVC                    0\n",
       "CAS-TypeVIA                   3\n",
       "CAS-TypeVIB1                  1\n",
       "CAS-TypeVIB2                  0\n",
       "Incomplete CRISPR System     14\n",
       "Mixed CRISPR System          27\n",
       "No CAS genes                206\n",
       "dtype: int64"
      ]
     },
     "execution_count": 44,
     "metadata": {},
     "output_type": "execute_result"
    }
   ],
   "source": [
    "acr_all = df_genome_class.groupby(by='genome_id').first() \\\n",
    "    .groupby(by='new_type_group') \\\n",
    "    .apply(lambda l: len(l.index & df_acr.index))\n",
    "acr_all"
   ]
  },
  {
   "cell_type": "markdown",
   "metadata": {},
   "source": [
    "# PLOTTING"
   ]
  },
  {
   "cell_type": "markdown",
   "metadata": {},
   "source": [
    "### Change what grouping to use for coming plots"
   ]
  },
  {
   "cell_type": "code",
   "execution_count": 45,
   "metadata": {},
   "outputs": [
    {
     "data": {
      "text/plain": [
       "CAS-TypeIA                     135\n",
       "CAS-TypeIB                    2341\n",
       "CAS-TypeIC                    2384\n",
       "CAS-TypeID                     107\n",
       "CAS-TypeIE                   15342\n",
       "CAS-TypeIF                    3390\n",
       "CAS-TypeIU                     262\n",
       "                                 0\n",
       "CAS-TypeIIA                   2844\n",
       "CAS-TypeIIB                    205\n",
       "CAS-TypeIIC                   2983\n",
       "                                 0\n",
       "CAS-TypeIIIA                 10035\n",
       "CAS-TypeIIIB                   250\n",
       "CAS-TypeIIIC                    12\n",
       "CAS-TypeIIID                   155\n",
       "                                 0\n",
       "CAS-TypeIV                     189\n",
       "                                 0\n",
       "CAS-TypeVA                      71\n",
       "CAS-TypeVB                      15\n",
       "                                 0\n",
       "CAS-TypeVIA                     53\n",
       "CAS-TypeVIB1                    34\n",
       "                                 0\n",
       "Cas-TypeVC | CAS-TypeVIB2        3\n",
       "Mixed CRISPR System           2716\n",
       "Incomplete CRISPR System      5627\n",
       "No CAS genes                 61181\n",
       "dtype: int64"
      ]
     },
     "execution_count": 45,
     "metadata": {},
     "output_type": "execute_result"
    }
   ],
   "source": [
    "custom = True\n",
    "if custom:\n",
    "    df_genome_type_count = dftyped_renamed_count\n",
    "    all_genome_type_count = alltypes_renamed_count\n",
    "all_genome_type_count"
   ]
  },
  {
   "cell_type": "markdown",
   "metadata": {},
   "source": [
    "Print some general info about the size of each group."
   ]
  },
  {
   "cell_type": "code",
   "execution_count": 46,
   "metadata": {},
   "outputs": [
    {
     "name": "stdout",
     "output_type": "stream",
     "text": [
      "Total STS/genomes with STS (>75): 174052 / 21538\n",
      "Total STS/genomes with STS (>90): 23626 / 8466\n",
      "Total STS/genomes with STS (>100): 12121 / 5759\n"
     ]
    }
   ],
   "source": [
    "def print_info(df):\n",
    "    for identity_hit in [75, 90, 100]:\n",
    "        q = 'hit_ident == 100' if identity_hit == 100 else 'hit_ident > @identity_hit'\n",
    "        print(\n",
    "            \"Total STS/genomes with STS (>%d): %d / %d\" % (\n",
    "                identity_hit, \n",
    "                len(df.query(q)),\n",
    "                len(set(df.query(q).index))\n",
    "            )\n",
    "        )\n",
    "        \n",
    "print_info(df_all)"
   ]
  },
  {
   "cell_type": "markdown",
   "metadata": {},
   "source": [
    "### Actual plots\n",
    "Now we finally can start plotting!"
   ]
  },
  {
   "cell_type": "code",
   "execution_count": 47,
   "metadata": {},
   "outputs": [
    {
     "name": "stdout",
     "output_type": "stream",
     "text": [
      "Percentage of genomes with no CAS genes: 55.5 %\n"
     ]
    },
    {
     "data": {
      "image/png": "[encoded data removed]",
      "text/plain": [
       "<Figure size 864x576 with 1 Axes>"
      ]
     },
     "metadata": {},
     "output_type": "display_data"
    },
    {
     "data": {
      "image/png": "[encoded data removed]",
      "text/plain": [
       "<Figure size 864x576 with 1 Axes>"
      ]
     },
     "metadata": {},
     "output_type": "display_data"
    }
   ],
   "source": [
    "# df_genome_type_count_subsection = df_genome_type_count[df_genome_type_count.index != NOCAS]\n",
    "# all_genome_type_count_subsection = all_genome_type_count[all_genome_type_count.index != NOCAS]\n",
    "\n",
    "def palette_2_map(palette):\n",
    "    return mpl.colors.ListedColormap(sns.color_palette(palette).as_hex())\n",
    "\n",
    "nocas_perc = all_genome_type_count.get(NOCAS, 0) / all_genome_type_count.sum()\n",
    "print(\"Percentage of genomes with no CAS genes: %.1f %%\" % (100.0 * nocas_perc))\n",
    "\n",
    "sorted_genomes = alltypes_renamed_count_no_other.pipe(\n",
    "    lambda d:\n",
    "    d[(d != 0) & (d.index != NOCAS)].sort_values(ascending=False)\n",
    ")\n",
    "\n",
    "# Here the split between the two circle diagrams is made.\n",
    "split_on = \"CAS-TypeIU\"\n",
    "others = sorted_genomes.loc[split_on:]\n",
    "others = others.iloc[1:]  # remove split_on itself (pandas implements unlogical slicing)\n",
    "largest = sorted_genomes.loc[:split_on].append(pd.Series([others.sum()], index=['|']))\n",
    "colors_num = len(sorted_genomes) + 1\n",
    "import random\n",
    "random.seed(1)\n",
    "colors_map  = sns.color_palette(\"hls\", n_colors=colors_num)\n",
    "random.shuffle(colors_map)\n",
    "split_num = len(largest)\n",
    "ax = largest.plot.pie(legend=False, colormap=palette_2_map(colors_map[:split_num]))\n",
    "# others.plot.pie(legend=False)\n",
    "\n",
    "\n",
    "# ax = sorted_genomes.plot.pie(legend=False)\n",
    "# plt.legend(bbox_to_anchor=(1.25, 1), loc=2, borderaxespad=0.)\n",
    "increase_figsize(2, plt)\n",
    "ax.set_ylabel(\"\")\n",
    "ax.set_title(\"Distribution of types of all genomes, excluding no cas genes (%.1f %%))\" % (100 - 100 * nocas_perc))\n",
    "save_fig()\n",
    "save_fig(format='svg')\n",
    "# ----\n",
    "fig, ax = plt.subplots()\n",
    "# others.rename(index={'other': ''}, inplace=True)\n",
    "others.plot.pie(legend=False, ax=ax, colormap=palette_2_map(colors_map[split_num:]))\n",
    "increase_figsize(2, plt)\n",
    "ax.set_ylabel(\"\")\n",
    "ax.set_title(\"Distribution of the other genomes crispr type (%.1f %%)\" \n",
    "             % (100 * others.sum() / all_genome_type_count.sum()))\n",
    "save_fig()\n",
    "save_fig(format='svg')"
   ]
  },
  {
   "cell_type": "code",
   "execution_count": 48,
   "metadata": {},
   "outputs": [],
   "source": [
    "# ax = sns.countplot(x='spacer_size', data=df, color=cbf[0], saturation=100)\n",
    "# # increase_figsize(3, plt)\n",
    "\n",
    "# sns.despine()\n",
    "# every_nth = 5\n",
    "# for n, label in enumerate(ax.xaxis.get_ticklabels()):\n",
    "#     if (n-1) % every_nth != 0:\n",
    "#         label.set_visible(False)\n",
    "# # ax.set_yscale('log')\n",
    "# plt.title(\"Spacer size (all spacer hits)\" + title_mod)\n",
    "# plSize = plt.gcf().get_size_inches()\n",
    "# plt.gcf().set_size_inches( (plSize[0]*1, plSize[1]*2) )\n",
    "# if save:\n",
    "#     second_order += 1\n",
    "#     plt.savefig(fig_folder + first_order + str(second_order) + ax.get_title().replace(\" \", \"_\") + \".png\", format='png', bbox_inches='tight')"
   ]
  },
  {
   "cell_type": "markdown",
   "metadata": {},
   "source": [
    "## Histogram of spacer size"
   ]
  },
  {
   "cell_type": "code",
   "execution_count": 49,
   "metadata": {
    "scrolled": true
   },
   "outputs": [
    {
     "name": "stdout",
     "output_type": "stream",
     "text": [
      "figure saved in /home/hielke/bep/figs/FOR_PUB3/A1___Spacer_size_of_unique_STS_(TypeIII)_(hit_identity:_>90%)_(N=20019).png\n"
     ]
    },
    {
     "data": {
      "image/png": "[encoded data removed]",
      "text/plain": [
       "<Figure size 432x576 with 1 Axes>"
      ]
     },
     "metadata": {
      "needs_background": "light"
     },
     "output_type": "display_data"
    }
   ],
   "source": [
    "# Making a hist plot so that each bin is equal to that exact integer. \n",
    "# (So each bin is e.g. 4.5-5.5 so that all 5 size is captured there)\n",
    "def plot(d):\n",
    "    ax = d.pipe(\n",
    "        lambda df: df['spacer_size'].hist(\n",
    "            bins=list(map(.5 .__rsub__, range(df['spacer_size'].min(), df['spacer_size'].max() + 2)))\n",
    "        )\n",
    "    )\n",
    "    return ax, len(d)\n",
    "ax, N = plot(df_uni)\n",
    "sns.despine()\n",
    "ax.grid(False)\n",
    "plSize = plt.gcf().get_size_inches()\n",
    "plt.gcf().set_size_inches((plSize[0]*1, plSize[1]*2))\n",
    "# ax.set_yscale('log')\n",
    "plt.title(\"Spacer size of unique STS (TypeIII) (hit identity: %s) (N=%d)\" % (perc_ident + title_mod, N), fontsize=16)\n",
    "plt.xlabel(\"Spacer size\")\n",
    "plt.ylabel(\"Frequency\")\n",
    "save_fig(save=True)"
   ]
  },
  {
   "cell_type": "code",
   "execution_count": 50,
   "metadata": {},
   "outputs": [
    {
     "data": {
      "image/png": "[encoded data removed]",
      "text/plain": [
       "<Figure size 1728x1728 with 4 Axes>"
      ]
     },
     "metadata": {
      "needs_background": "light"
     },
     "output_type": "display_data"
    }
   ],
   "source": [
    "top_level_order = [Complete, Mixed, Incomplete, NOCAS]  # Order to plot each group in.\n",
    "\n",
    "g = sns.FacetGrid(df_uni.query('array_size < 100'), row='top_level_group', aspect=4, row_order=top_level_order) \n",
    "g = g.map(plt.hist, 'array_size', density=True, color='darkseagreen', bins=40)\n",
    "g.fig.suptitle(\"Distribution of array size of all unique STS (hit identity: %s)\" % perc_ident, fontsize=32, y=1.01)\n",
    "# ax.set_yscale('log')\n",
    "plt.xlabel('Array size')\n",
    "for ax in g.axes.flat:\n",
    "    ax.set_xlim(left=0)\n",
    "increase_size_by(2, 20)\n",
    "g.set_titles(row_template=\"{row_name}\", size=25)\n",
    "save_fig(g)"
   ]
  },
  {
   "cell_type": "code",
   "execution_count": 51,
   "metadata": {},
   "outputs": [
    {
     "data": {
      "image/png": "[encoded data removed]",
      "text/plain": [
       "<Figure size 1728x1728 with 4 Axes>"
      ]
     },
     "metadata": {
      "needs_background": "light"
     },
     "output_type": "display_data"
    }
   ],
   "source": [
    "df_hitcount = df_uni.pipe(\n",
    "    lambda df:\n",
    "    df.groupby(by='genome_id').agg('first')\n",
    "    .assign(\n",
    "        genome_count_hit=df.groupby(by='genome_id')['array_id'].agg('count')\n",
    "    )\n",
    ")\n",
    "\n",
    "g = sns.FacetGrid(df_hitcount, row='top_level_group', aspect=4, row_order=top_level_order) \n",
    "g = g.map(plt.hist, 'genome_count_hit', density=False, color='darkseagreen', \n",
    "          bins=list(map(.5 .__rsub__, range(0, df_hitcount['genome_count_hit'].max() + 2)))\n",
    "         )\n",
    "\n",
    "g.fig.suptitle(\"Distribution of the totals of unique STSs in a genome (hit identity: %s)\" % perc_ident, fontsize=32, y=1.01)\n",
    "plt.xlabel('Total STS')\n",
    "g.set(yscale='log')\n",
    "for ax in g.axes.flat:\n",
    "    ax.set_xlim(left=0, )\n",
    "increase_size_by(2, 20)\n",
    "g.set_titles(row_template=\"{row_name}\", size=25)\n",
    "save_fig(g)"
   ]
  },
  {
   "cell_type": "code",
   "execution_count": 52,
   "metadata": {},
   "outputs": [],
   "source": [
    "# df_hitcount.query('(genome_count_hit > 10) & (genome_type == \"CAS-TypeIC\")').pipe(\n",
    "#     lambda d: d.empty or\n",
    "#     d[d.index.str.contains(\"64187\")]\n",
    "# )"
   ]
  },
  {
   "cell_type": "markdown",
   "metadata": {},
   "source": [
    "## Anti CRISPR analysis"
   ]
  },
  {
   "cell_type": "code",
   "execution_count": 53,
   "metadata": {},
   "outputs": [],
   "source": [
    "acr = {l.strip() for l in open(data_folder + 'acr_ids')}\n",
    "aca = {l.strip() for l in open(data_folder + 'aca_ids')}"
   ]
  },
  {
   "cell_type": "markdown",
   "metadata": {},
   "source": [
    "Remove all hits that are just associated (aca) and not actual anti-crispr"
   ]
  },
  {
   "cell_type": "code",
   "execution_count": 54,
   "metadata": {},
   "outputs": [],
   "source": [
    "df_acr = df_acr_aca.query('sseqid in @acr')"
   ]
  },
  {
   "cell_type": "code",
   "execution_count": 55,
   "metadata": {},
   "outputs": [],
   "source": [
    "df_acr = df_acr.groupby(by='genome_id').first()"
   ]
  },
  {
   "cell_type": "code",
   "execution_count": 56,
   "metadata": {},
   "outputs": [
    {
     "data": {
      "text/plain": [
       "Index(['1030009.3', '1069608.3', '1069617.3', '1081927.4', '1118159.3',\n",
       "       '1145157.3', '1163395.3', '1163395.4', '1163396.3', '1168061.3',\n",
       "       ...\n",
       "       '798130.4', '857124.3', '857127.3', '857574.3', '857579.3', '857581.3',\n",
       "       '860228.4', '862513.3', '882096.3', '883096.3'],\n",
       "      dtype='object', name='genome_id', length=1572)"
      ]
     },
     "execution_count": 56,
     "metadata": {},
     "output_type": "execute_result"
    }
   ],
   "source": [
    "df_acr.index"
   ]
  },
  {
   "cell_type": "code",
   "execution_count": 57,
   "metadata": {},
   "outputs": [
    {
     "data": {
      "text/plain": [
       "new_type_group\n",
       "CAS-TypeIA                    0\n",
       "CAS-TypeIB                   83\n",
       "CAS-TypeIC                    6\n",
       "CAS-TypeID                    0\n",
       "CAS-TypeIE                  106\n",
       "CAS-TypeIF                  366\n",
       "CAS-TypeIIA                 153\n",
       "CAS-TypeIIB                   0\n",
       "CAS-TypeIIC                   7\n",
       "CAS-TypeIIIA                  0\n",
       "CAS-TypeIIIB                  0\n",
       "CAS-TypeIIIC                  0\n",
       "CAS-TypeIIID                  0\n",
       "CAS-TypeIU                    0\n",
       "CAS-TypeIV                    4\n",
       "CAS-TypeVA                    3\n",
       "CAS-TypeVB                    0\n",
       "CAS-TypeVIA                   2\n",
       "CAS-TypeVIB1                  0\n",
       "Incomplete CRISPR System      4\n",
       "Mixed CRISPR System          25\n",
       "No CAS genes                160\n",
       "dtype: int64"
      ]
     },
     "execution_count": 57,
     "metadata": {},
     "output_type": "execute_result"
    }
   ],
   "source": [
    "acr_sts = df.groupby(by='genome_id').first() \\\n",
    "    .groupby(by='new_type_group') \\\n",
    "    .apply(lambda l: len(l.index & df_acr.index))\n",
    "acr_sts"
   ]
  },
  {
   "cell_type": "code",
   "execution_count": 58,
   "metadata": {},
   "outputs": [
    {
     "data": {
      "text/plain": [
       "new_type_group\n",
       "CAS-TypeIA                    0\n",
       "CAS-TypeIB                  100\n",
       "CAS-TypeIC                   14\n",
       "CAS-TypeID                    0\n",
       "CAS-TypeIE                  116\n",
       "CAS-TypeIF                  394\n",
       "CAS-TypeIIA                 175\n",
       "CAS-TypeIIB                   0\n",
       "CAS-TypeIIC                   9\n",
       "CAS-TypeIIIA                  1\n",
       "CAS-TypeIIIB                  0\n",
       "CAS-TypeIIIC                  0\n",
       "CAS-TypeIIID                  0\n",
       "CAS-TypeIU                    0\n",
       "CAS-TypeIV                   26\n",
       "CAS-TypeVA                    4\n",
       "CAS-TypeVB                    0\n",
       "CAS-TypeVC                    0\n",
       "CAS-TypeVIA                   3\n",
       "CAS-TypeVIB1                  1\n",
       "CAS-TypeVIB2                  0\n",
       "Incomplete CRISPR System     14\n",
       "Mixed CRISPR System          27\n",
       "No CAS genes                206\n",
       "dtype: int64"
      ]
     },
     "execution_count": 58,
     "metadata": {},
     "output_type": "execute_result"
    }
   ],
   "source": [
    "acr_all = df_genome_class.groupby(by='genome_id').first() \\\n",
    "    .groupby(by='new_type_group') \\\n",
    "    .apply(lambda l: len(l.index & df_acr.index))\n",
    "acr_all"
   ]
  },
  {
   "cell_type": "markdown",
   "metadata": {},
   "source": [
    "## Plots on type level"
   ]
  },
  {
   "cell_type": "code",
   "execution_count": 59,
   "metadata": {},
   "outputs": [
    {
     "data": {
      "text/plain": [
       "CAS-TypeIA                     135\n",
       "CAS-TypeIB                    2341\n",
       "CAS-TypeIC                    2384\n",
       "CAS-TypeID                     107\n",
       "CAS-TypeIE                   15342\n",
       "CAS-TypeIF                    3390\n",
       "CAS-TypeIU                     262\n",
       "                                 0\n",
       "CAS-TypeIIA                   2844\n",
       "CAS-TypeIIB                    205\n",
       "CAS-TypeIIC                   2983\n",
       "                                 0\n",
       "CAS-TypeIIIA                 10035\n",
       "CAS-TypeIIIB                   250\n",
       "CAS-TypeIIIC                    12\n",
       "CAS-TypeIIID                   155\n",
       "                                 0\n",
       "CAS-TypeIV                     189\n",
       "                                 0\n",
       "CAS-TypeVA                      71\n",
       "CAS-TypeVB                      15\n",
       "                                 0\n",
       "CAS-TypeVIA                     53\n",
       "CAS-TypeVIB1                    34\n",
       "                                 0\n",
       "Cas-TypeVC | CAS-TypeVIB2        3\n",
       "Mixed CRISPR System           2716\n",
       "Incomplete CRISPR System      5627\n",
       "dtype: int64"
      ]
     },
     "execution_count": 59,
     "metadata": {},
     "output_type": "execute_result"
    }
   ],
   "source": [
    "all_genome_type_count[all_genome_type_count.index != NOCAS]"
   ]
  },
  {
   "cell_type": "code",
   "execution_count": 60,
   "metadata": {},
   "outputs": [
    {
     "data": {
      "image/png": "[encoded data removed]",
      "text/plain": [
       "<Figure size 1728x1152 with 1 Axes>"
      ]
     },
     "metadata": {
      "needs_background": "light"
     },
     "output_type": "display_data"
    }
   ],
   "source": [
    "# Remove the NOCAS since that would make the other bars almost disappear\n",
    "df_genome_type_count_subsection = df_genome_type_count[df_genome_type_count.index != NOCAS]\n",
    "all_genome_type_count_subsection = all_genome_type_count[all_genome_type_count.index != NOCAS]\n",
    "\n",
    "\n",
    "N = len(df_genome_type_count_subsection)\n",
    "ind = list(range(N))[::-1]\n",
    "\n",
    "plt.barh(ind, all_genome_type_count_subsection, color='mediumpurple', )\n",
    "ax = plt.barh(ind, df_genome_type_count_subsection, color=sns.xkcd_rgb[\"dull yellow\"], )\n",
    "\n",
    "plt.yticks(ind, df_genome_type_count_subsection.index)\n",
    "plt.legend(['Genomes with selfhits', 'Other genomes'], loc='upper right')\n",
    "plt.title(\"Genomes with STSs grouped for each type\")\n",
    "plt.xlabel(\"Total of genomes\")\n",
    "# plt.gca().set_xscale('log')\n",
    "sns.despine()\n",
    "increase_figsize(4, plt, )\n",
    "save_fig()"
   ]
  },
  {
   "cell_type": "code",
   "execution_count": 61,
   "metadata": {},
   "outputs": [
    {
     "data": {
      "text/html": [
       "<div>\n",
       "<style scoped>\n",
       "    .dataframe tbody tr th:only-of-type {\n",
       "        vertical-align: middle;\n",
       "    }\n",
       "\n",
       "    .dataframe tbody tr th {\n",
       "        vertical-align: top;\n",
       "    }\n",
       "\n",
       "    .dataframe thead th {\n",
       "        text-align: right;\n",
       "    }\n",
       "</style>\n",
       "<table border=\"1\" class=\"dataframe\">\n",
       "  <thead>\n",
       "    <tr style=\"text-align: right;\">\n",
       "      <th></th>\n",
       "      <th>seq</th>\n",
       "      <th>c_1</th>\n",
       "      <th>c_2</th>\n",
       "      <th>contig_hit</th>\n",
       "      <th>spacer_pos</th>\n",
       "      <th>spacer_id</th>\n",
       "      <th>hit_ident</th>\n",
       "      <th>spacer_size</th>\n",
       "      <th>contig_size</th>\n",
       "      <th>array_id</th>\n",
       "      <th>array_size</th>\n",
       "      <th>array_confid</th>\n",
       "      <th>repeat_size</th>\n",
       "      <th>array_type</th>\n",
       "      <th>genome_type</th>\n",
       "      <th>PAM_confid</th>\n",
       "      <th>poss_PAM</th>\n",
       "      <th>PAM_side</th>\n",
       "      <th>phage_class</th>\n",
       "      <th>with_phage</th>\n",
       "      <th>gene_hit</th>\n",
       "      <th>gene_id</th>\n",
       "      <th>gene_class</th>\n",
       "      <th>rel_spacer_pos</th>\n",
       "      <th>name_spacer_pos</th>\n",
       "      <th>array_ori</th>\n",
       "      <th>contigs</th>\n",
       "      <th>size</th>\n",
       "      <th>name</th>\n",
       "      <th>type</th>\n",
       "      <th>class</th>\n",
       "      <th>num_genes</th>\n",
       "      <th>new_type_group</th>\n",
       "      <th>top_level_group</th>\n",
       "      <th>genome_count_hit</th>\n",
       "    </tr>\n",
       "    <tr>\n",
       "      <th>genome_id</th>\n",
       "      <th></th>\n",
       "      <th></th>\n",
       "      <th></th>\n",
       "      <th></th>\n",
       "      <th></th>\n",
       "      <th></th>\n",
       "      <th></th>\n",
       "      <th></th>\n",
       "      <th></th>\n",
       "      <th></th>\n",
       "      <th></th>\n",
       "      <th></th>\n",
       "      <th></th>\n",
       "      <th></th>\n",
       "      <th></th>\n",
       "      <th></th>\n",
       "      <th></th>\n",
       "      <th></th>\n",
       "      <th></th>\n",
       "      <th></th>\n",
       "      <th></th>\n",
       "      <th></th>\n",
       "      <th></th>\n",
       "      <th></th>\n",
       "      <th></th>\n",
       "      <th></th>\n",
       "      <th></th>\n",
       "      <th></th>\n",
       "      <th></th>\n",
       "      <th></th>\n",
       "      <th></th>\n",
       "      <th></th>\n",
       "      <th></th>\n",
       "      <th></th>\n",
       "      <th></th>\n",
       "    </tr>\n",
       "  </thead>\n",
       "  <tbody>\n",
       "    <tr>\n",
       "      <th>100053.4</th>\n",
       "      <td>AAGAGGCGATTAGTTGGCTATATGCAGCCTTT</td>\n",
       "      <td>45209</td>\n",
       "      <td>45178</td>\n",
       "      <td>JQGS01000037</td>\n",
       "      <td>8</td>\n",
       "      <td>JQGS01000093_1_8</td>\n",
       "      <td>100.000</td>\n",
       "      <td>32</td>\n",
       "      <td>53765</td>\n",
       "      <td>JQGS01000093_1</td>\n",
       "      <td>23</td>\n",
       "      <td>6.22</td>\n",
       "      <td>29</td>\n",
       "      <td>CAS-TypeIE</td>\n",
       "      <td>CAS-TypeIE</td>\n",
       "      <td>3</td>\n",
       "      <td>CTTTTACTGA</td>\n",
       "      <td>3</td>\n",
       "      <td>2</td>\n",
       "      <td>2</td>\n",
       "      <td>RNA-</td>\n",
       "      <td>JQGS01000037_64</td>\n",
       "      <td>UNCLASSIFIED</td>\n",
       "      <td>0.318182</td>\n",
       "      <td>middle</td>\n",
       "      <td>mid</td>\n",
       "      <td>341</td>\n",
       "      <td>4040397</td>\n",
       "      <td>Leptospira alexanderi strain 56650</td>\n",
       "      <td>CAS-TypeIE</td>\n",
       "      <td>AdditionalAccompaniedSingleUnknown</td>\n",
       "      <td>11</td>\n",
       "      <td>CAS-TypeIE</td>\n",
       "      <td>Complete CRISPR System</td>\n",
       "      <td>16</td>\n",
       "    </tr>\n",
       "    <tr>\n",
       "      <th>100053.5</th>\n",
       "      <td>CACATCCAACCCGAAGACTTGAGCATTCTTCA</td>\n",
       "      <td>1242</td>\n",
       "      <td>1273</td>\n",
       "      <td>JQGU01000091</td>\n",
       "      <td>22</td>\n",
       "      <td>JQGU01000025_1_22</td>\n",
       "      <td>100.000</td>\n",
       "      <td>32</td>\n",
       "      <td>16908</td>\n",
       "      <td>JQGU01000025_1</td>\n",
       "      <td>23</td>\n",
       "      <td>6.23</td>\n",
       "      <td>29</td>\n",
       "      <td>CAS-TypeIE</td>\n",
       "      <td>CAS-TypeIE</td>\n",
       "      <td>0</td>\n",
       "      <td>CTGGTTGGTG</td>\n",
       "      <td>3</td>\n",
       "      <td>NULL</td>\n",
       "      <td>0</td>\n",
       "      <td>RNA-</td>\n",
       "      <td>JQGU01000091_1</td>\n",
       "      <td>Protein of unknown function (DUF1564)</td>\n",
       "      <td>0.954545</td>\n",
       "      <td>middle</td>\n",
       "      <td>mid</td>\n",
       "      <td>335</td>\n",
       "      <td>4044353</td>\n",
       "      <td>Leptospira alexanderi strain 56643</td>\n",
       "      <td>CAS-TypeIE</td>\n",
       "      <td>SingleUnknownExtra</td>\n",
       "      <td>8</td>\n",
       "      <td>CAS-TypeIE</td>\n",
       "      <td>Complete CRISPR System</td>\n",
       "      <td>2</td>\n",
       "    </tr>\n",
       "    <tr>\n",
       "      <th>100053.6</th>\n",
       "      <td>GAGGGAAAGAAATTTTTCAACCTTGAGATCAG</td>\n",
       "      <td>3063</td>\n",
       "      <td>3033</td>\n",
       "      <td>JQGV01000288</td>\n",
       "      <td>35</td>\n",
       "      <td>JQGV01000216_1_35</td>\n",
       "      <td>96.875</td>\n",
       "      <td>32</td>\n",
       "      <td>5252</td>\n",
       "      <td>JQGV01000216_1</td>\n",
       "      <td>51</td>\n",
       "      <td>6.26</td>\n",
       "      <td>29</td>\n",
       "      <td>CAS-TypeIE</td>\n",
       "      <td>CAS-TypeIE</td>\n",
       "      <td>0</td>\n",
       "      <td>TCGTTTTATC</td>\n",
       "      <td>3</td>\n",
       "      <td>NULL</td>\n",
       "      <td>0</td>\n",
       "      <td>RNA-</td>\n",
       "      <td>JQGV01000288_5</td>\n",
       "      <td>Protein of unknown function (DUF736)</td>\n",
       "      <td>0.680000</td>\n",
       "      <td>middle</td>\n",
       "      <td>mid</td>\n",
       "      <td>368</td>\n",
       "      <td>4062692</td>\n",
       "      <td>Leptospira alexanderi strain 56640</td>\n",
       "      <td>CAS-TypeIE</td>\n",
       "      <td>SingleUnknownExtra</td>\n",
       "      <td>8</td>\n",
       "      <td>CAS-TypeIE</td>\n",
       "      <td>Complete CRISPR System</td>\n",
       "      <td>5</td>\n",
       "    </tr>\n",
       "    <tr>\n",
       "      <th>100053.7</th>\n",
       "      <td>AAAGAAGATTTTACGAGTGATCAAACGAACCCAATGGGA</td>\n",
       "      <td>1863</td>\n",
       "      <td>1825</td>\n",
       "      <td>JQGT01000196</td>\n",
       "      <td>15</td>\n",
       "      <td>JQGT01000117_1_15</td>\n",
       "      <td>100.000</td>\n",
       "      <td>39</td>\n",
       "      <td>12738</td>\n",
       "      <td>JQGT01000117_1</td>\n",
       "      <td>24</td>\n",
       "      <td>6.16</td>\n",
       "      <td>29</td>\n",
       "      <td>CAS-TypeIE</td>\n",
       "      <td>CAS-TypeIE</td>\n",
       "      <td>0</td>\n",
       "      <td>CGTATTCGGA</td>\n",
       "      <td>3</td>\n",
       "      <td>NULL</td>\n",
       "      <td>0</td>\n",
       "      <td>RNA-</td>\n",
       "      <td>JQGT01000196_2</td>\n",
       "      <td>SET domain</td>\n",
       "      <td>0.608696</td>\n",
       "      <td>middle</td>\n",
       "      <td>mid</td>\n",
       "      <td>337</td>\n",
       "      <td>4067564</td>\n",
       "      <td>Leptospira alexanderi strain 56159</td>\n",
       "      <td>CAS-TypeIE</td>\n",
       "      <td>SingleUnknownExtra</td>\n",
       "      <td>8</td>\n",
       "      <td>CAS-TypeIE</td>\n",
       "      <td>Complete CRISPR System</td>\n",
       "      <td>10</td>\n",
       "    </tr>\n",
       "    <tr>\n",
       "      <th>100053.8</th>\n",
       "      <td>AAAACAGGATGGATTTTGATTTAAAACCCTAACCACTGATTCCTAA...</td>\n",
       "      <td>146</td>\n",
       "      <td>200</td>\n",
       "      <td>JQGW01000033</td>\n",
       "      <td>3</td>\n",
       "      <td>JQGW01000031_1_3</td>\n",
       "      <td>98.180</td>\n",
       "      <td>55</td>\n",
       "      <td>75992</td>\n",
       "      <td>JQGW01000031_1</td>\n",
       "      <td>3</td>\n",
       "      <td>5.25</td>\n",
       "      <td>29</td>\n",
       "      <td>CAS-TypeIE</td>\n",
       "      <td>CAS-TypeIE</td>\n",
       "      <td>3</td>\n",
       "      <td>CCATCCAACC</td>\n",
       "      <td>3</td>\n",
       "      <td>NULL</td>\n",
       "      <td>0</td>\n",
       "      <td>INTERGENIC</td>\n",
       "      <td>NULL</td>\n",
       "      <td>NULL</td>\n",
       "      <td>1.000000</td>\n",
       "      <td>tail</td>\n",
       "      <td>tail</td>\n",
       "      <td>238</td>\n",
       "      <td>4060960</td>\n",
       "      <td>Leptospira alexanderi strain 56659</td>\n",
       "      <td>CAS-TypeIE</td>\n",
       "      <td>AccompaniedSingleUnknown</td>\n",
       "      <td>8</td>\n",
       "      <td>CAS-TypeIE</td>\n",
       "      <td>Complete CRISPR System</td>\n",
       "      <td>5</td>\n",
       "    </tr>\n",
       "  </tbody>\n",
       "</table>\n",
       "</div>"
      ],
      "text/plain": [
       "                                                         seq    c_1    c_2  \\\n",
       "genome_id                                                                    \n",
       "100053.4                    AAGAGGCGATTAGTTGGCTATATGCAGCCTTT  45209  45178   \n",
       "100053.5                    CACATCCAACCCGAAGACTTGAGCATTCTTCA   1242   1273   \n",
       "100053.6                    GAGGGAAAGAAATTTTTCAACCTTGAGATCAG   3063   3033   \n",
       "100053.7             AAAGAAGATTTTACGAGTGATCAAACGAACCCAATGGGA   1863   1825   \n",
       "100053.8   AAAACAGGATGGATTTTGATTTAAAACCCTAACCACTGATTCCTAA...    146    200   \n",
       "\n",
       "             contig_hit  spacer_pos          spacer_id  hit_ident  \\\n",
       "genome_id                                                           \n",
       "100053.4   JQGS01000037           8   JQGS01000093_1_8    100.000   \n",
       "100053.5   JQGU01000091          22  JQGU01000025_1_22    100.000   \n",
       "100053.6   JQGV01000288          35  JQGV01000216_1_35     96.875   \n",
       "100053.7   JQGT01000196          15  JQGT01000117_1_15    100.000   \n",
       "100053.8   JQGW01000033           3   JQGW01000031_1_3     98.180   \n",
       "\n",
       "           spacer_size  contig_size        array_id  array_size  array_confid  \\\n",
       "genome_id                                                                       \n",
       "100053.4            32        53765  JQGS01000093_1          23          6.22   \n",
       "100053.5            32        16908  JQGU01000025_1          23          6.23   \n",
       "100053.6            32         5252  JQGV01000216_1          51          6.26   \n",
       "100053.7            39        12738  JQGT01000117_1          24          6.16   \n",
       "100053.8            55        75992  JQGW01000031_1           3          5.25   \n",
       "\n",
       "           repeat_size  array_type genome_type  PAM_confid    poss_PAM  \\\n",
       "genome_id                                                                \n",
       "100053.4            29  CAS-TypeIE  CAS-TypeIE           3  CTTTTACTGA   \n",
       "100053.5            29  CAS-TypeIE  CAS-TypeIE           0  CTGGTTGGTG   \n",
       "100053.6            29  CAS-TypeIE  CAS-TypeIE           0  TCGTTTTATC   \n",
       "100053.7            29  CAS-TypeIE  CAS-TypeIE           0  CGTATTCGGA   \n",
       "100053.8            29  CAS-TypeIE  CAS-TypeIE           3  CCATCCAACC   \n",
       "\n",
       "          PAM_side phage_class  with_phage    gene_hit          gene_id  \\\n",
       "genome_id                                                                 \n",
       "100053.4         3           2           2        RNA-  JQGS01000037_64   \n",
       "100053.5         3        NULL           0        RNA-   JQGU01000091_1   \n",
       "100053.6         3        NULL           0        RNA-   JQGV01000288_5   \n",
       "100053.7         3        NULL           0        RNA-   JQGT01000196_2   \n",
       "100053.8         3        NULL           0  INTERGENIC             NULL   \n",
       "\n",
       "                                      gene_class  rel_spacer_pos  \\\n",
       "genome_id                                                          \n",
       "100053.4                            UNCLASSIFIED        0.318182   \n",
       "100053.5   Protein of unknown function (DUF1564)        0.954545   \n",
       "100053.6    Protein of unknown function (DUF736)        0.680000   \n",
       "100053.7                              SET domain        0.608696   \n",
       "100053.8                                    NULL        1.000000   \n",
       "\n",
       "          name_spacer_pos array_ori  contigs     size  \\\n",
       "genome_id                                               \n",
       "100053.4           middle       mid      341  4040397   \n",
       "100053.5           middle       mid      335  4044353   \n",
       "100053.6           middle       mid      368  4062692   \n",
       "100053.7           middle       mid      337  4067564   \n",
       "100053.8             tail      tail      238  4060960   \n",
       "\n",
       "                                         name        type  \\\n",
       "genome_id                                                   \n",
       "100053.4   Leptospira alexanderi strain 56650  CAS-TypeIE   \n",
       "100053.5   Leptospira alexanderi strain 56643  CAS-TypeIE   \n",
       "100053.6   Leptospira alexanderi strain 56640  CAS-TypeIE   \n",
       "100053.7   Leptospira alexanderi strain 56159  CAS-TypeIE   \n",
       "100053.8   Leptospira alexanderi strain 56659  CAS-TypeIE   \n",
       "\n",
       "                                        class  num_genes new_type_group  \\\n",
       "genome_id                                                                 \n",
       "100053.4   AdditionalAccompaniedSingleUnknown         11     CAS-TypeIE   \n",
       "100053.5                   SingleUnknownExtra          8     CAS-TypeIE   \n",
       "100053.6                   SingleUnknownExtra          8     CAS-TypeIE   \n",
       "100053.7                   SingleUnknownExtra          8     CAS-TypeIE   \n",
       "100053.8             AccompaniedSingleUnknown          8     CAS-TypeIE   \n",
       "\n",
       "                  top_level_group  genome_count_hit  \n",
       "genome_id                                            \n",
       "100053.4   Complete CRISPR System                16  \n",
       "100053.5   Complete CRISPR System                 2  \n",
       "100053.6   Complete CRISPR System                 5  \n",
       "100053.7   Complete CRISPR System                10  \n",
       "100053.8   Complete CRISPR System                 5  "
      ]
     },
     "execution_count": 61,
     "metadata": {},
     "output_type": "execute_result"
    }
   ],
   "source": [
    "df_hitcount.head()  # (df_uni)"
   ]
  },
  {
   "cell_type": "code",
   "execution_count": 62,
   "metadata": {},
   "outputs": [
    {
     "data": {
      "text/plain": [
       "new_type_group\n",
       "CAS-TypeIA                  0.805556\n",
       "CAS-TypeIB                  0.647300\n",
       "CAS-TypeIC                  0.854412\n",
       "CAS-TypeID                  0.433333\n",
       "CAS-TypeIE                  0.507976\n",
       "CAS-TypeIF                  0.702099\n",
       "CAS-TypeIIA                 0.616941\n",
       "CAS-TypeIIB                 0.318182\n",
       "CAS-TypeIIC                 0.444900\n",
       "CAS-TypeIIIA                0.386111\n",
       "CAS-TypeIIIB                0.347826\n",
       "CAS-TypeIIIC                0.250000\n",
       "CAS-TypeIIID                0.520000\n",
       "CAS-TypeIU                  0.711111\n",
       "CAS-TypeIV                  0.550000\n",
       "CAS-TypeVA                  0.916667\n",
       "CAS-TypeVB                  0.625000\n",
       "CAS-TypeVIA                 0.625000\n",
       "CAS-TypeVIB1                0.750000\n",
       "Incomplete CRISPR System    0.568047\n",
       "Mixed CRISPR System         0.702859\n",
       "No CAS genes                0.479032\n",
       "Name: genome_count_hit, dtype: float64"
      ]
     },
     "execution_count": 62,
     "metadata": {},
     "output_type": "execute_result"
    }
   ],
   "source": [
    "df_hitcount.groupby('new_type_group')['genome_count_hit'].mean().divide(4)"
   ]
  },
  {
   "cell_type": "code",
   "execution_count": 133,
   "metadata": {},
   "outputs": [
    {
     "name": "stdout",
     "output_type": "stream",
     "text": [
      "figure saved in /home/hielke/bep/figs/FOR_PUB3/A2___Genomes_with_STSs_normalized_for_type_abundance.png\n"
     ]
    },
    {
     "data": {
      "image/png": "[encoded data removed]",
      "text/plain": [
       "<Figure size 1296x864 with 2 Axes>"
      ]
     },
     "metadata": {
      "needs_background": "light"
     },
     "output_type": "display_data"
    }
   ],
   "source": [
    "color=\"mediumpurple\"\n",
    "\n",
    "# Plot the relative size of genomes with at least one STS versus all the genomes.\n",
    "value_counts_perc = [(p / w * 100) if p != 0 else 0 for p, w in zip(df_genome_type_count, all_genome_type_count)]\n",
    "N = len(df_genome_type_count)\n",
    "ind = list(range(N))[::-1]\n",
    "fig, ax = plt.subplots()\n",
    "bars = plt.barh(ind, value_counts_perc, color=color)\n",
    "plt.yticks(ind, df_genome_type_count.index)\n",
    "yticks = ax.yaxis.get_major_ticks()\n",
    "\n",
    "# Transparancy indicates the average amount of selfhits per genome\n",
    "max_val = 4.5  # The maximum number of average STS per genome. (Increase if required)\n",
    "transparency_ticks = 256\n",
    "alpha_values = df_hitcount.groupby('new_type_group')['genome_count_hit'].mean().divide(max_val).to_dict()\n",
    "color = mpl.colors.to_rgba(color)\n",
    "\n",
    "def create_colors(color, alpha):\n",
    "    # Perform manual alpha blending, since matplotlib fails this\n",
    "    # See https://stackoverflow.com/a/35672224/8477066\n",
    "    color = [(1 - alpha) + alpha * c for c in color[:3]]\n",
    "    return (*color, 1)\n",
    "\n",
    "cmap = mpl.colors.ListedColormap([create_colors(color, alpha=(1+a)/transparency_ticks) for a in range(transparency_ticks)])\n",
    "norm = mpl.colors.Normalize(vmin=0, vmax=max_val)\n",
    "for i, (k, v) in enumerate(zip(all_genome_type_count.index, all_genome_type_count.values)):\n",
    "    if v == 0:  # Remove ticks with no bar\n",
    "        plt.setp(yticks[i], visible=False)\n",
    "    else:\n",
    "        # Set transparancy on the bars\n",
    "        new_alpha = alpha_values.get(k)\n",
    "        if new_alpha:\n",
    "            assert new_alpha < 1, \"The alpha is higher than 1, increase max_val.\"\n",
    "            plt.setp(bars[i], alpha=new_alpha)\n",
    "            \n",
    "        acr = acr_all.get(k, None) or 0\n",
    "#         acr = 0\n",
    "            \n",
    "        # Set value of the absolut number of genomes of that group.\n",
    "#         print(value_counts_perc[i], ind[i])\n",
    "        ax.text(value_counts_perc[i]+0.5, ind[i]-0.25, '(%.0f)' % (v), color='0.25', fontsize=15)\n",
    "        perc_acr = (acr / v * 100)\n",
    "        if acr != 0:\n",
    "            ax.text(perc_acr, ind[i]-.25, 'l', color='r', fontsize=15)\n",
    "#         print(k, ind[i])\n",
    "#         if perc_acr > 0.1:\n",
    "#             y_size = .01\n",
    "#             x_size = .1\n",
    "#             x = perc_acr\n",
    "#             y = ind[i]\n",
    "#             ax.axvspan(ymax=y+y_size, ymin=y-y_size, xmax=x+x_size, xmin=x-x_size, facecolor='r')\n",
    "            \n",
    "        \n",
    "#         if i==27:\n",
    "#             print(ind[i], perc_acr)\n",
    "#             ax.axvspan(ymax=ind[i] + y_size, ymin=ind[i] - y_size, xmin=perc_acr-.1, xmax=perc_acr+.1, facecolor='r')\n",
    "\n",
    "# y_size = .01\n",
    "\n",
    "# y = 6/28\n",
    "# x = 10\n",
    "\n",
    "plt.title(\"Genomes with STSs normalized for type abundance (total genomes) (hit identity %s)\" % perc_ident, y=1.01)\n",
    "plt.xlabel(\"Percentage of all genomes with that type\")\n",
    "\n",
    "cax = fig.add_axes([0.8, 0.17, 0.05, 0.5])\n",
    "cbar = mpl.colorbar.ColorbarBase(cax, cmap=cmap, norm=norm, orientation='vertical', \n",
    "                                 drawedges=False,\n",
    "                                )\n",
    "cbar.solids.set_edgecolor('face')\n",
    "cbar.solids.set_rasterized(True)\n",
    "plt.xlabel(\"Average STS per genome\")\n",
    "\n",
    "\n",
    "sns.despine()\n",
    "increase_figsize(3)\n",
    "save_fig(save=True, title=\"Genomes with STSs normalized for type abundance\")"
   ]
  },
  {
   "cell_type": "code",
   "execution_count": 73,
   "metadata": {},
   "outputs": [
    {
     "data": {
      "text/plain": [
       "[28,\n",
       " 27,\n",
       " 26,\n",
       " 25,\n",
       " 24,\n",
       " 23,\n",
       " 22,\n",
       " 21,\n",
       " 20,\n",
       " 19,\n",
       " 18,\n",
       " 17,\n",
       " 16,\n",
       " 15,\n",
       " 14,\n",
       " 13,\n",
       " 12,\n",
       " 11,\n",
       " 10,\n",
       " 9,\n",
       " 8,\n",
       " 7,\n",
       " 6,\n",
       " 5,\n",
       " 4,\n",
       " 3,\n",
       " 2,\n",
       " 1,\n",
       " 0]"
      ]
     },
     "execution_count": 73,
     "metadata": {},
     "output_type": "execute_result"
    }
   ],
   "source": [
    "ind"
   ]
  },
  {
   "cell_type": "markdown",
   "metadata": {},
   "source": [
    "# PHAGE HIT"
   ]
  },
  {
   "cell_type": "code",
   "execution_count": null,
   "metadata": {},
   "outputs": [],
   "source": [
    "df_phage_retyped = df.pipe(\n",
    "    lambda df:\n",
    "    df.groupby(by='genome_id').first()\n",
    "    .assign(\n",
    "        phage_perc=df.groupby(by='genome_id')['with_phage'].agg(lambda x: sum(x==2)/len(x))\n",
    "    )\n",
    ")\n",
    "df_phage_retyped.head()"
   ]
  },
  {
   "cell_type": "markdown",
   "metadata": {},
   "source": [
    "Code below raises warning, but can't be fixed because of: \n",
    "\n",
    "https://github.com/pandas-dev/pandas/issues/18366\n",
    "\n",
    "Check this link when the code below breaks to see the alternative syntax implemented in the pull request that will close the issue. "
   ]
  },
  {
   "cell_type": "code",
   "execution_count": null,
   "metadata": {},
   "outputs": [],
   "source": [
    "# The phage percentage is used to make the three groups. \n",
    "#     all_phage_hit: 1\n",
    "#     inbetween: count - (all_phage_hit) - (no_phage_hit) (NB. This is done in the second code line)\n",
    "#     no_phage_hit: 0\n",
    "phage_hit_genome_level = df_phage_retyped.groupby(\"new_type_group\")['phage_perc'].agg({\n",
    "    \"all_phage_hit\": lambda x: sum(x==1.0), \n",
    "    \"inbetween\": 'count', \n",
    "    \"no_phage_hit\": lambda x: sum(x==0.0),\n",
    "})\n",
    "\n",
    "phage_hit_genome_level['inbetween'] = (\n",
    "    phage_hit_genome_level['inbetween'] \n",
    "    - phage_hit_genome_level['all_phage_hit']\n",
    "    - phage_hit_genome_level['no_phage_hit']\n",
    ")\n",
    "\n",
    "phage_hit_genome_level = phage_hit_genome_level.reindex(sorted(\n",
    "    phage_hit_genome_level.index, key=sort_groups, reverse=True))\n",
    "phage_hit_genome_level[['all_phage_hit', 'inbetween', 'no_phage_hit']] \\\n",
    "    .plot.barh(stacked=True, cmap=cbf_map)\n",
    "sns.despine()\n",
    "plt.title(\"Genomes selfhits in (pro)phage or not (hit identity: %s)\" % perc_ident)\n",
    "plt.ylabel(\"CRISPR Type\")\n",
    "plt.legend(['All STSs targeting (pro)phage', 'Some in (pro)phage, some not', 'All STSs targeting native DNA'],)\n",
    "increase_figsize(3)\n",
    "save_fig()"
   ]
  },
  {
   "cell_type": "code",
   "execution_count": null,
   "metadata": {},
   "outputs": [],
   "source": [
    "# Now we dived by the total of genomes in that group to have a relative scale.\n",
    "phage_hit_genome_level_percentage = phage_hit_genome_level.div(phage_hit_genome_level.sum(axis=1), axis=0).mul(100)\n",
    "ax = phage_hit_genome_level_percentage[['all_phage_hit', 'inbetween', 'no_phage_hit']] \\\n",
    "    .plot.barh(stacked=True, cmap=cbf_map, width=.8)\n",
    "ax.legend(loc='center right',  shadow=True)\n",
    "ax.set_xlim((0, 100))\n",
    "plt.legend(['All STSs targeting (pro)phage', 'Some in (pro)phage, some not', 'All STSs targeting native DNA'], \n",
    "        bbox_to_anchor=(1.05, 1), loc=2, borderaxespad=0.)\n",
    "plt.title(\"STSs targeting (pro)phage normalized for type abundance in selftargeting genomes (hit identity: %s)\" \n",
    "          % perc_ident, y=1.01)\n",
    "plt.ylabel(\"CRISPR Type\")\n",
    "plt.xlabel(\"Part of genomes that have STSs (%)\")\n",
    "increase_figsize(3)\n",
    "save_fig()"
   ]
  },
  {
   "cell_type": "code",
   "execution_count": null,
   "metadata": {},
   "outputs": [],
   "source": [
    "def test_chisquare(tester):\n",
    "    \"\"\"Return [leader, middle, tail]\n",
    "    This test applies a chisquare test to see if the distribution is expected\"\"\"\n",
    "    array_size = tester.name\n",
    "    observed = [tester['leader'], tester['middle'], tester['tail']]\n",
    "    expected = np.array([1, array_size - 2, 1]) / array_size * sum(observed)\n",
    "    \n",
    "    # Hypothesis test applied to each group individually\n",
    "    p_vals = np.zeros(3)\n",
    "    for i in range(3):\n",
    "        mask = np.ones(3, np.bool)\n",
    "        mask[i] = False\n",
    "        obs = [observed[~mask][0], expected[mask].sum()]\n",
    "        exp = [expected[~mask][0], expected[mask].sum()]\n",
    "        _, p = stats.chisquare(f_obs=obs, f_exp=exp)\n",
    "        p_vals[i] = p\n",
    "    return p_vals\n",
    "\n",
    "def test_binom_test(tester):\n",
    "    \"\"\"Return [leader, middle, tail]\n",
    "    This test uses the binomial distribution as the expected distribution\n",
    "    Advantage of this test is that we test a specific alternative hypothesis (as opposed to the test_chisquare)\"\"\"\n",
    "    array_size = tester.name\n",
    "    observed = tester[['leader', 'middle', 'tail']]\n",
    "    n = observed.sum()\n",
    "    chance = 1 / array_size\n",
    "    # yields low values if higher than expected\n",
    "    p_vals = [0] * 3\n",
    "    for i in [0, 2]:  # Only relevant for leader and tail\n",
    "        t = observed[i]\n",
    "        p = stats.binom_test(t, n, chance, \n",
    "                             alternative='greater'\n",
    "                            )\n",
    "        p_vals[i] = p\n",
    "    return p_vals\n",
    "\n",
    "# Used for pivotting\n",
    "x = 'name_spacer_pos'\n",
    "hue = 'array_size'\n",
    "y = 'count'\n",
    "\n",
    "p_vals = df.pipe(\n",
    "    lambda d:\n",
    "    d[x]\n",
    "    .groupby(d[hue])\n",
    "    .value_counts(normalize=False)\n",
    "    .rename(y)\n",
    "    .reset_index()\n",
    "    \n",
    "    # This is the important pivotting !!! --> Changes to groups of `'leader', 'middle', 'tail'`\n",
    "    .pivot(index=hue, columns=x, values=y)\n",
    "    \n",
    "    .fillna(0)\n",
    "    \n",
    "    # Here we apply the test which for each group of `'leader', 'middle', 'tail'` \n",
    "    # the passed distribution is a possible one or impossible\n",
    "    .apply(test_binom_test, axis=1, result_type='expand')\n",
    "    \n",
    "    .fillna(0.9)\n",
    "    .pipe(lambda x: x.set_columns(x.columns.astype(str)))\n",
    "    .rename({'0':'leader', '1':'middle', '2':'tail'}, axis='columns')\n",
    "    .loc[2:50, :]  # Too small values afterwards for accurate p-value\n",
    ")\n",
    "# Only plot the histogram for leader and tail.\n",
    "ax = p_vals.drop('middle', axis=1).plot.hist(bins=20,\n",
    "                                             histtype=\"step\", \n",
    "                                             linewidth=3,\n",
    "                                             alpha=1)\n",
    "\n",
    "# Observation:\n",
    "# Unique values hit identity >75% gives a strong tail preference\n",
    "# High identity hits (not excluding unique) give a strong leader preference\n",
    "\n",
    "sns.despine()\n",
    "plt.title(\"P-value histogram that test non-uniform distribution of STSs (applied to each array size individually)\")\n",
    "plt.xlabel(\"P-value\")\n",
    "increase_figsize(3)\n",
    "save_fig()"
   ]
  },
  {
   "cell_type": "code",
   "execution_count": null,
   "metadata": {},
   "outputs": [],
   "source": [
    "# Cumulative sum to have each range till 100 %\n",
    "# For each group the percentage of that group is displayed.\n",
    "\n",
    "pivot_table = df_uni_all.pipe(\n",
    "    lambda d: \n",
    "    d.groupby(['name_spacer_pos', \n",
    "                pd.cut(d['hit_ident'], 10)])\n",
    "    .size() \n",
    "    .groupby(level=0).apply(lambda x: x[::-1].cumsum()[::-1]) \n",
    "    .groupby(level=1).apply(percentage) \n",
    "    .unstack(0).fillna(0)\n",
    "    .pipe(lambda pt: \n",
    "          # Set index to something readable\n",
    "          pt.set_index(pt.index.map(lambda x: round(x.left, 1)).astype(float))\n",
    "         )\n",
    "    .append(\n",
    "        # Finish table with the group with exactly 100 % identity\n",
    "        d.query('hit_ident == 100')\n",
    "        .groupby('name_spacer_pos')\n",
    "        .size().pipe(percentage)\n",
    "        .to_frame(100.0).T\n",
    "    )\n",
    "    .mul(100)\n",
    ")\n",
    "\n",
    "# pd.core.base.PandasObject.reverse = lambda df: df.reindex(index=df.index[::-1])\n",
    "\n",
    "# sum_ranges = (df_all.groupby(df_all_cut).size()\n",
    "#               .reverse().cumsum().reverse()\n",
    "#              )\n",
    "\n",
    "ax = sns.lineplot(data=pivot_table.drop('middle', axis=1), dashes=False)\n",
    "sns.despine()\n",
    "plt.legend(loc='upper left')\n",
    "ax.set_ylim(bottom=0)\n",
    "ax.set_xlim(right=100)\n",
    "ax.set_xlabel('Minimum identity hit (%)')\n",
    "ax.set_ylabel('Frequency (%)')\n",
    "ax.set_title('Change of frequency of head and tail spacers in different identity intervals')\n",
    "increase_figsize(2)\n",
    "save_fig()"
   ]
  },
  {
   "cell_type": "markdown",
   "metadata": {},
   "source": [
    "## Query specific information\n",
    "Here you can specify a subset of the data you want to view. "
   ]
  },
  {
   "cell_type": "code",
   "execution_count": null,
   "metadata": {},
   "outputs": [],
   "source": [
    "df.head()"
   ]
  },
  {
   "cell_type": "markdown",
   "metadata": {},
   "source": [
    "## Query specific information\n",
    "Here you can specify a subset of the data you want to view. "
   ]
  },
  {
   "cell_type": "code",
   "execution_count": null,
   "metadata": {},
   "outputs": [],
   "source": [
    "df.head()"
   ]
  },
  {
   "cell_type": "code",
   "execution_count": null,
   "metadata": {},
   "outputs": [],
   "source": [
    "x, y, hue, grouper = 'gene_hit', 'Frequency (%)', 'name_spacer_pos', 'top_level_group'\n",
    "data = df.query('array_size < 4').pipe(\n",
    "    lambda d:\n",
    "    d.empty or \n",
    "    d[x]\n",
    "    .groupby([d[hue], d[grouper],])\n",
    "#     .value_counts(normalize=True)\n",
    "#     .rename(y)\n",
    "#     .reset_index()\n",
    ")\n",
    "data.value_counts() if type(data) is not bool else None"
   ]
  },
  {
   "cell_type": "code",
   "execution_count": null,
   "metadata": {},
   "outputs": [],
   "source": [
    "# g = sns.FacetGrid(data=data, hue=hue, row='top_level_group', height=2,)\n",
    "\n",
    "# g = g.map(plt.bar, x, y)\n",
    "\n",
    "# g.fig.suptitle(\"Distribution of the totals of unique STSs in a genome (hit identity: %s)\" % perc_ident, \n",
    "# fontsize=32, y=1.01)\n",
    "# plt.xlabel('Total STS')\n",
    "# g.set(yscale='log')\n",
    "# for ax in g.axes.flat:\n",
    "#     ax.set_xlim(left=0,\n",
    "#                right=10,\n",
    "#                )\n",
    "# increase_size_by(2, 20)\n",
    "# g.set_titles(row_template=\"{row_name}\", size=25)\n",
    "# save_fig(g)"
   ]
  },
  {
   "cell_type": "code",
   "execution_count": null,
   "metadata": {},
   "outputs": [],
   "source": [
    "ax = sns.countplot(x='spacer_pos', data=df.query('spacer_pos < 50'), color=cbf[0], saturation=100)\n",
    "increase_figsize(3)\n",
    "sns.despine()\n",
    "plt.title(\"Spacer position (all spacer hits)\" + title_mod)\n",
    "save_fig()\n",
    "# save_fig()"
   ]
  },
  {
   "cell_type": "code",
   "execution_count": null,
   "metadata": {},
   "outputs": [],
   "source": [
    "# spacer position reversed\n",
    "df = df.assign(spacer_pos_rev=df['array_size'].add(1).subtract(df['spacer_pos']))\n",
    "ax = sns.countplot(x='spacer_pos_rev', data=df.query('spacer_pos_rev < 50'), color=cbf[0], saturation=100)\n",
    "increase_figsize(3)\n",
    "sns.despine()\n",
    "plt.title(\"Spacer position reversed (all spacer hits)\" + title_mod)\n",
    "save_fig()\n",
    "# save_fig()"
   ]
  },
  {
   "cell_type": "code",
   "execution_count": null,
   "metadata": {},
   "outputs": [],
   "source": [
    "ax = sns.distplot(df['rel_spacer_pos'], kde=False, hist_kws={'color': cbf[0], 'alpha': 1})\n",
    "increase_figsize(3)\n",
    "sns.despine()\n",
    "plt.title(\"Relative spacer position (all spacer hits); 0: leader; 1: tail\" + title_mod)\n",
    "save_fig()\n",
    "# save_fig()"
   ]
  },
  {
   "cell_type": "code",
   "execution_count": null,
   "metadata": {},
   "outputs": [],
   "source": [
    "# relative spacer position\n",
    "ax = sns.countplot(x = 'array_size', data=df.query('array_ori != \"mid\" and array_size < 25'), \n",
    "                   hue='array_ori', saturation=100, palette=cbf)\n",
    "increase_figsize(3)\n",
    "sns.despine()\n",
    "plt.title(\"Array size of 'tail and head spacers' (all spacer hits)\" + title_mod)\n",
    "plt.setp(ax.get_legend().get_title(), fontsize=20, text=\"Array orientation\")\n",
    "save_fig()\n",
    "# save_fig()"
   ]
  },
  {
   "cell_type": "code",
   "execution_count": null,
   "metadata": {},
   "outputs": [],
   "source": [
    "df['new_type_group'].unique()"
   ]
  },
  {
   "cell_type": "code",
   "execution_count": null,
   "metadata": {},
   "outputs": [],
   "source": [
    "ax = sns.countplot(y='new_type_group', hue='array_ori', data=df.query('array_ori != \"mid\" and array_size < 25'), \n",
    "                   saturation=100, palette=cbf, order=sorted(df['new_type_group'].unique(), key=sort_groups))\n",
    "increase_figsize(3)\n",
    "sns.despine()\n",
    "plt.title(\"CRISPR Type of 'tail and head spacers' (all spacer hits)\" + title_mod)\n",
    "plt.setp(ax.get_legend().get_title(), fontsize=20, text=\"Array orientation\")\n",
    "save_fig()"
   ]
  },
  {
   "cell_type": "code",
   "execution_count": null,
   "metadata": {},
   "outputs": [],
   "source": [
    "# tail spacers in (pro)phages\n",
    "ax = sns.countplot(x = 'array_size', data=df.query('array_ori == \"tail\" and array_size < 25'), \n",
    "                   hue='with_phage', saturation=100, palette=cbf)\n",
    "increase_figsize(3)\n",
    "sns.despine()\n",
    "plt.title(\"Array size of tail spacers in (pro)phages\" + title_mod)\n",
    "plt.setp(ax.get_legend().get_title(), fontsize=20, text=\"In (pro)phage or close\")\n",
    "plt.legend(['native DNA', 'close to (pro)phage', 'on (pro)phage'])\n",
    "# save_fig()"
   ]
  },
  {
   "cell_type": "code",
   "execution_count": null,
   "metadata": {},
   "outputs": [],
   "source": [
    "df.head()"
   ]
  },
  {
   "cell_type": "code",
   "execution_count": null,
   "metadata": {},
   "outputs": [],
   "source": [
    "# df_uni_all['hit_ident'] = pd.to_numeric(df_all['hit_ident'])\n",
    "ax = sns.distplot(df_all['hit_ident'], kde=False, hist_kws={'color': cbf[0], 'alpha': 1})\n",
    "increase_figsize(3, plt)\n",
    "sns.despine()\n",
    "plt.title(\"Identity with the hit\" + title_mod)\n",
    "plt.xlabel(\"Identity (%)\")\n",
    "save_fig()"
   ]
  },
  {
   "cell_type": "code",
   "execution_count": null,
   "metadata": {},
   "outputs": [],
   "source": [
    "df.groupby(by='genome_id').first()['new_type_group'].value_counts() \\\n",
    "        .pipe(lambda df: df.reindex(sorted(df.index, key=sort_groups)))"
   ]
  },
  {
   "cell_type": "code",
   "execution_count": null,
   "metadata": {},
   "outputs": [],
   "source": [
    "def plot(df, y):\n",
    "    genome_value_counts = df.groupby(by='genome_id').first()[y].value_counts() \\\n",
    "        .pipe(lambda d: d.reindex(sorted(d.index, key=sort_groups)))\n",
    "    ax = sns.countplot(y=y, data=df, color=cbf[0], saturation=100, \n",
    "                   order=sorted(df[y].unique(), key=sort_groups))\n",
    "    N = len(genome_value_counts)\n",
    "    ind = list(range(N))\n",
    "    for i, v in enumerate(genome_value_counts):\n",
    "        if v == 0: continue\n",
    "        ax.text(9000, ind[i], str(round(v)), color='0.25', fontsize=15)\n",
    "    return ax\n",
    "ax = plot(df, 'new_type_group')\n",
    "ax.set_xscale('log')\n",
    "increase_figsize(3, plt)\n",
    "sns.despine()\n",
    "plt.title(\"Frequency of all STS per type (hit identity: %s)\" % perc_ident + title_mod)\n",
    "plt.xlabel(\"Frequency (log scale)\")\n",
    "plt.ylabel(\"CRISPR Type\")\n",
    "save_fig()"
   ]
  },
  {
   "cell_type": "code",
   "execution_count": null,
   "metadata": {},
   "outputs": [],
   "source": [
    "ax = sns.countplot(y='genome_type', \n",
    "                   data=df_single_type, color=cbf[0], \n",
    "                   saturation=100, \n",
    "                   order=sorted(df_single_type['genome_type'].unique()))\n",
    "ax.set_xscale('log')\n",
    "for i, v in enumerate(all_genome_type_count):\n",
    "    if v == 0: \n",
    "        continue\n",
    "    # Add the number to end of the bar (currently not working)\n",
    "    # ax.text(value_counts_perc[i]+0.5, ind[i]-0.25, str(round(v)), color='0.25', fontsize=15)\n",
    "\n",
    "increase_figsize(3)\n",
    "sns.despine()\n",
    "plt.title(\"Number of single types of all STS (log scale)\" + title_mod)\n",
    "plt.ylabel(\"CRISPR Type\")\n",
    "# save_fig()\n",
    "# save_fig()"
   ]
  },
  {
   "cell_type": "markdown",
   "metadata": {},
   "source": [
    "## Heatmaps"
   ]
  },
  {
   "cell_type": "code",
   "execution_count": null,
   "metadata": {},
   "outputs": [],
   "source": [
    "pivot_table = df_single_type.groupby(['genome_type', pd.cut(df_single_type['hit_ident'], 10)]).size() \\\n",
    "        .groupby(level=0).apply(lambda x: 100 * x / x.sum()).unstack().fillna(0)\n",
    "pivot_table"
   ]
  },
  {
   "cell_type": "code",
   "execution_count": null,
   "metadata": {},
   "outputs": [],
   "source": [
    "ax = sns.heatmap(pivot_table.where(pivot_table!=0, 1e0), yticklabels=True, xticklabels=True, square=False, \n",
    "            cmap=sns.color_palette(\"coolwarm\", 50), \n",
    "            cbar_kws={'ticks': mpl.ticker.LogLocator()}, \n",
    "            norm=mpl.colors.LogNorm(vmin=pivot_table.min().min(), vmax=pivot_table.max().max()))\n",
    "increase_figsize(4, plt)\n",
    "plt.title(\"Heatmap of identity with hit\" + title_mod)\n",
    "save_fig()\n",
    "# save_fig()"
   ]
  },
  {
   "cell_type": "code",
   "execution_count": null,
   "metadata": {},
   "outputs": [],
   "source": [
    "pivot_table = df_single_type.groupby(\n",
    "    ['genome_type', pd.cut(df_single_type['array_size'], \n",
    "    pd.IntervalIndex.from_breaks(list(range(0,80,5)) + [400]))]).size() \\\n",
    "        .groupby(level=0).apply(lambda x: 100 * x / x.sum()).unstack().fillna(0)\n",
    "pivot_table"
   ]
  },
  {
   "cell_type": "code",
   "execution_count": null,
   "metadata": {},
   "outputs": [],
   "source": [
    "ax = sns.heatmap(pivot_table.where(pivot_table!=0, 1e0), yticklabels=True, xticklabels=True, square=False, \n",
    "            cmap=sns.color_palette(\"coolwarm\", 50), \n",
    "            cbar_kws={'ticks': mpl.ticker.LogLocator()}, \n",
    "            norm=mpl.colors.LogNorm(vmin=pivot_table.min().min(), vmax=pivot_table.max().max()))\n",
    "increase_figsize(4, plt)\n",
    "plt.title(\"Heatmap of array size\" + title_mod)\n",
    "save_fig()\n",
    "# save_fig()"
   ]
  },
  {
   "cell_type": "code",
   "execution_count": null,
   "metadata": {},
   "outputs": [],
   "source": [
    "pivot_table = df_single_type.groupby(\n",
    "    ['genome_type', pd.cut(df_single_type['spacer_pos'], \n",
    "    pd.IntervalIndex.from_breaks(list(range(0,60,5)) + [400]))]).size() \\\n",
    "        .groupby(level=0).apply(lambda x: 100 * x / x.sum()).unstack().fillna(0)\n",
    "pivot_table\n",
    "ax = sns.heatmap(pivot_table.where(pivot_table!=0, 1e0), yticklabels=True, xticklabels=True, square=False, \n",
    "            cmap=sns.color_palette(\"coolwarm\", 50), \n",
    "            cbar_kws={'ticks': mpl.ticker.LogLocator()}, \n",
    "            norm=mpl.colors.LogNorm(vmin=pivot_table.min().min(), vmax=pivot_table.max().max()))\n",
    "increase_figsize(4, plt)\n",
    "plt.title(\"Heatmap of spacer position\" + title_mod)\n",
    "save_fig()\n",
    "# save_fig()"
   ]
  },
  {
   "cell_type": "code",
   "execution_count": null,
   "metadata": {},
   "outputs": [],
   "source": [
    "# pivot_table = df_single_type.groupby(\n",
    "#     ['genome_type', pd.cut(df_single_type['rel_spacer_pos'], \n",
    "#     pd.IntervalIndex.from_breaks(list(map(lambda x: -.01 if x==0 else round(0.01*x, 2), range(0,110,5)))))\n",
    "#                            ]).size() \\\n",
    "#         .groupby(level=0).apply(lambda x: 100 * x / x.sum()).unstack().fillna(0)\n",
    "# pivot_table\n",
    "# ax = sns.heatmap(pivot_table.where(pivot_table!=0, 1e0), yticklabels=True, xticklabels=True, square=False, \n",
    "#             cmap=sns.color_palette(\"coolwarm\", 50), \n",
    "#             cbar_kws={'ticks': mpl.ticker.LogLocator()}, \n",
    "#             norm=mpl.colors.LogNorm(vmin=pivot_table.min().min(), vmax=pivot_table.max().max()))\n",
    "# increase_figsize(4, plt)\n",
    "# plt.title(\"Heatmap of relative spacer position (0: leader; 1: tail)\" + title_mod)\n",
    "# if False or save: plt.savefig(fig_folder + first_order + str(second_order) + ax.get_title().replace(\" \", \"_\") + \".png\", format='png', bbox_inches='tight')"
   ]
  },
  {
   "cell_type": "markdown",
   "metadata": {},
   "source": [
    "## PAM analysis"
   ]
  },
  {
   "cell_type": "markdown",
   "metadata": {},
   "source": [
    "| Number | explanation |\n",
    "| --- | --- |\n",
    "| -1 | no PAM available |\n",
    "| 0  | PAM incorrect |\n",
    "| 1  | crispr_type correct |\n",
    "| 2  | genome_type correct\n",
    "| 3  | both correct |\n",
    "\n",
    "**NB.** Not for all CRISPR types a PAM analysis can be performed, since not all have known PAM sequences.  \n",
    "Also note that the type referred in the plot is derived from the found proteins, and the PAM analysis checks for both the type of the proteins as from the CRISPR arrays repeat family."
   ]
  },
  {
   "cell_type": "code",
   "execution_count": null,
   "metadata": {},
   "outputs": [],
   "source": [
    "ax = sns.countplot(y='genome_type', hue='PAM_confid', data=df, saturation=100, palette=cbf, \n",
    "                   order=sorted(df['new_type_group'].unique(), key=sort_groups))\n",
    "ax.set_xscale('log')\n",
    "increase_figsize(3)\n",
    "plt.legend(loc='lower right')"
   ]
  },
  {
   "cell_type": "markdown",
   "metadata": {},
   "source": [
    "## Hits in genes"
   ]
  },
  {
   "cell_type": "code",
   "execution_count": null,
   "metadata": {},
   "outputs": [],
   "source": [
    "# df_single_type = df[~df['genome_type'].str.contains('/')]\n",
    "ax = sns.countplot(y='new_type_group', hue='gene_hit', data=df, \n",
    "                   saturation=100, palette=cbf, order=sorted(df['new_type_group'].unique(), key=sort_groups))\n",
    "ax.set_xscale('log')\n",
    "increase_figsize(3)\n",
    "plt.legend(loc='center right', bbox_to_anchor=(1, .4))\n",
    "sns.despine()\n",
    "# plt.setp(ax.get_legend().get_title(), fontsize=20, text=None)\n",
    "plt.ylabel(\"CRISPR Type\")\n",
    "plt.title(\"Hits in genes (hit identity: %s)\" % perc_ident + title_mod,)\n",
    "save_fig()"
   ]
  },
  {
   "cell_type": "markdown",
   "metadata": {},
   "source": [
    "## More analysis in leader/middle/tail"
   ]
  },
  {
   "cell_type": "code",
   "execution_count": null,
   "metadata": {},
   "outputs": [],
   "source": [
    "x, y, hue = 'with_phage', 'Frequency', 'name_spacer_pos'\n",
    "df.pipe(\n",
    "    lambda d:\n",
    "    d[x]\n",
    "    .groupby(d[hue])\n",
    "    .value_counts(normalize=True)\n",
    "    .rename(y)\n",
    "    .reset_index()\n",
    ").pipe((sns.barplot, \"data\"), hue=hue, x=x, y=y)\n",
    "increase_figsize(2)\n",
    "plt.legend(loc='upper center')\n",
    "sns.despine()\n",
    "plt.title(\"Percentage of phage target (hit identity: %s)\" % perc_ident)\n",
    "save_fig()"
   ]
  },
  {
   "cell_type": "code",
   "execution_count": null,
   "metadata": {},
   "outputs": [],
   "source": [
    "x, y, hue = 'gene_hit', 'Frequency (%)', 'name_spacer_pos'\n",
    "df.query('array_size < 4').pipe(\n",
    "    lambda d:\n",
    "    pd.DataFrame() if d.empty else\n",
    "    d[x]\n",
    "    .groupby(d[hue])\n",
    "    .value_counts(normalize=True)\n",
    "    .rename(y)\n",
    "    .reset_index()\n",
    ").pipe((sns.barplot, \"data\"), hue=hue, x=x, y=y)\n",
    "increase_figsize(2)\n",
    "sns.despine()\n",
    "plt.title(\"Percentage of target group of STS from small arrays (size 2-3) hit identity: %s\" % perc_ident)\n",
    "# plt.legend(loc='upper center')\n",
    "save_fig()"
   ]
  },
  {
   "cell_type": "markdown",
   "metadata": {},
   "source": [
    "## Just trying something out"
   ]
  },
  {
   "cell_type": "markdown",
   "metadata": {},
   "source": [
    "### Some export"
   ]
  },
  {
   "cell_type": "code",
   "execution_count": null,
   "metadata": {},
   "outputs": [],
   "source": [
    "df_hitcount.head()"
   ]
  },
  {
   "cell_type": "code",
   "execution_count": null,
   "metadata": {},
   "outputs": [],
   "source": [
    "if False:\n",
    "    with pd.ExcelWriter(data_folder + \"hit_ammounts_per_genome.xlsx\") as excel_writer:\n",
    "        for key, group in df_hitcount.groupby('new_type_group'):\n",
    "            group.to_excel(excel_writer, sheet_name=key, columns=['name', 'genome_count_hit'])\n",
    "    \n",
    "    "
   ]
  },
  {
   "cell_type": "markdown",
   "metadata": {},
   "source": [
    "### Additional analysis"
   ]
  },
  {
   "cell_type": "code",
   "execution_count": null,
   "metadata": {},
   "outputs": [],
   "source": [
    "from utils.uclust import uclust\n",
    "\n",
    "def uclust_analysis_sample(test_groups, match_id):\n",
    "    test_size = min(map(len, test_groups.values()))\n",
    "\n",
    "    test_groups = {key: value.sample(test_size) for key, value in test_groups.items()}\n",
    "    print(\"---\")\n",
    "    print(\"All groups cut to %d size\" % test_size)\n",
    "    print(\"---\")\n",
    "    for key, value in test_groups.items():\n",
    "        \n",
    "        print(\"%s clusters in %d different groups\" % (key, len(list(uclust(value, match_id)))))    \n",
    "        \n",
    "def uclust_analysis_perc(test_groups, match_id):\n",
    "    for key, value in test_groups.items():\n",
    "        size = len(value)\n",
    "        u_list = list(uclust(value, match_id))\n",
    "        u_list = sorted(u_list)\n",
    "        print([\"%.2f\" % (a / size) for a in u_list[-10:]])\n",
    "        u = len(u_list)\n",
    "        print(\"clustering %s shows %.2f %% unique sequnces\" \n",
    "              % (key, (100 * u / size)))\n",
    "\n",
    "def uclust_analysis(test_groups, match_id=0.9, test='sample'):\n",
    "    assert test in ['sample', 'perc'], \"%s is not a valid test\" % test\n",
    "    for key, value in test_groups.items():\n",
    "        print(\"%s: %d\" % (key, len(value)))\n",
    "    {'sample': uclust_analysis_sample, 'perc': uclust_analysis_perc}[test](test_groups, match_id)\n",
    "    "
   ]
  },
  {
   "cell_type": "code",
   "execution_count": null,
   "metadata": {},
   "outputs": [],
   "source": [
    "from utils.uclust import uclust\n",
    "type_group = df[df['new_type_group'].str.contains('CAS-TypeIIIA')]\n",
    "test_groups = {\n",
    "    'CAS-TypeIII': type_group['seq'],\n",
    "#     'CAS-TypeIII_gene': type_group[type_group['gene_hit'].str.contains('RNA')]['seq'],\n",
    "    'CAS-TypeIII_intergenic': type_group[~type_group['gene_hit'].str.contains('RNA')]['seq'],\n",
    "    'ALL': df['seq'],\n",
    "}\n",
    "uclust_analysis(test_groups)"
   ]
  },
  {
   "cell_type": "code",
   "execution_count": null,
   "metadata": {},
   "outputs": [],
   "source": []
  },
  {
   "cell_type": "code",
   "execution_count": null,
   "metadata": {},
   "outputs": [],
   "source": [
    "def analyze(df):\n",
    "\n",
    "    types_analyze = [key for key, value in \n",
    "                     df[~df['gene_hit'].str.contains('RNA')]['new_type_group'].value_counts().to_dict().items() \n",
    "                     if value > 500]\n",
    "    test_groups = {'ALL': df['seq']}\n",
    "    for t in types_analyze: \n",
    "\n",
    "        type_group = df[df['new_type_group'] == t]\n",
    "        gene = type_group['gene_hit'].str.contains('RNA')\n",
    "        test_groups.update({\"%s_gene\" % t: type_group[gene]['seq'], \n",
    "                            \"%s_intergenic\" % t: type_group[~gene]['seq']})\n",
    "\n",
    "    uclust_analysis(test_groups, test='perc')\n",
    "    \n",
    "interesting = df_all.query('(new_type_group == \"CAS-TypeIIIA\") and (seq == \"TTAAAACCGTGTTGCACTGCAACCCGGAATTCTTGCAC\")')\n",
    "# TCGGGGAGCCGATCAGCGACCACCGCACCCTGTCA\n",
    "if True:\n",
    "    with open(data_folder + 'typeiiia_genomes_staphi', 'w') as f:\n",
    "        f.writelines(line + '\\n' for line in set(interesting.index))\n",
    "        "
   ]
  },
  {
   "cell_type": "code",
   "execution_count": null,
   "metadata": {},
   "outputs": [],
   "source": [
    "# df_all.query('new_type_group == \"CAS-TypeIIIA\"')['seq'].value_counts()"
   ]
  },
  {
   "cell_type": "code",
   "execution_count": null,
   "metadata": {},
   "outputs": [],
   "source": [
    "interesting.to_csv(data_folder + 'typeiiia_staphi.tsv', sep='\\t')"
   ]
  },
  {
   "cell_type": "code",
   "execution_count": null,
   "metadata": {},
   "outputs": [],
   "source": [
    "interesting"
   ]
  },
  {
   "cell_type": "code",
   "execution_count": null,
   "metadata": {},
   "outputs": [],
   "source": [
    "len(interesting)"
   ]
  },
  {
   "cell_type": "code",
   "execution_count": null,
   "metadata": {},
   "outputs": [],
   "source": [
    "df_crispr.head()"
   ]
  },
  {
   "cell_type": "code",
   "execution_count": null,
   "metadata": {},
   "outputs": [],
   "source": [
    "crispr_test.head()"
   ]
  },
  {
   "cell_type": "code",
   "execution_count": null,
   "metadata": {},
   "outputs": [],
   "source": []
  },
  {
   "cell_type": "code",
   "execution_count": null,
   "metadata": {
    "scrolled": true
   },
   "outputs": [],
   "source": [
    "crispr_test = interesting.join(df_crispr.reset_index().set_index('array_id'), on='array_id', rsuffix='_crispr')\n",
    "# crispr_test.loc['1773.5284', ['start', 'end', 'contig', 'c_1', 'c_2', 'contig_hit']]"
   ]
  },
  {
   "cell_type": "code",
   "execution_count": null,
   "metadata": {},
   "outputs": [],
   "source": [
    "crispr_test"
   ]
  },
  {
   "cell_type": "code",
   "execution_count": null,
   "metadata": {},
   "outputs": [],
   "source": [
    "test = interesting.join(df_meta)\n",
    "from collections import Counter\n",
    "print(Counter(map(lambda d: \" \".join(d.split()[:2]), test['name'].value_counts().index)))"
   ]
  },
  {
   "cell_type": "code",
   "execution_count": null,
   "metadata": {},
   "outputs": [],
   "source": []
  },
  {
   "cell_type": "code",
   "execution_count": null,
   "metadata": {},
   "outputs": [],
   "source": []
  },
  {
   "cell_type": "code",
   "execution_count": null,
   "metadata": {},
   "outputs": [],
   "source": []
  },
  {
   "cell_type": "code",
   "execution_count": null,
   "metadata": {},
   "outputs": [],
   "source": []
  },
  {
   "cell_type": "code",
   "execution_count": null,
   "metadata": {},
   "outputs": [],
   "source": []
  }
 ],
 "metadata": {
  "kernelspec": {
   "display_name": "Python 3",
   "language": "python",
   "name": "python3"
  },
  "language_info": {
   "codemirror_mode": {
    "name": "ipython",
    "version": 3
   },
   "file_extension": ".py",
   "mimetype": "text/x-python",
   "name": "python",
   "nbconvert_exporter": "python",
   "pygments_lexer": "ipython3",
   "version": "3.5.3"
  }
 },
 "nbformat": 4,
 "nbformat_minor": 2
}
