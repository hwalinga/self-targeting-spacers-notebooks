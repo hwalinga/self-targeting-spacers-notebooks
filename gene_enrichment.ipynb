{
 "cells": [
  {
   "cell_type": "code",
   "execution_count": 1,
   "metadata": {},
   "outputs": [
    {
     "name": "stdout",
     "output_type": "stream",
     "text": [
      "0.25.3\n",
      "0.9.0\n",
      "3.0.3\n"
     ]
    }
   ],
   "source": [
    "import pandas\n",
    "print(pandas.__version__)\n",
    "import seaborn\n",
    "print(seaborn.__version__)\n",
    "import matplotlib\n",
    "print(matplotlib.__version__)"
   ]
  },
  {
   "cell_type": "code",
   "execution_count": 1,
   "metadata": {},
   "outputs": [
    {
     "data": {
      "text/html": [
       "<h1 id=\"tocheading\">Table of Contents</h1>\n",
       "<br>\n",
       "<div id=\"toc\"></div>\n",
       "<script>\n",
       "IPython.OutputArea.prototype._should_scroll = function(lines) {\n",
       "    return false;\n",
       "}\n",
       "$.getScript('https://kmahelona.github.io/ipython_notebook_goodies/ipython_notebook_toc.js')\n",
       "</script>\n",
       "<style>\n",
       "table {\n",
       "    display: inline-block\n",
       "}\n",
       "</style>\n"
      ],
      "text/plain": [
       "<IPython.core.display.HTML object>"
      ]
     },
     "metadata": {},
     "output_type": "display_data"
    }
   ],
   "source": [
    "%%html\n",
    "<h1 id=\"tocheading\">Table of Contents</h1>\n",
    "<br>\n",
    "<div id=\"toc\"></div>\n",
    "<script>\n",
    "IPython.OutputArea.prototype._should_scroll = function(lines) {\n",
    "    return false;\n",
    "}\n",
    "$.getScript('https://kmahelona.github.io/ipython_notebook_goodies/ipython_notebook_toc.js')\n",
    "</script>\n",
    "<style>\n",
    "table {\n",
    "    display: inline-block\n",
    "}\n",
    "</style>"
   ]
  },
  {
   "cell_type": "markdown",
   "metadata": {},
   "source": [
    "# WARNING: This will take up a lot of RAM. \n",
    "The notebook will run if you have 8GB RAM (you will need some swap space though), but will slow down your computer temporarily. I wouldn't attempt with 4 GB or less. "
   ]
  },
  {
   "cell_type": "code",
   "execution_count": 2,
   "metadata": {},
   "outputs": [],
   "source": [
    "import pandas as pd\n",
    "from matplotlib import pyplot as plt\n",
    "import matplotlib as mpl\n",
    "import seaborn as sns\n",
    "import numpy as np\n",
    "from scipy import stats\n",
    "import statsmodels as sm\n",
    "from statsmodels.stats.multitest import fdrcorrection  # Benjamini-Hochberg as default\n",
    "from functools import partial\n",
    "# %matplotlib inline\n",
    "pd.options.display.max_columns = None\n",
    "def increase_figsize(N, plt=plt):\n",
    "    params = plt.gcf() if type(plt) is type(pd) else plt\n",
    "    axes = params.get_axes()\n",
    "    plSize = params.get_size_inches()\n",
    "    params.set_size_inches((plSize[0]*N, plSize[1]*N))\n",
    "def increase_size_by(N, fontsize, plt=plt):\n",
    "    params = plt.gcf() if type(plt) is type(pd) else plt\n",
    "    axes = params.get_axes()\n",
    "    plSize = params.get_size_inches()\n",
    "    params.set_size_inches((plSize[0]*N, plSize[1]*N))\n",
    "    for ax in axes:\n",
    "        for item in ([ax.title, ax.xaxis.label, ax.yaxis.label] +\n",
    "                ax.get_xticklabels() + ax.get_yticklabels()):\n",
    "            item.set_fontsize(fontsize)\n",
    "            \n",
    "# Setting some default params. \n",
    "cbf = ['#377eb8', '#ff7f00', '#4daf4a',\n",
    "        '#f781bf', '#a65628', '#984ea3',\n",
    "        '#999999', '#e41a1c', '#dede00']\n",
    "cbf_map = mpl.colors.ListedColormap(cbf)\n",
    "rc = {'axes.facecolor': 'white', 'axes.edgecolor': '.15', 'axes.axisbelow': True, 'figure.facecolor': 'white',\n",
    "      'axes.labelcolor': '.15',  'text.color': '.25',\n",
    "      'patch.force_edgecolor': True, 'patch.edgecolor': 'w',\n",
    "      'xtick.bottom': True, 'ytick.left': True, 'xtick.color': '.15', 'ytick.color': '.15',\n",
    "      'grid.linestyle': '-', 'axes.grid': False, 'grid.color': '.8', \n",
    "      'font.size': 30, \n",
    "      'xtick.labelsize': 15, 'ytick.labelsize': 15, \n",
    "      'axes.titlesize': 22,\n",
    "      'axes.labelsize': 15,\n",
    "      'legend.fontsize': 18, 'legend.title_fontsize': 30,\n",
    "      }\n",
    "sns.set(rc=rc)\n",
    "sns.set_palette(cbf)\n",
    "pd.set_option('display.max_rows', 500)\n",
    "pd.set_option('display.max_columns', 500)\n",
    "\n",
    "def percentage(x): \n",
    "    return x / x.sum()\n",
    "\n",
    "from pandas.core.base import PandasObject\n",
    "\n",
    "PandasObject.set_columns = lambda df, values: df.T.set_index(values).T\n",
    "\n",
    "pd.set_option('display.max_colwidth', 200)"
   ]
  },
  {
   "cell_type": "code",
   "execution_count": 3,
   "metadata": {},
   "outputs": [],
   "source": [
    "has_header = True  # this can be made with the preprocessing file 'patches/remove_double_genomes.py' or 'patches/summary'\n",
    "data_folder = '/home/hielke/bep/res/'\n",
    "result_folder = '/home/hielke/bep/enrichment_analysis/'\n",
    "fig_folder = '/home/hielke/bep/figs/FOR_PUB/'\n",
    "first_order = 'A'\n",
    "second_order = 0\n",
    "save = False\n",
    "title_mod = \"\"\n",
    "def save_fig(ax=None, save=save, plt=plt, title=None):\n",
    "    if not save: \n",
    "        return \n",
    "    \n",
    "    if not ax: \n",
    "        ax = plt.gca()\n",
    "        \n",
    "    title = title or (g.fig._suptitle._text \n",
    "                      if type(ax) is sns.axisgrid.FacetGrid \n",
    "                      else ax.get_title())\n",
    "    \n",
    "    global second_order\n",
    "    second_order += 1\n",
    "    \n",
    "    dest = fig_folder + first_order + str(second_order) + \"___\" \\\n",
    "        + title.replace(\" \", \"_\") + \".png\"\n",
    "    plt.savefig(dest, format='png', bbox_inches='tight')\n",
    "    print(\"figure saved in \" + dest)"
   ]
  },
  {
   "cell_type": "markdown",
   "metadata": {},
   "source": [
    "# Read in data"
   ]
  },
  {
   "cell_type": "code",
   "execution_count": 4,
   "metadata": {},
   "outputs": [
    {
     "data": {
      "text/html": [
       "<div>\n",
       "<style scoped>\n",
       "    .dataframe tbody tr th:only-of-type {\n",
       "        vertical-align: middle;\n",
       "    }\n",
       "\n",
       "    .dataframe tbody tr th {\n",
       "        vertical-align: top;\n",
       "    }\n",
       "\n",
       "    .dataframe thead th {\n",
       "        text-align: right;\n",
       "    }\n",
       "</style>\n",
       "<table border=\"1\" class=\"dataframe\">\n",
       "  <thead>\n",
       "    <tr style=\"text-align: right;\">\n",
       "      <th></th>\n",
       "      <th>seq</th>\n",
       "      <th>c_1</th>\n",
       "      <th>c_2</th>\n",
       "      <th>contig_hit</th>\n",
       "      <th>spacer_pos</th>\n",
       "      <th>spacer_id</th>\n",
       "      <th>hit_ident</th>\n",
       "      <th>spacer_size</th>\n",
       "      <th>contig_size</th>\n",
       "      <th>array_id</th>\n",
       "      <th>array_size</th>\n",
       "      <th>array_confid</th>\n",
       "      <th>repeat_size</th>\n",
       "      <th>array_type</th>\n",
       "      <th>genome_type</th>\n",
       "      <th>PAM_confid</th>\n",
       "      <th>poss_PAM</th>\n",
       "      <th>PAM_side</th>\n",
       "      <th>phage_class</th>\n",
       "      <th>with_phage</th>\n",
       "      <th>gene_hit</th>\n",
       "      <th>gene_id</th>\n",
       "      <th>gene_class</th>\n",
       "      <th>rel_spacer_pos</th>\n",
       "      <th>name_spacer_pos</th>\n",
       "    </tr>\n",
       "    <tr>\n",
       "      <th>genome_id</th>\n",
       "      <th></th>\n",
       "      <th></th>\n",
       "      <th></th>\n",
       "      <th></th>\n",
       "      <th></th>\n",
       "      <th></th>\n",
       "      <th></th>\n",
       "      <th></th>\n",
       "      <th></th>\n",
       "      <th></th>\n",
       "      <th></th>\n",
       "      <th></th>\n",
       "      <th></th>\n",
       "      <th></th>\n",
       "      <th></th>\n",
       "      <th></th>\n",
       "      <th></th>\n",
       "      <th></th>\n",
       "      <th></th>\n",
       "      <th></th>\n",
       "      <th></th>\n",
       "      <th></th>\n",
       "      <th></th>\n",
       "      <th></th>\n",
       "      <th></th>\n",
       "    </tr>\n",
       "  </thead>\n",
       "  <tbody>\n",
       "    <tr>\n",
       "      <th>1496.1168</th>\n",
       "      <td>AAAAAAAAAGATACATCTGTAACTAATTTTTATACT</td>\n",
       "      <td>36935</td>\n",
       "      <td>36900</td>\n",
       "      <td>FAKJ01000041</td>\n",
       "      <td>14</td>\n",
       "      <td>FAKJ01000002_1_14</td>\n",
       "      <td>94.44</td>\n",
       "      <td>36</td>\n",
       "      <td>37679</td>\n",
       "      <td>FAKJ01000002_1</td>\n",
       "      <td>14</td>\n",
       "      <td>6.23</td>\n",
       "      <td>29</td>\n",
       "      <td>CAS-TypeIB</td>\n",
       "      <td>CAS-TypeIB</td>\n",
       "      <td>3</td>\n",
       "      <td>TGGAGTTATT</td>\n",
       "      <td>3</td>\n",
       "      <td>NULL</td>\n",
       "      <td>0</td>\n",
       "      <td>RNA-</td>\n",
       "      <td>FAKJ01000041_27</td>\n",
       "      <td>DNA breaking-rejoining enzyme, catalytic core</td>\n",
       "      <td>1.000000</td>\n",
       "      <td>tail</td>\n",
       "    </tr>\n",
       "    <tr>\n",
       "      <th>1049982.3</th>\n",
       "      <td>AAAAAAAAATGCCCTTACTTGCGTACGGTTATTACAA</td>\n",
       "      <td>37578</td>\n",
       "      <td>37542</td>\n",
       "      <td>AHOJ01000037</td>\n",
       "      <td>16</td>\n",
       "      <td>AHOJ01000080_1_16</td>\n",
       "      <td>100.00</td>\n",
       "      <td>37</td>\n",
       "      <td>49939</td>\n",
       "      <td>AHOJ01000080_1</td>\n",
       "      <td>25</td>\n",
       "      <td>3.26</td>\n",
       "      <td>36</td>\n",
       "      <td>NA</td>\n",
       "      <td>CAS-TypeIE</td>\n",
       "      <td>0</td>\n",
       "      <td>TCCGGCCTTT</td>\n",
       "      <td>3</td>\n",
       "      <td>NULL</td>\n",
       "      <td>0</td>\n",
       "      <td>RNA-</td>\n",
       "      <td>AHOJ01000037_36</td>\n",
       "      <td>UNCLASSIFIED</td>\n",
       "      <td>0.625000</td>\n",
       "      <td>middle</td>\n",
       "    </tr>\n",
       "    <tr>\n",
       "      <th>1357400.3</th>\n",
       "      <td>AAAAAAAAATGCGATTTTATCTATTTTTT</td>\n",
       "      <td>87181</td>\n",
       "      <td>87153</td>\n",
       "      <td>AZJI01000001</td>\n",
       "      <td>5</td>\n",
       "      <td>AZJI01000011_1_5</td>\n",
       "      <td>79.31</td>\n",
       "      <td>29</td>\n",
       "      <td>717268</td>\n",
       "      <td>AZJI01000011_1</td>\n",
       "      <td>8</td>\n",
       "      <td>3.26</td>\n",
       "      <td>36</td>\n",
       "      <td>NA</td>\n",
       "      <td>CAS</td>\n",
       "      <td>-1</td>\n",
       "      <td>NULL</td>\n",
       "      <td>NULL</td>\n",
       "      <td>NULL</td>\n",
       "      <td>0</td>\n",
       "      <td>INTERGENIC</td>\n",
       "      <td>NULL</td>\n",
       "      <td>NULL</td>\n",
       "      <td>0.571429</td>\n",
       "      <td>middle</td>\n",
       "    </tr>\n",
       "    <tr>\n",
       "      <th>1357400.3</th>\n",
       "      <td>AAAAAAAAATGCGATTTTATCTATTTTTT</td>\n",
       "      <td>241326</td>\n",
       "      <td>241298</td>\n",
       "      <td>AZJI01000007</td>\n",
       "      <td>5</td>\n",
       "      <td>AZJI01000011_1_5</td>\n",
       "      <td>79.31</td>\n",
       "      <td>29</td>\n",
       "      <td>315616</td>\n",
       "      <td>AZJI01000011_1</td>\n",
       "      <td>8</td>\n",
       "      <td>3.26</td>\n",
       "      <td>36</td>\n",
       "      <td>NA</td>\n",
       "      <td>CAS</td>\n",
       "      <td>-1</td>\n",
       "      <td>NULL</td>\n",
       "      <td>NULL</td>\n",
       "      <td>NULL</td>\n",
       "      <td>0</td>\n",
       "      <td>INTERGENIC</td>\n",
       "      <td>NULL</td>\n",
       "      <td>NULL</td>\n",
       "      <td>0.571429</td>\n",
       "      <td>middle</td>\n",
       "    </tr>\n",
       "    <tr>\n",
       "      <th>1357400.3</th>\n",
       "      <td>AAAAAAAAATGCGATTTTATCTATTTTTT</td>\n",
       "      <td>300807</td>\n",
       "      <td>300835</td>\n",
       "      <td>AZJI01000007</td>\n",
       "      <td>5</td>\n",
       "      <td>AZJI01000011_1_5</td>\n",
       "      <td>79.31</td>\n",
       "      <td>29</td>\n",
       "      <td>315616</td>\n",
       "      <td>AZJI01000011_1</td>\n",
       "      <td>8</td>\n",
       "      <td>3.26</td>\n",
       "      <td>36</td>\n",
       "      <td>NA</td>\n",
       "      <td>CAS</td>\n",
       "      <td>-1</td>\n",
       "      <td>NULL</td>\n",
       "      <td>NULL</td>\n",
       "      <td>NULL</td>\n",
       "      <td>0</td>\n",
       "      <td>INTERGENIC</td>\n",
       "      <td>NULL</td>\n",
       "      <td>NULL</td>\n",
       "      <td>0.571429</td>\n",
       "      <td>middle</td>\n",
       "    </tr>\n",
       "  </tbody>\n",
       "</table>\n",
       "</div>"
      ],
      "text/plain": [
       "                                             seq     c_1     c_2  \\\n",
       "genome_id                                                          \n",
       "1496.1168   AAAAAAAAAGATACATCTGTAACTAATTTTTATACT   36935   36900   \n",
       "1049982.3  AAAAAAAAATGCCCTTACTTGCGTACGGTTATTACAA   37578   37542   \n",
       "1357400.3          AAAAAAAAATGCGATTTTATCTATTTTTT   87181   87153   \n",
       "1357400.3          AAAAAAAAATGCGATTTTATCTATTTTTT  241326  241298   \n",
       "1357400.3          AAAAAAAAATGCGATTTTATCTATTTTTT  300807  300835   \n",
       "\n",
       "             contig_hit  spacer_pos          spacer_id  hit_ident  \\\n",
       "genome_id                                                           \n",
       "1496.1168  FAKJ01000041          14  FAKJ01000002_1_14      94.44   \n",
       "1049982.3  AHOJ01000037          16  AHOJ01000080_1_16     100.00   \n",
       "1357400.3  AZJI01000001           5   AZJI01000011_1_5      79.31   \n",
       "1357400.3  AZJI01000007           5   AZJI01000011_1_5      79.31   \n",
       "1357400.3  AZJI01000007           5   AZJI01000011_1_5      79.31   \n",
       "\n",
       "           spacer_size  contig_size        array_id  array_size  array_confid  \\\n",
       "genome_id                                                                       \n",
       "1496.1168           36        37679  FAKJ01000002_1          14          6.23   \n",
       "1049982.3           37        49939  AHOJ01000080_1          25          3.26   \n",
       "1357400.3           29       717268  AZJI01000011_1           8          3.26   \n",
       "1357400.3           29       315616  AZJI01000011_1           8          3.26   \n",
       "1357400.3           29       315616  AZJI01000011_1           8          3.26   \n",
       "\n",
       "           repeat_size  array_type genome_type  PAM_confid    poss_PAM  \\\n",
       "genome_id                                                                \n",
       "1496.1168           29  CAS-TypeIB  CAS-TypeIB           3  TGGAGTTATT   \n",
       "1049982.3           36          NA  CAS-TypeIE           0  TCCGGCCTTT   \n",
       "1357400.3           36          NA         CAS          -1        NULL   \n",
       "1357400.3           36          NA         CAS          -1        NULL   \n",
       "1357400.3           36          NA         CAS          -1        NULL   \n",
       "\n",
       "          PAM_side phage_class  with_phage    gene_hit          gene_id  \\\n",
       "genome_id                                                                 \n",
       "1496.1168        3        NULL           0        RNA-  FAKJ01000041_27   \n",
       "1049982.3        3        NULL           0        RNA-  AHOJ01000037_36   \n",
       "1357400.3     NULL        NULL           0  INTERGENIC             NULL   \n",
       "1357400.3     NULL        NULL           0  INTERGENIC             NULL   \n",
       "1357400.3     NULL        NULL           0  INTERGENIC             NULL   \n",
       "\n",
       "                                              gene_class  rel_spacer_pos  \\\n",
       "genome_id                                                                  \n",
       "1496.1168  DNA breaking-rejoining enzyme, catalytic core        1.000000   \n",
       "1049982.3                                   UNCLASSIFIED        0.625000   \n",
       "1357400.3                                           NULL        0.571429   \n",
       "1357400.3                                           NULL        0.571429   \n",
       "1357400.3                                           NULL        0.571429   \n",
       "\n",
       "          name_spacer_pos  \n",
       "genome_id                  \n",
       "1496.1168            tail  \n",
       "1049982.3          middle  \n",
       "1357400.3          middle  \n",
       "1357400.3          middle  \n",
       "1357400.3          middle  "
      ]
     },
     "execution_count": 4,
     "metadata": {},
     "output_type": "execute_result"
    }
   ],
   "source": [
    "if has_header:\n",
    "    df = pd.read_csv(data_folder + 'hits.tsv.header.csv', sep='\\t', \n",
    "                    index_col=False, keep_default_na=False, \n",
    "                     dtype={'genome_id': str, 'spacer_pos': int, 'spacer_size': int}\n",
    "                    ).set_index('genome_id')\n",
    "else:\n",
    "    df = pd.read_csv(data_folder + 'gene.matched.tsv.smallarraycheck.csv', sep='\\t', \n",
    "                 names=['genome_key', 'genome_id', 'contig_hit', 'c_1', 'c_2', 'spacer_id', 'hit_ident', 'spacer_size', \n",
    "                        'contig_size', '3_prime', '5_prime', 'array_id', 'array_size', 'array_confid', 'repeat_size', 'array_type', 'genome_type',\n",
    "                        'PAM_confid', 'poss_PAM', 'PAM_side', 'phage_class', 'with_phage',  'gene_hit', 'gene_id', 'gene_class'],\n",
    "                index_col=False, keep_default_na=False, \n",
    "                     dtype={'genome_id': str}).set_index('genome_id')\n",
    "df.drop(['3_prime', '5_prime', 'genome_key',], axis=1, inplace=True)\n",
    "df.head()"
   ]
  },
  {
   "cell_type": "code",
   "execution_count": 5,
   "metadata": {},
   "outputs": [],
   "source": [
    "# Select here if you want to do an analysis with information about the genes being phage genes or not. \n",
    "# (And restart the notebook to prevent RAM issues.)\n",
    "phage = True\n",
    "phage_only = True  # False means exclude the phage genes.\n",
    "save = True"
   ]
  },
  {
   "cell_type": "code",
   "execution_count": 6,
   "metadata": {},
   "outputs": [],
   "source": [
    "ident = 90\n",
    "df_sel = df.query('hit_ident > @ident and gene_id != \"NULL\"')\n",
    "dfgenehits = df_sel.groupby([df_sel.index, 'gene_id']).nth(0)\n",
    "    \n",
    "if False:\n",
    "    with open(data_folder + 'selection_for_gene_classification', 'w') as f:\n",
    "        f.writelines(line + '\\n' for line in set(df_sel.index))"
   ]
  },
  {
   "cell_type": "code",
   "execution_count": 7,
   "metadata": {},
   "outputs": [],
   "source": [
    "dfgenehits = df_sel.reset_index().groupby(['genome_id', 'gene_id']).first().reset_index().set_index('genome_id')"
   ]
  },
  {
   "cell_type": "markdown",
   "metadata": {},
   "source": [
    "So, there are two kinds of NULL in the gene classification. \n",
    "\n",
    "UNKNOWN: In this case interproscan did not list the gene. Probably it did not find it any database. More likely not a gene in that case. \n",
    "\n",
    "UNCLASSIFIED: In this case interproscan did list the gene, but did not provide any annotation for the gene. It is more likely for this to be a gene without an annotation. "
   ]
  },
  {
   "cell_type": "code",
   "execution_count": 8,
   "metadata": {},
   "outputs": [],
   "source": [
    "# PERFORM SELECTION AS FOLLOWS:\n",
    "# alias mtawk=\"mawk -F '\\t' -v OFS='\\t'\"\n",
    "# mtawk 'FNR==NR{hits[$0]=1;next;} $1 in hits' selection_for_gene_classification gene_classification > gene_classification.sel\n",
    "# To add phage information, see scripts/processors/add_phage_annotations_on_genes.py\n",
    "\n",
    "\n",
    "if phage:\n",
    "    dfgenes = pd.read_csv(data_folder + 'genes_with_phage', sep='\\t', \n",
    "                      names=['genome_id', 'gene_id', 's', 'e', 'side', 'gene_class', 'phage_class'],\n",
    "                      dtype={'genome_id': str, 'phage_class': int}).set_index('genome_id')\n",
    "    \n",
    "else:\n",
    "    dfgenes = pd.read_csv(data_folder + 'gene_classification.sel.%d' % ident, sep='\\t', \n",
    "                      names=['genome_id', 'gene_id', 's', 'e', 'side', 'gene_class'],\n",
    "                      dtype={'genome_id': str}).set_index('genome_id')"
   ]
  },
  {
   "cell_type": "code",
   "execution_count": 9,
   "metadata": {},
   "outputs": [
    {
     "data": {
      "text/html": [
       "<div>\n",
       "<style scoped>\n",
       "    .dataframe tbody tr th:only-of-type {\n",
       "        vertical-align: middle;\n",
       "    }\n",
       "\n",
       "    .dataframe tbody tr th {\n",
       "        vertical-align: top;\n",
       "    }\n",
       "\n",
       "    .dataframe thead th {\n",
       "        text-align: right;\n",
       "    }\n",
       "</style>\n",
       "<table border=\"1\" class=\"dataframe\">\n",
       "  <thead>\n",
       "    <tr style=\"text-align: right;\">\n",
       "      <th></th>\n",
       "      <th>gene_id</th>\n",
       "      <th>s</th>\n",
       "      <th>e</th>\n",
       "      <th>side</th>\n",
       "      <th>gene_class</th>\n",
       "      <th>phage_class</th>\n",
       "    </tr>\n",
       "    <tr>\n",
       "      <th>genome_id</th>\n",
       "      <th></th>\n",
       "      <th></th>\n",
       "      <th></th>\n",
       "      <th></th>\n",
       "      <th></th>\n",
       "      <th></th>\n",
       "    </tr>\n",
       "  </thead>\n",
       "  <tbody>\n",
       "    <tr>\n",
       "      <th>1294259.3</th>\n",
       "      <td>BBCI01000001_1</td>\n",
       "      <td>337</td>\n",
       "      <td>559</td>\n",
       "      <td>-1</td>\n",
       "      <td>N-acetylmuramoyl-L-alanine amidase, catalytic domain</td>\n",
       "      <td>2</td>\n",
       "    </tr>\n",
       "    <tr>\n",
       "      <th>1294259.3</th>\n",
       "      <td>BBCI01000001_2</td>\n",
       "      <td>563</td>\n",
       "      <td>809</td>\n",
       "      <td>-1</td>\n",
       "      <td>UNCLASSIFIED</td>\n",
       "      <td>2</td>\n",
       "    </tr>\n",
       "    <tr>\n",
       "      <th>1294259.3</th>\n",
       "      <td>BBCI01000001_3</td>\n",
       "      <td>920</td>\n",
       "      <td>1685</td>\n",
       "      <td>-1</td>\n",
       "      <td>Calcineurin-like phosphoesterase domain, ApaH type</td>\n",
       "      <td>2</td>\n",
       "    </tr>\n",
       "    <tr>\n",
       "      <th>1294259.3</th>\n",
       "      <td>BBCI01000001_4</td>\n",
       "      <td>1688</td>\n",
       "      <td>1937</td>\n",
       "      <td>-1</td>\n",
       "      <td>UNCLASSIFIED</td>\n",
       "      <td>2</td>\n",
       "    </tr>\n",
       "    <tr>\n",
       "      <th>1294259.3</th>\n",
       "      <td>BBCI01000001_5</td>\n",
       "      <td>1952</td>\n",
       "      <td>2192</td>\n",
       "      <td>-1</td>\n",
       "      <td>UNCLASSIFIED</td>\n",
       "      <td>2</td>\n",
       "    </tr>\n",
       "  </tbody>\n",
       "</table>\n",
       "</div>"
      ],
      "text/plain": [
       "                  gene_id     s     e  side  \\\n",
       "genome_id                                     \n",
       "1294259.3  BBCI01000001_1   337   559    -1   \n",
       "1294259.3  BBCI01000001_2   563   809    -1   \n",
       "1294259.3  BBCI01000001_3   920  1685    -1   \n",
       "1294259.3  BBCI01000001_4  1688  1937    -1   \n",
       "1294259.3  BBCI01000001_5  1952  2192    -1   \n",
       "\n",
       "                                                     gene_class  phage_class  \n",
       "genome_id                                                                     \n",
       "1294259.3  N-acetylmuramoyl-L-alanine amidase, catalytic domain            2  \n",
       "1294259.3                                          UNCLASSIFIED            2  \n",
       "1294259.3    Calcineurin-like phosphoesterase domain, ApaH type            2  \n",
       "1294259.3                                          UNCLASSIFIED            2  \n",
       "1294259.3                                          UNCLASSIFIED            2  "
      ]
     },
     "execution_count": 9,
     "metadata": {},
     "output_type": "execute_result"
    }
   ],
   "source": [
    "dfgenes.head()"
   ]
  },
  {
   "cell_type": "code",
   "execution_count": 10,
   "metadata": {},
   "outputs": [],
   "source": [
    "if phage:\n",
    "    \n",
    "    if phage_only:\n",
    "        result_folder = '/home/hielke/bep/enrichment_analysis/phages_only/'\n",
    "        dfgenes = dfgenes.query('phage_class > 0')\n",
    "        dfgenehits = dfgenehits.query('with_phage == 2')\n",
    "    else:\n",
    "        result_folder = '/home/hielke/bep/enrichment_analysis/phages_excluded/'\n",
    "        dfgenes = dfgenes.query('phage_class == 0')\n",
    "        dfgenehits = dfgenehits.query('with_phage < 2')"
   ]
  },
  {
   "cell_type": "code",
   "execution_count": 11,
   "metadata": {},
   "outputs": [],
   "source": [
    "gene_classes = dfgenes['gene_class'].value_counts()\n",
    "all_genes = sum(gene_classes)"
   ]
  },
  {
   "cell_type": "code",
   "execution_count": 12,
   "metadata": {},
   "outputs": [
    {
     "data": {
      "text/plain": [
       "UNCLASSIFIED                                               2452\n",
       "UNKNOWN                                                    1417\n",
       "P-loop containing nucleoside triphosphate hydrolase         327\n",
       "Phage tail tape measure protein                             223\n",
       "Winged helix-like DNA-binding domain superfamily            221\n",
       "                                                           ... \n",
       "Protein of unknown function (DUF1133)                         1\n",
       "T_den_put_tspse: conserved hypothetical protein               1\n",
       "Putative 3TM holin, Phage holin 3                             1\n",
       "Actin like proteins N terminal domain                         1\n",
       "phage_LysB: phage lysis regulatory protein, LysB family       1\n",
       "Name: gene_class, Length: 628, dtype: int64"
      ]
     },
     "execution_count": 12,
     "metadata": {},
     "output_type": "execute_result"
    }
   ],
   "source": [
    "dfgenehits['gene_class'].value_counts()"
   ]
  },
  {
   "cell_type": "markdown",
   "metadata": {},
   "source": [
    "# Testing"
   ]
  },
  {
   "cell_type": "code",
   "execution_count": 13,
   "metadata": {},
   "outputs": [],
   "source": [
    "def binom_test(x, gene_stats, alternative):\n",
    "    \"\"\"We test if for a gene, the amount of genes that are hit is greater than expected.\"\"\"\n",
    "    \n",
    "    gene_name = x.values[0]\n",
    "    total_this_gene = gene_stats['gene_classes'][gene_name]\n",
    "    total_this_gene_hit = x.values[1]\n",
    "\n",
    "    p = stats.binom_test(total_this_gene_hit, total_this_gene, gene_stats['expected_ratio'], alternative=alternative)\n",
    "    return p, gene_name\n",
    "\n",
    "\n",
    "def fisher_exact(x, gene_stats, alternative):\n",
    "    \"\"\"We make 2 x 2 matrix that seperate by being the correct gene class or not, and by being hit by a STS or not.\"\"\"\n",
    "    \n",
    "    gene_name = x.values[0]\n",
    "    total_this_gene = gene_stats['gene_classes'][gene_name]\n",
    "    total_this_gene_hit = x.values[1]\n",
    "\n",
    "    this_gene_not_hit = total_this_gene - total_this_gene_hit\n",
    "\n",
    "    other_genes_hit = gene_stats['all_gene_hits'] - total_this_gene_hit\n",
    "    \n",
    "    other_genes_not_hit = gene_stats['not_hit_genes'] - this_gene_not_hit\n",
    "\n",
    "    table = [[total_this_gene_hit, this_gene_not_hit], [other_genes_hit, other_genes_not_hit]]\n",
    "#     print(gene_name)\n",
    "#     print(table)\n",
    "    \n",
    "    odds_ratio, p = stats.fisher_exact(table, alternative=alternative)\n",
    "    \n",
    "    \n",
    "    return p, gene_name\n",
    "\n",
    "\n",
    "def get_gene_stats(dfgenehits, gene_classes):\n",
    "    gene_stats = {}\n",
    "    gene_stats['dfgenehits'] = dfgenehits\n",
    "    gene_stats['gene_class_hits'] = gene_stats['dfgenehits']['gene_class'].value_counts()\n",
    "    gene_stats['all_gene_hits'] = sum(gene_stats['gene_class_hits'])\n",
    "\n",
    "    gene_stats['gene_classes'] = gene_classes\n",
    "    gene_stats['total_genes'] = sum(gene_classes)\n",
    "\n",
    "    gene_stats['expected_ratio'] = gene_stats['all_gene_hits'] / gene_stats['total_genes']\n",
    "    gene_stats['not_hit_genes'] = gene_stats['total_genes'] - gene_stats['all_gene_hits']\n",
    "    \n",
    "    return gene_stats\n",
    "\n",
    "\n",
    "def correct_gene_p_vals(gene_stats, p_vals):\n",
    "    p_corr = (\n",
    "        # perform multiple testing correction.\n",
    "        p_vals[fdrcorrection(p_vals[0])[0]].rename(columns={0: 'p', 1: 'gene'}) \n",
    "        # merge with information about the total count of genes that are hit.\n",
    "        .merge(\n",
    "            gene_stats['gene_class_hits'].to_frame('count').reset_index().rename(columns={'index': 'gene'}), \n",
    "            how='left', \n",
    "            on='gene',\n",
    "        # merge with total count of all genes.\n",
    "        ).merge(\n",
    "            gene_stats['gene_classes'].to_frame('total_count').reset_index().rename(columns={'index': 'gene'})\n",
    "    ))\n",
    "\n",
    "    return p_corr\n",
    "\n",
    "\n",
    "def enrichment_test(gene_stats, alternative, method, plot):\n",
    "    methods = {\n",
    "        \"binom_test\": binom_test,\n",
    "        \"fisher_exact\": fisher_exact,\n",
    "    }\n",
    "    assert method in methods.keys(), \"method not available %s\" % method\n",
    "    \n",
    "    test = partial(methods[method], gene_stats=gene_stats, alternative=alternative)\n",
    "    \n",
    "    p_vals = gene_stats['gene_class_hits'].reset_index().apply(test, result_type='expand', axis=1)\n",
    "\n",
    "    if plot:\n",
    "        p_vals[0].plot.hist(bins=20)\n",
    "        plt.title(\"p-value histogram\")\n",
    "\n",
    "    return correct_gene_p_vals(gene_stats, p_vals)\n",
    "\n",
    "def gene_test(dfgenehits, gene_classes, alternative, method, plot=False):\n",
    "    gene_stats = get_gene_stats(dfgenehits, gene_classes)\n",
    "    return enrichment_test(gene_stats, alternative, method, plot)"
   ]
  },
  {
   "cell_type": "markdown",
   "metadata": {},
   "source": [
    "## Testing for all"
   ]
  },
  {
   "cell_type": "code",
   "execution_count": 74,
   "metadata": {},
   "outputs": [
    {
     "ename": "ZeroDivisionError",
     "evalue": "division by zero",
     "output_type": "error",
     "traceback": [
      "\u001b[0;31m---------------------------------------------------------------------------\u001b[0m",
      "\u001b[0;31mZeroDivisionError\u001b[0m                         Traceback (most recent call last)",
      "\u001b[0;32m<ipython-input-74-9e012b4a015e>\u001b[0m in \u001b[0;36m<module>\u001b[0;34m\u001b[0m\n\u001b[1;32m      1\u001b[0m \u001b[0;31m# Change the alternative hypothesis to test to see what genes have more or less than expected STSs (greater / less).\u001b[0m\u001b[0;34m\u001b[0m\u001b[0;34m\u001b[0m\u001b[0m\n\u001b[1;32m      2\u001b[0m \u001b[0malternative\u001b[0m \u001b[0;34m=\u001b[0m \u001b[0;34m'greater'\u001b[0m\u001b[0;34m\u001b[0m\u001b[0m\n\u001b[0;32m----> 3\u001b[0;31m \u001b[0mp_corr_greater\u001b[0m \u001b[0;34m=\u001b[0m \u001b[0mgene_test\u001b[0m\u001b[0;34m(\u001b[0m\u001b[0mdfgenehits\u001b[0m\u001b[0;34m,\u001b[0m \u001b[0mgene_classes\u001b[0m\u001b[0;34m,\u001b[0m \u001b[0malternative\u001b[0m\u001b[0;34m,\u001b[0m \u001b[0;34m\"fisher_exact\"\u001b[0m\u001b[0;34m,\u001b[0m \u001b[0mplot\u001b[0m\u001b[0;34m=\u001b[0m\u001b[0;32mTrue\u001b[0m\u001b[0;34m)\u001b[0m\u001b[0;34m\u001b[0m\u001b[0m\n\u001b[0m",
      "\u001b[0;32m<ipython-input-73-95af5cb14fd1>\u001b[0m in \u001b[0;36mgene_test\u001b[0;34m(dfgenehits, gene_classes, alternative, method, plot)\u001b[0m\n\u001b[1;32m     83\u001b[0m \u001b[0;34m\u001b[0m\u001b[0m\n\u001b[1;32m     84\u001b[0m \u001b[0;32mdef\u001b[0m \u001b[0mgene_test\u001b[0m\u001b[0;34m(\u001b[0m\u001b[0mdfgenehits\u001b[0m\u001b[0;34m,\u001b[0m \u001b[0mgene_classes\u001b[0m\u001b[0;34m,\u001b[0m \u001b[0malternative\u001b[0m\u001b[0;34m,\u001b[0m \u001b[0mmethod\u001b[0m\u001b[0;34m,\u001b[0m \u001b[0mplot\u001b[0m\u001b[0;34m=\u001b[0m\u001b[0;32mFalse\u001b[0m\u001b[0;34m)\u001b[0m\u001b[0;34m:\u001b[0m\u001b[0;34m\u001b[0m\u001b[0m\n\u001b[0;32m---> 85\u001b[0;31m     \u001b[0mgene_stats\u001b[0m \u001b[0;34m=\u001b[0m \u001b[0mget_gene_stats\u001b[0m\u001b[0;34m(\u001b[0m\u001b[0mdfgenehits\u001b[0m\u001b[0;34m,\u001b[0m \u001b[0mgene_classes\u001b[0m\u001b[0;34m)\u001b[0m\u001b[0;34m\u001b[0m\u001b[0m\n\u001b[0m\u001b[1;32m     86\u001b[0m     \u001b[0;32mreturn\u001b[0m \u001b[0menrichment_test\u001b[0m\u001b[0;34m(\u001b[0m\u001b[0mgene_stats\u001b[0m\u001b[0;34m,\u001b[0m \u001b[0malternative\u001b[0m\u001b[0;34m,\u001b[0m \u001b[0mmethod\u001b[0m\u001b[0;34m,\u001b[0m \u001b[0mplot\u001b[0m\u001b[0;34m)\u001b[0m\u001b[0;34m\u001b[0m\u001b[0m\n",
      "\u001b[0;32m<ipython-input-73-95af5cb14fd1>\u001b[0m in \u001b[0;36mget_gene_stats\u001b[0;34m(dfgenehits, gene_classes)\u001b[0m\n\u001b[1;32m     42\u001b[0m     \u001b[0mgene_stats\u001b[0m\u001b[0;34m[\u001b[0m\u001b[0;34m'total_genes'\u001b[0m\u001b[0;34m]\u001b[0m \u001b[0;34m=\u001b[0m \u001b[0msum\u001b[0m\u001b[0;34m(\u001b[0m\u001b[0mgene_classes\u001b[0m\u001b[0;34m)\u001b[0m\u001b[0;34m\u001b[0m\u001b[0m\n\u001b[1;32m     43\u001b[0m \u001b[0;34m\u001b[0m\u001b[0m\n\u001b[0;32m---> 44\u001b[0;31m     \u001b[0mgene_stats\u001b[0m\u001b[0;34m[\u001b[0m\u001b[0;34m'expected_ratio'\u001b[0m\u001b[0;34m]\u001b[0m \u001b[0;34m=\u001b[0m \u001b[0mgene_stats\u001b[0m\u001b[0;34m[\u001b[0m\u001b[0;34m'all_gene_hits'\u001b[0m\u001b[0;34m]\u001b[0m \u001b[0;34m/\u001b[0m \u001b[0mgene_stats\u001b[0m\u001b[0;34m[\u001b[0m\u001b[0;34m'total_genes'\u001b[0m\u001b[0;34m]\u001b[0m\u001b[0;34m\u001b[0m\u001b[0m\n\u001b[0m\u001b[1;32m     45\u001b[0m     \u001b[0mgene_stats\u001b[0m\u001b[0;34m[\u001b[0m\u001b[0;34m'not_hit_genes'\u001b[0m\u001b[0;34m]\u001b[0m \u001b[0;34m=\u001b[0m \u001b[0mgene_stats\u001b[0m\u001b[0;34m[\u001b[0m\u001b[0;34m'total_genes'\u001b[0m\u001b[0;34m]\u001b[0m \u001b[0;34m-\u001b[0m \u001b[0mgene_stats\u001b[0m\u001b[0;34m[\u001b[0m\u001b[0;34m'all_gene_hits'\u001b[0m\u001b[0;34m]\u001b[0m\u001b[0;34m\u001b[0m\u001b[0m\n\u001b[1;32m     46\u001b[0m \u001b[0;34m\u001b[0m\u001b[0m\n",
      "\u001b[0;31mZeroDivisionError\u001b[0m: division by zero"
     ]
    }
   ],
   "source": [
    "# Change the alternative hypothesis to test to see what genes have more or less than expected STSs (greater / less).\n",
    "alternative = 'greater'\n",
    "p_corr_greater = gene_test(dfgenehits, gene_classes, alternative, \"fisher_exact\", plot=True)"
   ]
  },
  {
   "cell_type": "code",
   "execution_count": 66,
   "metadata": {},
   "outputs": [
    {
     "data": {
      "text/plain": [
       "0.00023645489584643564"
      ]
     },
     "execution_count": 66,
     "metadata": {},
     "output_type": "execute_result"
    }
   ],
   "source": [
    "get_gene_stats(dfgenehits, gene_classes)['expected_ratio']"
   ]
  },
  {
   "cell_type": "code",
   "execution_count": 67,
   "metadata": {},
   "outputs": [
    {
     "name": "stdout",
     "output_type": "stream",
     "text": [
      "saving to /home/hielke/bep/enrichment_analysis/phages_excluded/\n"
     ]
    }
   ],
   "source": [
    "# A table of genes that have a value of selfhits greater than expected. \n",
    "if save:\n",
    "    print('saving to %s' % result_folder)\n",
    "    p_corr_greater.query('count >= 0').sort_values(by='count', ascending=False).to_csv(result_folder + 'greater.csv', sep='\\t', index=False)"
   ]
  },
  {
   "cell_type": "code",
   "execution_count": 68,
   "metadata": {},
   "outputs": [
    {
     "data": {
      "image/png": "[encoded data removed]",
      "text/plain": [
       "<Figure size 432x288 with 1 Axes>"
      ]
     },
     "metadata": {},
     "output_type": "display_data"
    }
   ],
   "source": [
    "alternative = 'less'\n",
    "p_corr_less = gene_test(dfgenehits, gene_classes, alternative, \"fisher_exact\", plot=True)"
   ]
  },
  {
   "cell_type": "code",
   "execution_count": 50,
   "metadata": {},
   "outputs": [],
   "source": [
    "# A table of genes that have a value of seflhits less than expected. (Showing what genes cannot be targeted for a bacteria, so that it dies.)\n",
    "if save:\n",
    "    p_corr_less.query('count >= 0').sort_values(by='total_count', ascending=False).to_csv(result_folder + 'less.csv', sep='\\t', index=False)"
   ]
  },
  {
   "cell_type": "markdown",
   "metadata": {},
   "source": [
    "## Perform test for types individually"
   ]
  },
  {
   "cell_type": "code",
   "execution_count": 54,
   "metadata": {},
   "outputs": [
    {
     "data": {
      "text/html": [
       "<div>\n",
       "<style scoped>\n",
       "    .dataframe tbody tr th:only-of-type {\n",
       "        vertical-align: middle;\n",
       "    }\n",
       "\n",
       "    .dataframe tbody tr th {\n",
       "        vertical-align: top;\n",
       "    }\n",
       "\n",
       "    .dataframe thead th {\n",
       "        text-align: right;\n",
       "    }\n",
       "</style>\n",
       "<table border=\"1\" class=\"dataframe\">\n",
       "  <thead>\n",
       "    <tr style=\"text-align: right;\">\n",
       "      <th></th>\n",
       "      <th>type</th>\n",
       "      <th>class</th>\n",
       "      <th>num_genes</th>\n",
       "    </tr>\n",
       "    <tr>\n",
       "      <th>genome_id</th>\n",
       "      <th></th>\n",
       "      <th></th>\n",
       "      <th></th>\n",
       "    </tr>\n",
       "  </thead>\n",
       "  <tbody>\n",
       "    <tr>\n",
       "      <th>100053.4</th>\n",
       "      <td>CAS-TypeIE</td>\n",
       "      <td>AdditionalAccompaniedSingleUnknown</td>\n",
       "      <td>11</td>\n",
       "    </tr>\n",
       "    <tr>\n",
       "      <th>100053.5</th>\n",
       "      <td>CAS-TypeIE</td>\n",
       "      <td>SingleUnknownExtra</td>\n",
       "      <td>8</td>\n",
       "    </tr>\n",
       "    <tr>\n",
       "      <th>100053.6</th>\n",
       "      <td>CAS-TypeIE</td>\n",
       "      <td>SingleUnknownExtra</td>\n",
       "      <td>8</td>\n",
       "    </tr>\n",
       "    <tr>\n",
       "      <th>100053.7</th>\n",
       "      <td>CAS-TypeIE</td>\n",
       "      <td>SingleUnknownExtra</td>\n",
       "      <td>8</td>\n",
       "    </tr>\n",
       "    <tr>\n",
       "      <th>100053.8</th>\n",
       "      <td>CAS-TypeIE</td>\n",
       "      <td>AccompaniedSingleUnknown</td>\n",
       "      <td>8</td>\n",
       "    </tr>\n",
       "  </tbody>\n",
       "</table>\n",
       "</div>"
      ],
      "text/plain": [
       "                 type                               class  num_genes\n",
       "genome_id                                                           \n",
       "100053.4   CAS-TypeIE  AdditionalAccompaniedSingleUnknown         11\n",
       "100053.5   CAS-TypeIE                  SingleUnknownExtra          8\n",
       "100053.6   CAS-TypeIE                  SingleUnknownExtra          8\n",
       "100053.7   CAS-TypeIE                  SingleUnknownExtra          8\n",
       "100053.8   CAS-TypeIE            AccompaniedSingleUnknown          8"
      ]
     },
     "execution_count": 54,
     "metadata": {},
     "output_type": "execute_result"
    }
   ],
   "source": [
    "df_genome_class = pd.read_csv(data_folder + 'genome.types.csv', sep='\\t', \n",
    "                              names=['genome_id', 'type', 'class', 'num_genes'], \n",
    "                              dtype={'genome_id': str, 'num_genes': int}).set_index('genome_id')\n",
    "df_genome_class.head()"
   ]
  },
  {
   "cell_type": "markdown",
   "metadata": {},
   "source": [
    "### Top level plotting (Of STS in groups \"No CAS genes\", \"Incomplete\", \"Mixed CRISPR System\", \"Complete CRISPR System\")\n",
    "Plots that make use of grouping of genomes in the large (top level) distinctions."
   ]
  },
  {
   "cell_type": "code",
   "execution_count": 55,
   "metadata": {},
   "outputs": [],
   "source": [
    "# Naming used for the groupings.\n",
    "\n",
    "NOCAS = \"No CAS genes\"\n",
    "Mixed = \"Mixed CRISPR System\"\n",
    "Complete = \"Complete CRISPR System\"\n",
    "Incomplete = \"Incomplete CRISPR System\"\n",
    "other = 'Cas-TypeVC | CAS-TypeVIB2'  # 'other'  # Those that exist in all, but not anymore in the selfhit group.\n",
    "# 'CAS-TypeVC': 1, 'CAS-TypeVIB2': 2"
   ]
  },
  {
   "cell_type": "markdown",
   "metadata": {},
   "source": [
    "#### First we make a `new_type_group`"
   ]
  },
  {
   "cell_type": "code",
   "execution_count": 56,
   "metadata": {},
   "outputs": [],
   "source": [
    "def new_type_group(row):\n",
    "#     print(row)\n",
    "    if row['num_genes'] == 0:\n",
    "        return NOCAS\n",
    "    if \"Unclassified\" in row['class']:\n",
    "        return Incomplete\n",
    "    if \"MultipleConfirmed\" in row['class']:\n",
    "        # Confirmed Mixed: The CRISPR array associated confirms that the type is a mixed type.\n",
    "        return Mixed  \n",
    "    if \"/\" in row['type'] or row['type'] == \"CAS\": \n",
    "        return Mixed\n",
    "    return row['type']\n",
    "#     if \"Confirmed\" in row['class']:\n",
    "#         return \"Confirmed \" + row['type']\n",
    "#     if \"Accompanied\" in row['class']:\n",
    "#         return \"Accompanied \" + row['type']\n",
    "    \n",
    "df_genome_class['new_type_group'] = df_genome_class.apply(new_type_group, axis=1)"
   ]
  },
  {
   "cell_type": "code",
   "execution_count": 57,
   "metadata": {},
   "outputs": [
    {
     "data": {
      "text/html": [
       "<div>\n",
       "<style scoped>\n",
       "    .dataframe tbody tr th:only-of-type {\n",
       "        vertical-align: middle;\n",
       "    }\n",
       "\n",
       "    .dataframe tbody tr th {\n",
       "        vertical-align: top;\n",
       "    }\n",
       "\n",
       "    .dataframe thead th {\n",
       "        text-align: right;\n",
       "    }\n",
       "</style>\n",
       "<table border=\"1\" class=\"dataframe\">\n",
       "  <thead>\n",
       "    <tr style=\"text-align: right;\">\n",
       "      <th></th>\n",
       "      <th>new_type_group</th>\n",
       "    </tr>\n",
       "    <tr>\n",
       "      <th>genome_id</th>\n",
       "      <th></th>\n",
       "    </tr>\n",
       "  </thead>\n",
       "  <tbody>\n",
       "    <tr>\n",
       "      <th>100053.4</th>\n",
       "      <td>CAS-TypeIE</td>\n",
       "    </tr>\n",
       "    <tr>\n",
       "      <th>100053.5</th>\n",
       "      <td>CAS-TypeIE</td>\n",
       "    </tr>\n",
       "    <tr>\n",
       "      <th>100053.6</th>\n",
       "      <td>CAS-TypeIE</td>\n",
       "    </tr>\n",
       "    <tr>\n",
       "      <th>100053.7</th>\n",
       "      <td>CAS-TypeIE</td>\n",
       "    </tr>\n",
       "    <tr>\n",
       "      <th>100053.8</th>\n",
       "      <td>CAS-TypeIE</td>\n",
       "    </tr>\n",
       "  </tbody>\n",
       "</table>\n",
       "</div>"
      ],
      "text/plain": [
       "          new_type_group\n",
       "genome_id               \n",
       "100053.4      CAS-TypeIE\n",
       "100053.5      CAS-TypeIE\n",
       "100053.6      CAS-TypeIE\n",
       "100053.7      CAS-TypeIE\n",
       "100053.8      CAS-TypeIE"
      ]
     },
     "execution_count": 57,
     "metadata": {},
     "output_type": "execute_result"
    }
   ],
   "source": [
    "df = df.join(df_genome_class)\n",
    "df_genome_class[['new_type_group']].head()"
   ]
  },
  {
   "cell_type": "code",
   "execution_count": 58,
   "metadata": {},
   "outputs": [],
   "source": [
    "dfgenehits_typed = dfgenehits.join(df_genome_class[['new_type_group']])"
   ]
  },
  {
   "cell_type": "code",
   "execution_count": 59,
   "metadata": {},
   "outputs": [
    {
     "data": {
      "text/plain": [
       "Index(['gene_id', 'seq', 'c_1', 'c_2', 'contig_hit', 'spacer_pos', 'spacer_id',\n",
       "       'hit_ident', 'spacer_size', 'contig_size', 'array_id', 'array_size',\n",
       "       'array_confid', 'repeat_size', 'array_type', 'genome_type',\n",
       "       'PAM_confid', 'poss_PAM', 'PAM_side', 'phage_class', 'with_phage',\n",
       "       'gene_hit', 'gene_class', 'rel_spacer_pos', 'name_spacer_pos',\n",
       "       'new_type_group'],\n",
       "      dtype='object')"
      ]
     },
     "execution_count": 59,
     "metadata": {},
     "output_type": "execute_result"
    }
   ],
   "source": [
    "dfgenehits_typed.columns"
   ]
  },
  {
   "cell_type": "markdown",
   "metadata": {},
   "source": [
    "### Gene enrichment test per type"
   ]
  },
  {
   "cell_type": "code",
   "execution_count": 60,
   "metadata": {},
   "outputs": [
    {
     "data": {
      "text/html": [
       "<div>\n",
       "<style scoped>\n",
       "    .dataframe tbody tr th:only-of-type {\n",
       "        vertical-align: middle;\n",
       "    }\n",
       "\n",
       "    .dataframe tbody tr th {\n",
       "        vertical-align: top;\n",
       "    }\n",
       "\n",
       "    .dataframe thead th {\n",
       "        text-align: right;\n",
       "    }\n",
       "</style>\n",
       "<table border=\"1\" class=\"dataframe\">\n",
       "  <thead>\n",
       "    <tr style=\"text-align: right;\">\n",
       "      <th></th>\n",
       "    </tr>\n",
       "  </thead>\n",
       "  <tbody>\n",
       "  </tbody>\n",
       "</table>\n",
       "</div>"
      ],
      "text/plain": [
       "Empty DataFrame\n",
       "Columns: []\n",
       "Index: []"
      ]
     },
     "execution_count": 60,
     "metadata": {},
     "output_type": "execute_result"
    }
   ],
   "source": [
    "from IPython.display import display, HTML\n",
    "\n",
    "def print_test_results(part, alternative, save=False):\n",
    "    \"\"\"Perform the gene enrichment test per CRISPR type.\"\"\"\n",
    "    \n",
    "    crispr_type = part['new_type_group'].iloc[0]\n",
    "    \n",
    "    \n",
    "    crispr_type_genome_ids = set(part.index)\n",
    "    part_gene_classes = dfgenes[dfgenes.index.isin(crispr_type_genome_ids)][\"gene_class\"].value_counts()\n",
    "    \n",
    "    \n",
    "    p_val = gene_test(part, part_gene_classes, alternative, \"fisher_exact\")\n",
    "    \n",
    "    if not p_val.empty:\n",
    "        res = p_val.query('count >= 0').sort_values(by='count', ascending=False)\n",
    "        \n",
    "        if save:\n",
    "            res.to_csv(result_folder + 'genes/' + crispr_type + '_' + alternative + '.csv', sep='\\t', index=False)\n",
    "        else:\n",
    "            print(crispr_type, len(part))\n",
    "            display(HTML(res.to_html()))\n",
    "            \n",
    "    \n",
    "# save_test_results = partial(print_test_results, save=False, alternative='greater')\n",
    "dfgenehits_typed.groupby(by='new_type_group').apply(lambda x : print_test_results(x, save=save, alternative='greater'))"
   ]
  },
  {
   "cell_type": "markdown",
   "metadata": {},
   "source": [
    "# Pfam analysis\n",
    "Checking for pfam domains in genes instead of the combined annotation of multiple methods as interproscan does. "
   ]
  },
  {
   "cell_type": "markdown",
   "metadata": {},
   "source": [
    "## Read in data"
   ]
  },
  {
   "cell_type": "code",
   "execution_count": 23,
   "metadata": {},
   "outputs": [
    {
     "data": {
      "text/html": [
       "<div>\n",
       "<style scoped>\n",
       "    .dataframe tbody tr th:only-of-type {\n",
       "        vertical-align: middle;\n",
       "    }\n",
       "\n",
       "    .dataframe tbody tr th {\n",
       "        vertical-align: top;\n",
       "    }\n",
       "\n",
       "    .dataframe thead th {\n",
       "        text-align: right;\n",
       "    }\n",
       "</style>\n",
       "<table border=\"1\" class=\"dataframe\">\n",
       "  <thead>\n",
       "    <tr style=\"text-align: right;\">\n",
       "      <th></th>\n",
       "      <th>genome_id</th>\n",
       "      <th>gene_id</th>\n",
       "      <th>pfam_class</th>\n",
       "      <th>hit</th>\n",
       "    </tr>\n",
       "  </thead>\n",
       "  <tbody>\n",
       "    <tr>\n",
       "      <th>0</th>\n",
       "      <td>100053.4</td>\n",
       "      <td>JQGS01000192_7</td>\n",
       "      <td>Tetrapyrrole (Corrin/Porphyrin) Methylases</td>\n",
       "      <td>0</td>\n",
       "    </tr>\n",
       "    <tr>\n",
       "      <th>1</th>\n",
       "      <td>100053.4</td>\n",
       "      <td>JQGS01000090_14</td>\n",
       "      <td>Bacterial regulatory proteins, tetR family</td>\n",
       "      <td>0</td>\n",
       "    </tr>\n",
       "    <tr>\n",
       "      <th>2</th>\n",
       "      <td>100053.4</td>\n",
       "      <td>JQGS01000039_25</td>\n",
       "      <td>Respiratory-chain NADH dehydrogenase, 49 Kd subunit</td>\n",
       "      <td>0</td>\n",
       "    </tr>\n",
       "    <tr>\n",
       "      <th>3</th>\n",
       "      <td>100053.4</td>\n",
       "      <td>JQGS01000004_86</td>\n",
       "      <td>7TM diverse intracellular signalling</td>\n",
       "      <td>0</td>\n",
       "    </tr>\n",
       "    <tr>\n",
       "      <th>4</th>\n",
       "      <td>100053.4</td>\n",
       "      <td>JQGS01000004_86</td>\n",
       "      <td>Stage II sporulation protein E (SpoIIE)</td>\n",
       "      <td>0</td>\n",
       "    </tr>\n",
       "  </tbody>\n",
       "</table>\n",
       "</div>"
      ],
      "text/plain": [
       "  genome_id          gene_id  \\\n",
       "0  100053.4   JQGS01000192_7   \n",
       "1  100053.4  JQGS01000090_14   \n",
       "2  100053.4  JQGS01000039_25   \n",
       "3  100053.4  JQGS01000004_86   \n",
       "4  100053.4  JQGS01000004_86   \n",
       "\n",
       "                                            pfam_class  hit  \n",
       "0           Tetrapyrrole (Corrin/Porphyrin) Methylases    0  \n",
       "1           Bacterial regulatory proteins, tetR family    0  \n",
       "2  Respiratory-chain NADH dehydrogenase, 49 Kd subunit    0  \n",
       "3                 7TM diverse intracellular signalling    0  \n",
       "4              Stage II sporulation protein E (SpoIIE)    0  "
      ]
     },
     "execution_count": 23,
     "metadata": {},
     "output_type": "execute_result"
    }
   ],
   "source": [
    "# Just as with the gene selection (note: take the correct ident):\n",
    "# alias mtawk=\"mawk -F '\\t' -v OFS='\\t'\"\n",
    "# mtawk 'FNR==NR{a[$1]=1;next} $1 in a' selection_for_gene_classification pfam.all > pfam.90\n",
    "# Getting the gene hits\n",
    "# $26 is the gene_id, $9 is the identity of the hit.\n",
    "# mtawk 'FNR==NR{if($9>90){a[$1\"@\"$26]=1;}next} {$16=($1\"@\"$2 in a)}1' hits.tsv.header.csv pfam.90 > pfam.90.hits\n",
    "ident = 90\n",
    "dfpfam = pd.read_csv(data_folder + 'pfam.%d.hits' % ident, sep='\\t', usecols=[0, 1, 6, 15],\n",
    "                      names=['genome_id', 'gene_id', 'pfam_class', 'hit'], \n",
    "                      dtype={'genome_id': str, 'hit': int})\n",
    "dfpfam.head()"
   ]
  },
  {
   "cell_type": "code",
   "execution_count": 24,
   "metadata": {},
   "outputs": [],
   "source": [
    "dfpfam = dfpfam.drop_duplicates().set_index('genome_id')"
   ]
  },
  {
   "cell_type": "code",
   "execution_count": 25,
   "metadata": {},
   "outputs": [
    {
     "data": {
      "text/plain": [
       "ABC transporter                                                        577659\n",
       "Binding-protein-dependent transport system inner membrane component    304812\n",
       "Response regulator receiver domain                                     297822\n",
       "Major Facilitator Superfamily                                          292028\n",
       "Helix-turn-helix domain                                                272766\n",
       "Name: pfam_class, dtype: int64"
      ]
     },
     "execution_count": 25,
     "metadata": {},
     "output_type": "execute_result"
    }
   ],
   "source": [
    "pfam_classes = dfpfam['pfam_class'].value_counts()\n",
    "pfam_classes.head()"
   ]
  },
  {
   "cell_type": "code",
   "execution_count": 26,
   "metadata": {},
   "outputs": [
    {
     "data": {
      "text/plain": [
       "AAA domain                                                        339\n",
       "Phage-related minor tail protein                                  283\n",
       "Prophage endopeptidase tail                                       262\n",
       "Phage integrase family                                            260\n",
       "Initiator Replication protein                                     211\n",
       "Winged helix-turn-helix DNA-binding                               209\n",
       "Helicase conserved C-terminal domain                              178\n",
       "Putative phage tail protein                                       171\n",
       "Helix-turn-helix domain                                           171\n",
       "D-alanyl-D-alanine carboxypeptidase                               150\n",
       "DEAD/DEAH box helicase                                            131\n",
       "Methyltransferase small domain                                    127\n",
       "Helix-turn-helix                                                  125\n",
       "Zonular occludens toxin (Zot)                                     124\n",
       "Antirestriction protein                                           105\n",
       "3D domain                                                         103\n",
       "MltA specific insert domain                                       103\n",
       "Phage capsid family                                               100\n",
       "C-5 cytosine-specific DNA methylase                                98\n",
       "Phage tail protein                                                 98\n",
       "Uncharacterized conserved protein (DUF2280)                        97\n",
       "BppU N-terminal domain                                             96\n",
       "Phage Mu protein F like protein                                    94\n",
       "N-acetylmuramoyl-L-alanine amidase                                 88\n",
       "Prophage tail length tape measure protein                          86\n",
       "Phage integrase, N-terminal SAM-like domain                        83\n",
       "HD domain                                                          81\n",
       "Lambda phage tail tape-measure protein (Tape_meas_lam_C)           81\n",
       "Arm DNA-binding domain                                             80\n",
       "Phage portal protein, SPP1 Gp6-like                                73\n",
       "Phage tail sheath protein subtilisin-like domain                   73\n",
       "Radical SAM superfamily                                            70\n",
       "UvrB interaction domain                                            67\n",
       "TRCF domain                                                        66\n",
       "CarD-like/TRCF domain                                              66\n",
       "Major tropism determinant N-terminal domain                        65\n",
       "Hyaluronidase protein (HylP)                                       64\n",
       "Sodium:sulfate symporter transmembrane region                      64\n",
       "F pilus assembly Type-IV secretion system for plasmid transfer     63\n",
       "TraL protein                                                       61\n",
       "FtsX-like permease family                                          60\n",
       "NlpC/P60 family                                                    60\n",
       "Replication initiation factor                                      60\n",
       "Phage portal protein                                               59\n",
       "Glucose inhibited division protein A                               59\n",
       "Helix-hairpin-helix motif                                          58\n",
       "ABC transporter                                                    57\n",
       "HemN C-terminal domain                                             55\n",
       "Phage tail tube protein                                            55\n",
       "Phage antirepressor protein KilAC domain                           53\n",
       "Name: pfam_class, dtype: int64"
      ]
     },
     "execution_count": 26,
     "metadata": {},
     "output_type": "execute_result"
    }
   ],
   "source": [
    "pfam_class_hits = dfpfam.query(\"hit == 1\")[\"pfam_class\"].value_counts()\n",
    "pfam_class_hits.head(50)"
   ]
  },
  {
   "cell_type": "markdown",
   "metadata": {},
   "source": [
    "The input values for the tests needed to be altered a little, since a gene can contain multiple pfam regions, and not in all genes a pfam is found. "
   ]
  },
  {
   "cell_type": "code",
   "execution_count": 27,
   "metadata": {},
   "outputs": [],
   "source": [
    "def get_pfam_stats(dfgenehits, gene_classes, pfam_classes, pfam_class_hits):\n",
    "    \n",
    "    gene_stats = get_gene_stats(dfgenehits, gene_classes)\n",
    "    gene_stats['gene_class_hits'] = pfam_class_hits\n",
    "    gene_stats['gene_classes'] = pfam_classes\n",
    "    \n",
    "    return gene_stats\n",
    "\n",
    "\n",
    "def pfam_test(dfgenehits, gene_classes, pfam_classes, pfam_class_hits, alternative, method, plot=False):\n",
    "    gene_stats = get_pfam_stats(dfgenehits, gene_classes, pfam_classes, pfam_class_hits)\n",
    "    return enrichment_test(gene_stats, alternative, method, plot)"
   ]
  },
  {
   "cell_type": "markdown",
   "metadata": {},
   "source": [
    "## Pfam for all"
   ]
  },
  {
   "cell_type": "code",
   "execution_count": 49,
   "metadata": {},
   "outputs": [
    {
     "data": {
      "image/png": "[encoded data removed]",
      "text/plain": [
       "<Figure size 432x288 with 1 Axes>"
      ]
     },
     "metadata": {
      "needs_background": "light"
     },
     "output_type": "display_data"
    }
   ],
   "source": [
    "# Change the alternative hypothesis to test to see what genes have more or less than expected STSs (greater / less).\n",
    "alternative = 'greater'\n",
    "p_corr_greater = pfam_test(dfgenehits, gene_classes, pfam_classes, pfam_class_hits, alternative, \"fisher_exact\", plot=True)"
   ]
  },
  {
   "cell_type": "code",
   "execution_count": 50,
   "metadata": {},
   "outputs": [],
   "source": [
    "if save:\n",
    "    p_corr_greater.query('count >= 0').sort_values(by='count', ascending=False).to_csv(result_folder + \"pfam/greater.csv\", sep='\\t', index=False)"
   ]
  },
  {
   "cell_type": "code",
   "execution_count": 51,
   "metadata": {},
   "outputs": [
    {
     "data": {
      "image/png": "[encoded data removed]",
      "text/plain": [
       "<Figure size 432x288 with 1 Axes>"
      ]
     },
     "metadata": {
      "needs_background": "light"
     },
     "output_type": "display_data"
    }
   ],
   "source": [
    "# Change the alternative hypothesis to test to see what genes have more or less than expected STSs (greater / less).\n",
    "alternative = 'less'\n",
    "p_corr_less = pfam_test(dfgenehits, gene_classes, pfam_classes, pfam_class_hits, alternative, \"fisher_exact\", plot=True)"
   ]
  },
  {
   "cell_type": "code",
   "execution_count": 52,
   "metadata": {},
   "outputs": [],
   "source": [
    "if save:\n",
    "    p_corr_less.query('count >= 0').sort_values(by='count', ascending=False).to_csv(result_folder + \"pfam/less.csv\", sep='\\t', index=False)"
   ]
  },
  {
   "cell_type": "markdown",
   "metadata": {},
   "source": [
    "## Pfam test for each type individually"
   ]
  },
  {
   "cell_type": "code",
   "execution_count": 54,
   "metadata": {},
   "outputs": [
    {
     "data": {
      "text/html": [
       "<div>\n",
       "<style scoped>\n",
       "    .dataframe tbody tr th:only-of-type {\n",
       "        vertical-align: middle;\n",
       "    }\n",
       "\n",
       "    .dataframe tbody tr th {\n",
       "        vertical-align: top;\n",
       "    }\n",
       "\n",
       "    .dataframe thead th {\n",
       "        text-align: right;\n",
       "    }\n",
       "</style>\n",
       "<table border=\"1\" class=\"dataframe\">\n",
       "  <thead>\n",
       "    <tr style=\"text-align: right;\">\n",
       "      <th></th>\n",
       "    </tr>\n",
       "  </thead>\n",
       "  <tbody>\n",
       "  </tbody>\n",
       "</table>\n",
       "</div>"
      ],
      "text/plain": [
       "Empty DataFrame\n",
       "Columns: []\n",
       "Index: []"
      ]
     },
     "execution_count": 54,
     "metadata": {},
     "output_type": "execute_result"
    }
   ],
   "source": [
    "from IPython.display import display, HTML\n",
    "\n",
    "def print_test_results(part, alternative, save=False):\n",
    "    \"\"\"Perform the gene enrichment test per CRISPR type.\"\"\"\n",
    "    \n",
    "    crispr_type = part['new_type_group'].iloc[0]\n",
    "    \n",
    "    crispr_type_genome_ids = set(part.index)\n",
    "    dfpfam_this_type = dfpfam.index.isin(crispr_type_genome_ids)\n",
    "    \n",
    "    part_gene_classes = dfgenes[dfgenes.index.isin(crispr_type_genome_ids)][\"gene_class\"].value_counts()\n",
    "    part_pfam_classes = dfpfam[dfpfam_this_type]['pfam_class'].value_counts()\n",
    "    part_pfam_class_hits = dfpfam[dfpfam_this_type].query(\"hit == 1\")['pfam_class'].value_counts()\n",
    "    \n",
    "    p_val = pfam_test(part, part_gene_classes, part_pfam_classes, part_pfam_class_hits, alternative, \"fisher_exact\")\n",
    "    \n",
    "    if not p_val.empty:\n",
    "        res = p_val.query('count >= 0').sort_values(by='count', ascending=False)\n",
    "        \n",
    "        if save:\n",
    "            res.to_csv(result_folder + 'pfam/' + crispr_type + '_' + alternative + '.csv', sep='\\t', index=False)\n",
    "        else:\n",
    "            print(crispr_type, len(part))\n",
    "            display(HTML(res.to_html()))\n",
    "            \n",
    "    \n",
    "# save_test_results = partial(print_test_results, save=False, alternative='greater')\n",
    "dfgenehits_typed.groupby(by='new_type_group').apply(lambda x : print_test_results(x, save=save, alternative='less'))"
   ]
  },
  {
   "cell_type": "code",
   "execution_count": null,
   "metadata": {},
   "outputs": [],
   "source": []
  }
 ],
 "metadata": {
  "kernelspec": {
   "display_name": "Python 3",
   "language": "python",
   "name": "python3"
  },
  "language_info": {
   "codemirror_mode": {
    "name": "ipython",
    "version": 3
   },
   "file_extension": ".py",
   "mimetype": "text/x-python",
   "name": "python",
   "nbconvert_exporter": "python",
   "pygments_lexer": "ipython3",
   "version": "3.7.3"
  }
 },
 "nbformat": 4,
 "nbformat_minor": 2
}
