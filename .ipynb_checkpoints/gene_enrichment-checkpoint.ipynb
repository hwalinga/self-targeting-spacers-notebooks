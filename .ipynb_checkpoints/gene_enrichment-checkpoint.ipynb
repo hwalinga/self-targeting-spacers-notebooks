{
 "cells": [
  {
   "cell_type": "code",
   "execution_count": 1,
   "metadata": {},
   "outputs": [],
   "source": [
    "import pandas as pd\n",
    "from matplotlib import pyplot as plt\n",
    "import matplotlib as mpl\n",
    "import seaborn as sns\n",
    "import numpy as np\n",
    "from scipy import stats\n",
    "# %matplotlib inline\n",
    "pd.options.display.max_columns = None\n",
    "def increase_figsize(N, plt):\n",
    "    params = plt.gcf()\n",
    "    axes = params.get_axes()\n",
    "    plSize = params.get_size_inches()\n",
    "    params.set_size_inches( (plSize[0]*N, plSize[1]*N) )\n",
    "def increase_figsize2(N, fig):\n",
    "    params = fig\n",
    "    axes = params.get_axes()\n",
    "    plSize = params.get_size_inches()\n",
    "    params.set_size_inches( (plSize[0]*N, plSize[1]*N) )\n",
    "def increase_size_by(N, fontsize, plt):\n",
    "    params = plt.gcf()\n",
    "    axes = params.get_axes()\n",
    "    plSize = params.get_size_inches()\n",
    "    params.set_size_inches( (plSize[0]*N, plSize[1]*N) )\n",
    "    for ax in axes:\n",
    "        for item in ([ax.title, ax.xaxis.label, ax.yaxis.label] +\n",
    "                ax.get_xticklabels() + ax.get_yticklabels()):\n",
    "            item.set_fontsize(fontsize)\n",
    "cbf = ['#377eb8', '#ff7f00', '#4daf4a',\n",
    "                  '#f781bf', '#a65628', '#984ea3',\n",
    "'#999999', '#e41a1c', '#dede00']\n",
    "cbf_map = mpl.colors.ListedColormap(cbf)\n",
    "rc = {'axes.facecolor': 'white', 'axes.edgecolor': '.15', 'axes.axisbelow': True, 'figure.facecolor': 'white',\n",
    "      'axes.labelcolor': '.15',  'text.color': '.25',\n",
    "      'patch.force_edgecolor': True, 'patch.edgecolor': 'w',\n",
    "      'xtick.bottom': True, 'ytick.left': True, 'xtick.color': '.15', 'ytick.color': '.15',\n",
    "      'grid.linestyle': '-', 'axes.grid': False, 'grid.color': '.8', \n",
    "      'font.size': 30, \n",
    "      'xtick.labelsize': 15, 'ytick.labelsize': 15, \n",
    "      'axes.titlesize': 22,\n",
    "      'axes.labelsize': 15,\n",
    "      'legend.fontsize': 18, 'legend.title_fontsize': 30,\n",
    "      }\n",
    "sns.set(rc=rc)\n",
    "sns.set_palette(cbf)\n",
    "pd.set_option('display.max_rows', 500)\n",
    "pd.set_option('display.max_columns', 500)"
   ]
  },
  {
   "cell_type": "code",
   "execution_count": 2,
   "metadata": {},
   "outputs": [
    {
     "data": {
      "application/javascript": [
       "IPython.OutputArea.prototype._should_scroll = function(lines) {\n",
       "    return false;\n",
       "}\n"
      ],
      "text/plain": [
       "<IPython.core.display.Javascript object>"
      ]
     },
     "metadata": {},
     "output_type": "display_data"
    }
   ],
   "source": [
    "%%javascript\n",
    "IPython.OutputArea.prototype._should_scroll = function(lines) {\n",
    "    return false;\n",
    "}"
   ]
  },
  {
   "cell_type": "code",
   "execution_count": 3,
   "metadata": {},
   "outputs": [],
   "source": [
    "data_folder = '/home/hielke/bep/res/'\n",
    "fig_folder = '/home/hielke/bep/figs/SECOND/'\n",
    "first_order = 'C'\n",
    "second_order = 0\n",
    "save = False\n",
    "title_mod = \"\""
   ]
  },
  {
   "cell_type": "code",
   "execution_count": 4,
   "metadata": {},
   "outputs": [],
   "source": [
    "df = pd.read_csv(data_folder + 'gene.matched.tsv.smallarraycheck', sep='\\t', \n",
    "                 names=['genome_key', 'genome_id', 'contig_hit', 'c_1', 'c_2', 'spacer_id', 'hit_ident', 'spacer_size', \n",
    "                        'contig_size', '3_prime', '5_prime', 'array_id', 'array_size', 'array_confid', 'repeat_size', 'array_type', 'genome_type',\n",
    "                        'PAM_confid', 'poss_PAM', 'PAM_side', 'phage_class', 'with_phage',  'gene_hit', 'gene_id', 'gene_class'],\n",
    "                index_col=False, keep_default_na=False, dtype={'genome_id': str}).set_index('genome_id')\n",
    "df.drop(['3_prime', '5_prime', 'genome_key',], axis=1, inplace=True)"
   ]
  },
  {
   "cell_type": "code",
   "execution_count": 12,
   "metadata": {},
   "outputs": [],
   "source": [
    "df80 = df.query('hit_ident > 80 and gene_id != \"NULL\"')\n",
    "dfgenehits = df80.groupby([df80.index, 'gene_id']).nth(0)\n",
    "import csv\n",
    "with open(data_folder + 'selection_for_gene_classification', 'w') as f:\n",
    "    f.writelines(line + '\\n' for line in set(df80.index))"
   ]
  },
  {
   "cell_type": "code",
   "execution_count": 13,
   "metadata": {},
   "outputs": [],
   "source": [
    "# PERFORM SELECTION AS FOLLOWS:\n",
    "# alias mtawk=\"mawk -F '\\t' -v OFS='\\t'\"\n",
    "# mtawk 'FNR==NR{hits[$0]=1;next;} $1 in hits' selection_for_gene_classification gene_classification > gene_classification.sel\n",
    "dfgenes = pd.read_csv(data_folder + 'gene_classification.sel', sep='\\t', names=['gene_id', 's', 'e', 'side', 'gene_class'])"
   ]
  },
  {
   "cell_type": "code",
   "execution_count": 14,
   "metadata": {},
   "outputs": [],
   "source": [
    "gene_classes = dfgenes['gene_class'].value_counts()"
   ]
  },
  {
   "cell_type": "code",
   "execution_count": 94,
   "metadata": {},
   "outputs": [
    {
     "data": {
      "text/plain": [
       "gene_class\n",
       "UNCLASSIFIED                                           5442\n",
       "UNKNOWN                                                3227\n",
       "P-loop containing nucleoside triphosphate hydrolase     812\n",
       "Bacteriophage Lambda NinG protein                       498\n",
       "DNA breaking-rejoining enzyme, catalytic core           419\n",
       "Name: gene_class, dtype: int64"
      ]
     },
     "execution_count": 94,
     "metadata": {},
     "output_type": "execute_result"
    }
   ],
   "source": [
    "# GENE ENRICHEMENT\n",
    "# UNIQUE GENES\n",
    "# CHI SQUARE TEST\n",
    "gene_class_hits = dfgenehits['gene_class'].values_counts()\n",
    "# gene_class_hits.sort_values(ascending=False\n",
    "from scipy.stats.mstats import chisquare\n",
    "\n"
   ]
  },
  {
   "cell_type": "code",
   "execution_count": 143,
   "metadata": {},
   "outputs": [
    {
     "data": {
      "text/plain": [
       "16811"
      ]
     },
     "execution_count": 143,
     "metadata": {},
     "output_type": "execute_result"
    }
   ],
   "source": [
    "test = gene_class_hits.reindex(index=gene_classes.index, fill_value=0)\n"
   ]
  },
  {
   "cell_type": "code",
   "execution_count": null,
   "metadata": {},
   "outputs": [],
   "source": []
  }
 ],
 "metadata": {
  "kernelspec": {
   "display_name": "Python 3",
   "language": "python",
   "name": "python3"
  },
  "language_info": {
   "codemirror_mode": {
    "name": "ipython",
    "version": 3
   },
   "file_extension": ".py",
   "mimetype": "text/x-python",
   "name": "python",
   "nbconvert_exporter": "python",
   "pygments_lexer": "ipython3",
   "version": "3.5.3"
  }
 },
 "nbformat": 4,
 "nbformat_minor": 2
}
